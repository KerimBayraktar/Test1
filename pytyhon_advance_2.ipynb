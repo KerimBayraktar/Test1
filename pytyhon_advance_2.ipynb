{
 "cells": [
  {
   "cell_type": "markdown",
   "metadata": {},
   "source": [
    "## Global Degimi"
   ]
  },
  {
   "cell_type": "code",
   "execution_count": 13,
   "metadata": {},
   "outputs": [],
   "source": [
    "a =  55\n",
    "def deneme(x,y):\n",
    "    return x + y + a"
   ]
  },
  {
   "cell_type": "code",
   "execution_count": 14,
   "metadata": {},
   "outputs": [
    {
     "data": {
      "text/plain": [
       "66"
      ]
     },
     "execution_count": 14,
     "metadata": {},
     "output_type": "execute_result"
    }
   ],
   "source": [
    "b = deneme(5,6)\n",
    "b"
   ]
  },
  {
   "cell_type": "code",
   "execution_count": 15,
   "metadata": {},
   "outputs": [],
   "source": [
    "a =  55\n",
    "def deneme(x,y):\n",
    "    a = 25\n",
    "    return x + y + a"
   ]
  },
  {
   "cell_type": "code",
   "execution_count": 16,
   "metadata": {},
   "outputs": [
    {
     "data": {
      "text/plain": [
       "36"
      ]
     },
     "execution_count": 16,
     "metadata": {},
     "output_type": "execute_result"
    }
   ],
   "source": [
    "deneme(5,6)"
   ]
  },
  {
   "cell_type": "code",
   "execution_count": 17,
   "metadata": {},
   "outputs": [
    {
     "data": {
      "text/plain": [
       "55"
      ]
     },
     "execution_count": 17,
     "metadata": {},
     "output_type": "execute_result"
    }
   ],
   "source": [
    "a"
   ]
  },
  {
   "cell_type": "code",
   "execution_count": 18,
   "metadata": {},
   "outputs": [],
   "source": [
    "x = set()\n",
    "def fonk():\n",
    "    x.add(10)\n",
    "    return x"
   ]
  },
  {
   "cell_type": "code",
   "execution_count": 19,
   "metadata": {},
   "outputs": [
    {
     "name": "stdout",
     "output_type": "stream",
     "text": [
      "{10}\n"
     ]
    }
   ],
   "source": [
    "print(fonk())"
   ]
  },
  {
   "cell_type": "code",
   "execution_count": 22,
   "metadata": {},
   "outputs": [],
   "source": [
    "isim = \"Turabi\"\n",
    "isim += \" Ozgul\""
   ]
  },
  {
   "cell_type": "code",
   "execution_count": 23,
   "metadata": {},
   "outputs": [
    {
     "data": {
      "text/plain": [
       "'Turabi Ozgul'"
      ]
     },
     "execution_count": 23,
     "metadata": {},
     "output_type": "execute_result"
    }
   ],
   "source": [
    "isim"
   ]
  },
  {
   "cell_type": "code",
   "execution_count": 26,
   "metadata": {},
   "outputs": [
    {
     "ename": "UnboundLocalError",
     "evalue": "local variable 'isim' referenced before assignment",
     "output_type": "error",
     "traceback": [
      "\u001b[1;31m---------------------------------------------------------------------------\u001b[0m",
      "\u001b[1;31mUnboundLocalError\u001b[0m                         Traceback (most recent call last)",
      "Cell \u001b[1;32mIn [26], line 5\u001b[0m\n\u001b[0;32m      3\u001b[0m     isim \u001b[39m+\u001b[39m\u001b[39m=\u001b[39m \u001b[39m\"\u001b[39m\u001b[39m Ozgul\u001b[39m\u001b[39m\"\u001b[39m\n\u001b[0;32m      4\u001b[0m     \u001b[39mreturn\u001b[39;00m isim\n\u001b[1;32m----> 5\u001b[0m \u001b[39mprint\u001b[39m(fonk())\n",
      "Cell \u001b[1;32mIn [26], line 3\u001b[0m, in \u001b[0;36mfonk\u001b[1;34m()\u001b[0m\n\u001b[0;32m      2\u001b[0m \u001b[39mdef\u001b[39;00m \u001b[39mfonk\u001b[39m():\n\u001b[1;32m----> 3\u001b[0m     isim \u001b[39m+\u001b[39m\u001b[39m=\u001b[39m \u001b[39m\"\u001b[39m\u001b[39m Ozgul\u001b[39m\u001b[39m\"\u001b[39m\n\u001b[0;32m      4\u001b[0m     \u001b[39mreturn\u001b[39;00m isim\n",
      "\u001b[1;31mUnboundLocalError\u001b[0m: local variable 'isim' referenced before assignment"
     ]
    }
   ],
   "source": [
    "isim = \"Turabi\"\n",
    "def fonk():\n",
    "    isim += \" Ozgul\"\n",
    "    return isim\n",
    "print(fonk())"
   ]
  },
  {
   "cell_type": "code",
   "execution_count": 27,
   "metadata": {},
   "outputs": [
    {
     "name": "stdout",
     "output_type": "stream",
     "text": [
      "Turabi Ozgul\n"
     ]
    }
   ],
   "source": [
    "isim = \"Turabi\"\n",
    "def fonk():\n",
    "    global isim\n",
    "    isim += \" Ozgul\"\n",
    "    return isim\n",
    "print(fonk())"
   ]
  },
  {
   "cell_type": "code",
   "execution_count": 30,
   "metadata": {},
   "outputs": [],
   "source": [
    "def deneme(x,y):\n",
    "    global f\n",
    "    f = 25\n",
    "    return x + y + f"
   ]
  },
  {
   "cell_type": "code",
   "execution_count": 33,
   "metadata": {},
   "outputs": [
    {
     "data": {
      "text/plain": [
       "40"
      ]
     },
     "execution_count": 33,
     "metadata": {},
     "output_type": "execute_result"
    }
   ],
   "source": [
    "deneme(5,10)"
   ]
  },
  {
   "cell_type": "code",
   "execution_count": 34,
   "metadata": {},
   "outputs": [
    {
     "data": {
      "text/plain": [
       "25"
      ]
     },
     "execution_count": 34,
     "metadata": {},
     "output_type": "execute_result"
    }
   ],
   "source": [
    "f"
   ]
  },
  {
   "cell_type": "markdown",
   "metadata": {},
   "source": [
    "## eval() ve exec()"
   ]
  },
  {
   "cell_type": "code",
   "execution_count": 39,
   "metadata": {},
   "outputs": [
    {
     "name": "stdout",
     "output_type": "stream",
     "text": [
      "Help on built-in function eval in module builtins:\n",
      "\n",
      "eval(source, globals=None, locals=None, /)\n",
      "    Evaluate the given source in the context of globals and locals.\n",
      "    \n",
      "    The source may be a string representing a Python expression\n",
      "    or a code object as returned by compile().\n",
      "    The globals must be a dictionary and locals can be any mapping,\n",
      "    defaulting to the current globals and locals.\n",
      "    If only globals is given, locals defaults to it.\n",
      "\n"
     ]
    }
   ],
   "source": [
    "help(eval)"
   ]
  },
  {
   "cell_type": "code",
   "execution_count": 40,
   "metadata": {},
   "outputs": [],
   "source": [
    "ocak = mart = mayis = temmuz = 31\n",
    "nisan = haziran = 30\n",
    "subat = 28"
   ]
  },
  {
   "cell_type": "code",
   "execution_count": 42,
   "metadata": {},
   "outputs": [],
   "source": [
    "donem = input(\"\"\"hangi aya ait faturfayi hesap^lamak istersiniz?\"\"\")"
   ]
  },
  {
   "cell_type": "code",
   "execution_count": 45,
   "metadata": {},
   "outputs": [
    {
     "name": "stdout",
     "output_type": "stream",
     "text": [
      "mart 31\n"
     ]
    }
   ],
   "source": [
    "ay = eval(donem)\n",
    "print(donem, ay)"
   ]
  },
  {
   "cell_type": "code",
   "execution_count": 47,
   "metadata": {},
   "outputs": [
    {
     "data": {
      "text/plain": [
       "2"
      ]
     },
     "execution_count": 47,
     "metadata": {},
     "output_type": "execute_result"
    }
   ],
   "source": [
    "x = 1\n",
    "eval('x+1')"
   ]
  },
  {
   "cell_type": "code",
   "execution_count": 48,
   "metadata": {},
   "outputs": [
    {
     "data": {
      "text/plain": [
       "11"
      ]
     },
     "execution_count": 48,
     "metadata": {},
     "output_type": "execute_result"
    }
   ],
   "source": [
    "eval('5+6')"
   ]
  },
  {
   "cell_type": "code",
   "execution_count": 50,
   "metadata": {},
   "outputs": [
    {
     "name": "stdout",
     "output_type": "stream",
     "text": [
      "\n",
      "Basit bir hesap makinesi uygulaması.\n",
      "İşleçler:\n",
      "    +   toplama\n",
      "    -   çıkarma\n",
      "    *   çarpma\n",
      "    /   bölme\n",
      "Yapmak istediğiniz işlemi yazıp ENTER\n",
      "tuşuna basın. (Örneğin 23 ve 46 sayılarını\n",
      "çarpmak için 23 * 46 yazdıktan sonra\n",
      "ENTER tuşuna basın.)\n",
      "\n",
      "25\n"
     ]
    }
   ],
   "source": [
    "print(\"\"\"\n",
    "Basit bir hesap makinesi uygulaması.\n",
    "İşleçler:\n",
    "    +   toplama\n",
    "    -   çıkarma\n",
    "    *   çarpma\n",
    "    /   bölme\n",
    "Yapmak istediğiniz işlemi yazıp ENTER\n",
    "tuşuna basın. (Örneğin 23 ve 46 sayılarını\n",
    "çarpmak için 23 * 46 yazdıktan sonra\n",
    "ENTER tuşuna basın.)\n",
    "\"\"\")\n",
    "veri = input(\"İşleminiz: \")\n",
    "hesap = eval(veri)\n",
    "print(hesap)"
   ]
  },
  {
   "cell_type": "code",
   "execution_count": 52,
   "metadata": {},
   "outputs": [
    {
     "name": "stdout",
     "output_type": "stream",
     "text": [
      "5\n"
     ]
    }
   ],
   "source": [
    "aa = 'print(5)'\n",
    "eval(aa)"
   ]
  },
  {
   "cell_type": "code",
   "execution_count": 53,
   "metadata": {},
   "outputs": [
    {
     "data": {
      "text/plain": [
       "10"
      ]
     },
     "execution_count": 53,
     "metadata": {},
     "output_type": "execute_result"
    }
   ],
   "source": [
    "cc= \"5+5\"\n",
    "eval(cc)"
   ]
  },
  {
   "cell_type": "code",
   "execution_count": 55,
   "metadata": {},
   "outputs": [
    {
     "data": {
      "text/plain": [
       "1"
      ]
     },
     "execution_count": 55,
     "metadata": {},
     "output_type": "execute_result"
    }
   ],
   "source": [
    "eval(\"abs(1)\")"
   ]
  },
  {
   "cell_type": "code",
   "execution_count": 59,
   "metadata": {},
   "outputs": [
    {
     "ename": "SyntaxError",
     "evalue": "invalid syntax (<string>, line 1)",
     "output_type": "error",
     "traceback": [
      "Traceback \u001b[1;36m(most recent call last)\u001b[0m:\n",
      "\u001b[0m  File \u001b[0;32mc:\\Users\\kbker\\AppData\\Local\\Programs\\Python\\Python310\\lib\\site-packages\\IPython\\core\\interactiveshell.py:3378\u001b[0m in \u001b[0;35mrun_code\u001b[0m\n    exec(code_obj, self.user_global_ns, self.user_ns)\u001b[0m\n",
      "\u001b[1;36m  Cell \u001b[1;32mIn [59], line 1\u001b[1;36m\n\u001b[1;33m    eval('a=45')\u001b[1;36m\n",
      "\u001b[1;36m  File \u001b[1;32m<string>:1\u001b[1;36m\u001b[0m\n\u001b[1;33m    a=45\u001b[0m\n\u001b[1;37m     ^\u001b[0m\n\u001b[1;31mSyntaxError\u001b[0m\u001b[1;31m:\u001b[0m invalid syntax\n"
     ]
    }
   ],
   "source": [
    "eval('a=45')"
   ]
  },
  {
   "cell_type": "code",
   "execution_count": 61,
   "metadata": {},
   "outputs": [
    {
     "data": {
      "text/plain": [
       "45"
      ]
     },
     "execution_count": 61,
     "metadata": {},
     "output_type": "execute_result"
    }
   ],
   "source": [
    "exec('a=45')\n",
    "a"
   ]
  },
  {
   "cell_type": "code",
   "execution_count": 65,
   "metadata": {},
   "outputs": [
    {
     "name": "stdout",
     "output_type": "stream",
     "text": [
      "hello\n",
      "\n",
      "Gördüğünüz gibi print() fonksiyonu, kendisine\n",
      "parametre olarak verilen değerleri ekrana basıyor.\n",
      "Böylece ilk dersimizi tamamlamış olduk. Şimdi bir\n",
      "sonraki dersimize geçebiliriz.\n"
     ]
    }
   ],
   "source": [
    "d1 = \"\"\"\n",
    "Python'da ekrana çıktı verebilmek için print() adlı bir\n",
    "fonksiyondan yararlanıyoruz. Bu fonksiyonu şöyle kullanabilirsiniz:\n",
    ">>> print(\"Merhaba Dünya\")\n",
    "Şimdi de aynı kodu siz yazın!\n",
    ">>> \"\"\"\n",
    "girdi = input(d1)\n",
    "exec(girdi)\n",
    "d2 = \"\"\"\n",
    "Gördüğünüz gibi print() fonksiyonu, kendisine\n",
    "parametre olarak verilen değerleri ekrana basıyor.\n",
    "Böylece ilk dersimizi tamamlamış olduk. Şimdi bir\n",
    "sonraki dersimize geçebiliriz.\"\"\"\n",
    "print(d2)"
   ]
  },
  {
   "cell_type": "code",
   "execution_count": 66,
   "metadata": {},
   "outputs": [
    {
     "name": "stdout",
     "output_type": "stream",
     "text": [
      "Help on built-in function exec in module builtins:\n",
      "\n",
      "exec(source, globals=None, locals=None, /)\n",
      "    Execute the given source in the context of globals and locals.\n",
      "    \n",
      "    The source may be a string representing one or more Python statements\n",
      "    or a code object as returned by compile().\n",
      "    The globals must be a dictionary and locals can be any mapping,\n",
      "    defaulting to the current globals and locals.\n",
      "    If only globals is given, locals defaults to it.\n",
      "\n"
     ]
    }
   ],
   "source": [
    "help(exec)"
   ]
  },
  {
   "cell_type": "code",
   "execution_count": 71,
   "metadata": {},
   "outputs": [
    {
     "name": "stdout",
     "output_type": "stream",
     "text": [
      "\n",
      "Sayın Kerim Bayraktar \n",
      "April,2023 tarihinde yapmıs oldugunuz,\n",
      "iş ile ilgili basvurunuz onaylanmıştır. İşe alındınız.\n",
      "\n"
     ]
    }
   ],
   "source": [
    "from  string import Template\n",
    "text=Template(\"\"\"\n",
    "Sayın $name \\n$date tarihinde yapmıs oldugunuz,\n",
    "$konu ile ilgili basvurunuz onaylanmıştır. İşe alındınız.\n",
    "\"\"\")\n",
    "sonuc=text.substitute(name=\"Kerim Bayraktar\",date=\"April,2023\",konu=\"iş\")\n",
    "print(sonuc)"
   ]
  },
  {
   "cell_type": "markdown",
   "metadata": {},
   "source": [
    "# list comprehension, lambda, map, filter"
   ]
  },
  {
   "cell_type": "code",
   "execution_count": 82,
   "metadata": {},
   "outputs": [
    {
     "name": "stdout",
     "output_type": "stream",
     "text": [
      "[0, 0, 2, 0, 3, 6]\n"
     ]
    }
   ],
   "source": [
    "list = [x * y for x in range(4) for y in range(3) if x > y ]\n",
    "print(list)"
   ]
  },
  {
   "cell_type": "code",
   "execution_count": 75,
   "metadata": {},
   "outputs": [
    {
     "data": {
      "text/plain": [
       "[0, 0, 2, 0, 3, 6]"
      ]
     },
     "execution_count": 75,
     "metadata": {},
     "output_type": "execute_result"
    }
   ],
   "source": [
    "list"
   ]
  },
  {
   "cell_type": "code",
   "execution_count": 83,
   "metadata": {},
   "outputs": [
    {
     "data": {
      "text/plain": [
       "[5, 36, 7, 36, 7, 64, 7, 64, 9]"
      ]
     },
     "execution_count": 83,
     "metadata": {},
     "output_type": "execute_result"
    }
   ],
   "source": [
    "[ x + y  if (x + y) % 2 else (x + y) ** 2  for x in (1,2,3) for y in [4,5,6] ]"
   ]
  },
  {
   "cell_type": "code",
   "execution_count": 86,
   "metadata": {},
   "outputs": [
    {
     "data": {
      "text/plain": [
       "['Hi Ali', 'Hi Veli', 'Hi Bob']"
      ]
     },
     "execution_count": 86,
     "metadata": {},
     "output_type": "execute_result"
    }
   ],
   "source": [
    "liste = [(\"Hi \" + x) for x in ['Ali', 'Veli', 'Bob']]\n",
    "liste"
   ]
  },
  {
   "cell_type": "code",
   "execution_count": 91,
   "metadata": {},
   "outputs": [
    {
     "name": "stdout",
     "output_type": "stream",
     "text": [
      "['Doğum Raporu.pdf', 'Fatih Olcay Ifade.pdf', 'KERİM BAYRAKTAR EMNİYET İFADE.pdf', 'Vekaletname FATMA ZEHRA ÖZDİPİ.pdf', 'Vekaletname ŞABAN YAGIZ.pdf', 'Visa-apointment-form-BAYRAKTAR_U26247810 (1).pdf', 'Visa-apointment-form-BAYRAKTAR_U26247810 (2).pdf', 'Visa-apointment-form-BAYRAKTAR_U26247810 (3).pdf', 'Visa-apointment-form-BAYRAKTAR_U26247810.pdf']\n"
     ]
    }
   ],
   "source": [
    "import os\n",
    "dosyalar = []\n",
    "for d in os.listdir(r\"C:\\Users\\kbker\\Desktop\\ÖNEMLİ BELGELER\"):\n",
    "    if d.endswith(\".pdf\"):\n",
    "        dosyalar.append(d)\n",
    "\n",
    "print(dosyalar)"
   ]
  },
  {
   "cell_type": "code",
   "execution_count": 93,
   "metadata": {},
   "outputs": [
    {
     "data": {
      "text/plain": [
       "['Doğum Raporu.pdf',\n",
       " 'Fatih Olcay Ifade.pdf',\n",
       " 'KERİM BAYRAKTAR EMNİYET İFADE.pdf',\n",
       " 'Vekaletname FATMA ZEHRA ÖZDİPİ.pdf',\n",
       " 'Vekaletname ŞABAN YAGIZ.pdf',\n",
       " 'Visa-apointment-form-BAYRAKTAR_U26247810 (1).pdf',\n",
       " 'Visa-apointment-form-BAYRAKTAR_U26247810 (2).pdf',\n",
       " 'Visa-apointment-form-BAYRAKTAR_U26247810 (3).pdf',\n",
       " 'Visa-apointment-form-BAYRAKTAR_U26247810.pdf']"
      ]
     },
     "execution_count": 93,
     "metadata": {},
     "output_type": "execute_result"
    }
   ],
   "source": [
    "dosyalar = [d for d in os.listdir(r\"C:\\Users\\kbker\\Desktop\\ÖNEMLİ BELGELER\")]\n",
    "dosyalar"
   ]
  },
  {
   "cell_type": "code",
   "execution_count": null,
   "metadata": {},
   "outputs": [],
   "source": []
  },
  {
   "cell_type": "code",
   "execution_count": null,
   "metadata": {},
   "outputs": [],
   "source": []
  },
  {
   "cell_type": "code",
   "execution_count": null,
   "metadata": {},
   "outputs": [],
   "source": []
  },
  {
   "cell_type": "code",
   "execution_count": null,
   "metadata": {},
   "outputs": [],
   "source": []
  },
  {
   "cell_type": "code",
   "execution_count": null,
   "metadata": {},
   "outputs": [],
   "source": []
  }
 ],
 "metadata": {
  "kernelspec": {
   "display_name": "Python 3.10.7 64-bit",
   "language": "python",
   "name": "python3"
  },
  "language_info": {
   "codemirror_mode": {
    "name": "ipython",
    "version": 3
   },
   "file_extension": ".py",
   "mimetype": "text/x-python",
   "name": "python",
   "nbconvert_exporter": "python",
   "pygments_lexer": "ipython3",
   "version": "3.10.7"
  },
  "orig_nbformat": 4,
  "vscode": {
   "interpreter": {
    "hash": "7d32b02fdc04bbf9b6c98ac9da1c791696b14f2596c133b22519c78c68994f46"
   }
  }
 },
 "nbformat": 4,
 "nbformat_minor": 2
}
