{
 "cells": [
  {
   "cell_type": "code",
   "execution_count": 6,
   "metadata": {},
   "outputs": [
    {
     "name": "stdout",
     "output_type": "stream",
     "text": [
      "Merhaba Cocuk\n"
     ]
    }
   ],
   "source": [
    "yas = int(input(\"Yasinizi giriniz:\"))\n",
    "if yas <= 14:\n",
    "    print(\"Merhaba Cocuk\")\n",
    "if 14 < yas <= 19:\n",
    "    print(\"Merhaba Liseli\")\n",
    "if 19 < yas <= 24:\n",
    "    print(\"Merhaba Universiteli\")\n",
    "if 24 < yas <= 30:\n",
    "    print(\"Evlenme yasin gelmis\")\n",
    "if 30 < yas <= 55:\n",
    "    print(\"Coluk cocuk nasil\")\n",
    "if yas > 55:\n",
    "    print(\"Hayatin son demleri\")\n"
   ]
  },
  {
   "cell_type": "code",
   "execution_count": 7,
   "metadata": {},
   "outputs": [
    {
     "name": "stdout",
     "output_type": "stream",
     "text": [
      "Hayatin son demleri\n"
     ]
    }
   ],
   "source": [
    "yas = int(input(\"Yasinizi giriniz:\"))\n",
    "if yas <= 14:\n",
    "    print(\"Merhaba Cocuk\")\n",
    "if 14 < yas <= 19:\n",
    "    print(\"Merhaba Liseli\")\n",
    "if 19 < yas <= 24:\n",
    "    print(\"Merhaba Universiteli\")\n",
    "if 24 < yas <= 30:\n",
    "    print(\"Evlenme yasin gelmis\")\n",
    "if 30 < yas <= 55:\n",
    "    print(\"Coluk cocuk nasil\")\n",
    "if yas > 55:\n",
    "    print(\"Hayatin son demleri\")"
   ]
  },
  {
   "cell_type": "code",
   "execution_count": 12,
   "metadata": {},
   "outputs": [
    {
     "name": "stdout",
     "output_type": "stream",
     "text": [
      "Girdiginiz sayi cift sayidir.\n"
     ]
    }
   ],
   "source": [
    "sayi = int(input(\"Bir sayi giriniz:\"))\n",
    "if sayi % 2 == 0:\n",
    "    print(\"Girdiginiz sayi cift sayidir.\")\n",
    "else:\n",
    "    print(\"Girdiginiz sayi tek sayidir.\")\n"
   ]
  },
  {
   "cell_type": "code",
   "execution_count": 13,
   "metadata": {},
   "outputs": [
    {
     "name": "stdout",
     "output_type": "stream",
     "text": [
      "Girdiginiz sayi tek sayidir.\n"
     ]
    }
   ],
   "source": [
    "sayi = int(input(\"Bir sayi giriniz:\"))\n",
    "if sayi % 2 == 0:\n",
    "    print(\"Girdiginiz sayi cift sayidir.\")\n",
    "else:\n",
    "    print(\"Girdiginiz sayi tek sayidir.\")\n"
   ]
  },
  {
   "cell_type": "code",
   "execution_count": 14,
   "metadata": {},
   "outputs": [
    {
     "name": "stdout",
     "output_type": "stream",
     "text": [
      "Tesekkurler\n"
     ]
    }
   ],
   "source": [
    "kullanici = input(\"Kullanici adiniz: \")\n",
    "if kullanici:\n",
    "    print(\"Tesekkurler\")\n",
    "else:\n",
    "    print(\"Kullanici adi alani bos birakilamaz.\")"
   ]
  },
  {
   "cell_type": "code",
   "execution_count": null,
   "metadata": {},
   "outputs": [],
   "source": [
    "kullanici_adi = input(\"Kullanici Adiniz:\")\n",
    "parola = input"
   ]
  },
  {
   "cell_type": "code",
   "execution_count": 25,
   "metadata": {},
   "outputs": [
    {
     "name": "stdout",
     "output_type": "stream",
     "text": [
      " hello\n"
     ]
    }
   ],
   "source": [
    "a = \" Hello\"\n",
    "print(str.lower(a))"
   ]
  },
  {
   "cell_type": "code",
   "execution_count": 73,
   "metadata": {},
   "outputs": [
    {
     "name": "stdout",
     "output_type": "stream",
     "text": [
      "Your name is Burak."
     ]
    }
   ],
   "source": [
    "name = \"BURAK\"\n",
    "print(\"Your name is\", name[0:1]+ str.lower(name[1:5]), end=\".\")"
   ]
  },
  {
   "cell_type": "code",
   "execution_count": 51,
   "metadata": {},
   "outputs": [
    {
     "name": "stdout",
     "output_type": "stream",
     "text": [
      "name\n"
     ]
    }
   ],
   "source": [
    "a = \"NAME\"\n",
    "print(str.lower(a))"
   ]
  },
  {
   "cell_type": "code",
   "execution_count": 76,
   "metadata": {},
   "outputs": [
    {
     "name": "stdout",
     "output_type": "stream",
     "text": [
      "Your name is Burak. \n"
     ]
    }
   ],
   "source": [
    "name = \"BURAK\"\n",
    "print (f\"Your name is {name.capitalize()}. \")"
   ]
  },
  {
   "cell_type": "code",
   "execution_count": 80,
   "metadata": {},
   "outputs": [
    {
     "name": "stdout",
     "output_type": "stream",
     "text": [
      "Your name is Burak. \n"
     ]
    }
   ],
   "source": [
    "name = \"BURAK\"\n",
    "print (f\"Your name is {name.capitalize()}. \")"
   ]
  },
  {
   "cell_type": "code",
   "execution_count": 79,
   "metadata": {},
   "outputs": [
    {
     "name": "stdout",
     "output_type": "stream",
     "text": [
      "Your name is Burak. \n"
     ]
    }
   ],
   "source": [
    "name = \"BURAK\"\n",
    "print (f\"Your name is {name[0:1]+ str.lower(name[1:5])}. \")"
   ]
  },
  {
   "cell_type": "code",
   "execution_count": 82,
   "metadata": {},
   "outputs": [
    {
     "name": "stdout",
     "output_type": "stream",
     "text": [
      "Your name is Burak. \n"
     ]
    }
   ],
   "source": [
    "name = \"BURAK\"\n",
    "print (f\"Your name is {name.title()}. \")"
   ]
  },
  {
   "cell_type": "code",
   "execution_count": 89,
   "metadata": {},
   "outputs": [
    {
     "data": {
      "text/plain": [
       "0.0"
      ]
     },
     "execution_count": 89,
     "metadata": {},
     "output_type": "execute_result"
    }
   ],
   "source": [
    "0**10.0"
   ]
  },
  {
   "cell_type": "code",
   "execution_count": 90,
   "metadata": {},
   "outputs": [
    {
     "data": {
      "text/plain": [
       "4"
      ]
     },
     "execution_count": 90,
     "metadata": {},
     "output_type": "execute_result"
    }
   ],
   "source": [
    "25 % 7"
   ]
  },
  {
   "cell_type": "code",
   "execution_count": 91,
   "metadata": {},
   "outputs": [
    {
     "data": {
      "text/plain": [
       "3"
      ]
     },
     "execution_count": 91,
     "metadata": {},
     "output_type": "execute_result"
    }
   ],
   "source": [
    "25 // 7"
   ]
  },
  {
   "cell_type": "code",
   "execution_count": 92,
   "metadata": {},
   "outputs": [
    {
     "data": {
      "text/plain": [
       "9.0"
      ]
     },
     "execution_count": 92,
     "metadata": {},
     "output_type": "execute_result"
    }
   ],
   "source": [
    "150 // 15.3"
   ]
  },
  {
   "cell_type": "code",
   "execution_count": 101,
   "metadata": {},
   "outputs": [
    {
     "data": {
      "text/plain": [
       "20"
      ]
     },
     "execution_count": 101,
     "metadata": {},
     "output_type": "execute_result"
    }
   ],
   "source": [
    "t = 50\n"
   ]
  },
  {
   "cell_type": "code",
   "execution_count": 108,
   "metadata": {},
   "outputs": [
    {
     "data": {
      "text/plain": [
       "20"
      ]
     },
     "execution_count": 108,
     "metadata": {},
     "output_type": "execute_result"
    }
   ],
   "source": [
    "t %= 30\n",
    "t"
   ]
  },
  {
   "cell_type": "code",
   "execution_count": 110,
   "metadata": {},
   "outputs": [
    {
     "name": "stdout",
     "output_type": "stream",
     "text": [
      "I'm \n",
      "python \n",
      "teacher\n"
     ]
    }
   ],
   "source": [
    "print(\"I'm \\npython \\nteacher\")"
   ]
  },
  {
   "cell_type": "code",
   "execution_count": null,
   "metadata": {},
   "outputs": [],
   "source": []
  },
  {
   "cell_type": "code",
   "execution_count": null,
   "metadata": {},
   "outputs": [],
   "source": []
  }
 ],
 "metadata": {
  "kernelspec": {
   "display_name": "Python 3.10.7 64-bit",
   "language": "python",
   "name": "python3"
  },
  "language_info": {
   "codemirror_mode": {
    "name": "ipython",
    "version": 3
   },
   "file_extension": ".py",
   "mimetype": "text/x-python",
   "name": "python",
   "nbconvert_exporter": "python",
   "pygments_lexer": "ipython3",
   "version": "3.10.7"
  },
  "orig_nbformat": 4,
  "vscode": {
   "interpreter": {
    "hash": "7d32b02fdc04bbf9b6c98ac9da1c791696b14f2596c133b22519c78c68994f46"
   }
  }
 },
 "nbformat": 4,
 "nbformat_minor": 2
}
