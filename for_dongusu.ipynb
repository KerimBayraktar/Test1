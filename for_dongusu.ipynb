{
 "cells": [
  {
   "cell_type": "markdown",
   "metadata": {},
   "source": [
    "# For Dongusu"
   ]
  },
  {
   "cell_type": "code",
   "execution_count": 1,
   "metadata": {},
   "outputs": [
    {
     "name": "stdout",
     "output_type": "stream",
     "text": [
      "1\n",
      "2\n",
      "3\n",
      "4\n",
      "5\n"
     ]
    }
   ],
   "source": [
    "sayilar = [1,2,3,4,5]\n",
    "for sayi in sayilar:\n",
    "   print(sayi)"
   ]
  },
  {
   "cell_type": "code",
   "execution_count": 2,
   "metadata": {},
   "outputs": [
    {
     "name": "stdout",
     "output_type": "stream",
     "text": [
      "my name is çınar\n",
      "my name is sadık\n",
      "my name is sena\n"
     ]
    }
   ],
   "source": [
    "isimler = ['çınar','sadık','sena']\n",
    "for isim in isimler:\n",
    "    print(f'my name is {isim}')"
   ]
  },
  {
   "cell_type": "code",
   "execution_count": 4,
   "metadata": {},
   "outputs": [
    {
     "name": "stdout",
     "output_type": "stream",
     "text": [
      "A\n",
      "l\n",
      "i\n"
     ]
    }
   ],
   "source": [
    "name = 'Ali'   # String bir veri bir karakter dizisidir \n",
    "for n in name: # ve string içindeki her bir karaktere ulaşmak için for döngüsünü kullanırız.\n",
    "    print(n)        "
   ]
  },
  {
   "cell_type": "code",
   "execution_count": 6,
   "metadata": {},
   "outputs": [
    {
     "name": "stdout",
     "output_type": "stream",
     "text": [
      "k1 1\n",
      "k2 2\n",
      "k3 3\n"
     ]
    }
   ],
   "source": [
    "d = {'k1':1, 'k2':2, 'k3':3}  #Python dictionary verileri üzerinde for döngüsü ile her bir elemanın key \n",
    "for key,value in d.items():   #ve value bilgilerini alabiliriz.\n",
    "    print(key, value)                           \n"
   ]
  },
  {
   "cell_type": "code",
   "execution_count": 7,
   "metadata": {},
   "outputs": [
    {
     "name": "stdout",
     "output_type": "stream",
     "text": [
      "k1\n",
      "k2\n",
      "k3\n"
     ]
    }
   ],
   "source": [
    "d = {'k1':1, 'k2':2, 'k3':3}  #Python dictionary verileri üzerinde for döngüsü ile her bir elemanın key \n",
    "for key in d:   #ve value bilgilerini alabiliriz.\n",
    "    print(key) "
   ]
  },
  {
   "cell_type": "code",
   "execution_count": 10,
   "metadata": {},
   "outputs": [
    {
     "name": "stdout",
     "output_type": "stream",
     "text": [
      "Merhaba\n",
      "Merhaba\n",
      "Merhaba\n",
      "Merhaba\n",
      "Merhaba\n"
     ]
    }
   ],
   "source": [
    "sayilar = [1,2,3,4,5]   #Range Fonksiyonu\n",
    "for sayi in sayilar:\n",
    "   print('Merhaba')"
   ]
  },
  {
   "cell_type": "code",
   "execution_count": 13,
   "metadata": {},
   "outputs": [
    {
     "name": "stdout",
     "output_type": "stream",
     "text": [
      "Merhaba\n",
      "Merhaba\n",
      "Merhaba\n",
      "Merhaba\n",
      "Merhaba\n"
     ]
    }
   ],
   "source": [
    "  #Range Fonksiyonu\n",
    "for i in range(5):\n",
    "    print('Merhaba')"
   ]
  },
  {
   "cell_type": "code",
   "execution_count": 16,
   "metadata": {},
   "outputs": [
    {
     "name": "stdout",
     "output_type": "stream",
     "text": [
      "50 51 52 53 54 55 56 57 58 59 60 61 62 63 64 65 66 67 68 69 70 71 72 73 74 75 76 77 78 79 80 81 82 83 84 85 86 87 88 89 90 91 92 93 94 95 96 97 98 99 "
     ]
    }
   ],
   "source": [
    "for i in range(50,100):\n",
    "   print(i, end=' ')"
   ]
  },
  {
   "cell_type": "code",
   "execution_count": 18,
   "metadata": {},
   "outputs": [
    {
     "name": "stdout",
     "output_type": "stream",
     "text": [
      "50 52 54 56 58 60 62 64 66 68 70 72 74 76 78 80 82 84 86 88 90 92 94 96 98 "
     ]
    }
   ],
   "source": [
    "for i in range(50,100,2):\n",
    "   print(i, end=' ')"
   ]
  },
  {
   "cell_type": "markdown",
   "metadata": {},
   "source": [
    "# Python For Döngüsü Uygulamaları"
   ]
  },
  {
   "cell_type": "code",
   "execution_count": 20,
   "metadata": {},
   "outputs": [
    {
     "name": "stdout",
     "output_type": "stream",
     "text": [
      "3\n",
      "9\n",
      "12\n",
      "21\n"
     ]
    }
   ],
   "source": [
    "sayilar = [1,3,5,7,9,12,19,21]  # Sayilar listesindeki hangi sayılar 3' ün katıdır?\n",
    "\n",
    "for i in sayilar:\n",
    "    if i %3 == 0:\n",
    "        print(i)"
   ]
  },
  {
   "cell_type": "code",
   "execution_count": 24,
   "metadata": {},
   "outputs": [
    {
     "name": "stdout",
     "output_type": "stream",
     "text": [
      "[3, 9, 12, 21]\n"
     ]
    }
   ],
   "source": [
    "sayilar = [1,3,5,7,9,12,19,21]  # Sayilar listesindeki hangi sayılar 3' ün katıdır?\n",
    "uce_bolunen_sayilar = []\n",
    "for i in sayilar:\n",
    "    if i %3 == 0:\n",
    "        uce_bolunen_sayilar.append(i)\n",
    "print(uce_bolunen_sayilar)"
   ]
  },
  {
   "cell_type": "code",
   "execution_count": 26,
   "metadata": {},
   "outputs": [
    {
     "name": "stdout",
     "output_type": "stream",
     "text": [
      "77\n"
     ]
    }
   ],
   "source": [
    "sayilar = [1,3,5,7,9,12,19,21]   # Sayilar listesinde sayıların toplamı kaçtır ?\n",
    "toplam = 0\n",
    "for i in sayilar:\n",
    "    toplam = i + toplam\n",
    "print(toplam)"
   ]
  },
  {
   "cell_type": "code",
   "execution_count": 27,
   "metadata": {},
   "outputs": [
    {
     "name": "stdout",
     "output_type": "stream",
     "text": [
      "77\n"
     ]
    }
   ],
   "source": [
    "sayilar = [1,3,5,7,9,12,19,21]   # Sayilar listesinde sayıların toplamı kaçtır ?\n",
    "toplam = 0\n",
    "for i in sayilar:\n",
    "    toplam += i\n",
    "print(toplam)"
   ]
  },
  {
   "cell_type": "code",
   "execution_count": 28,
   "metadata": {},
   "outputs": [
    {
     "name": "stdout",
     "output_type": "stream",
     "text": [
      "1\n",
      "9\n",
      "25\n",
      "49\n",
      "81\n",
      "361\n",
      "441\n"
     ]
    }
   ],
   "source": [
    "#Sayilar listesindeki tek sayıların karesini alınız.\n",
    "sayilar = [1,3,5,7,9,12,19,21]\n",
    "for i in sayilar:\n",
    "    if i %2 != 0:\n",
    "        print(i**2)"
   ]
  },
  {
   "cell_type": "code",
   "execution_count": 31,
   "metadata": {},
   "outputs": [
    {
     "name": "stdout",
     "output_type": "stream",
     "text": [
      "rize\n"
     ]
    }
   ],
   "source": [
    "sehirler = ['kocaeli','istanbul','ankara','izmir','rize']  # Şehirlerden hangileri en fazla 5 karakterlidir?\n",
    "\n",
    "for i in sehirler:\n",
    "    if len(i) < 5:\n",
    "        print(i)"
   ]
  },
  {
   "cell_type": "code",
   "execution_count": 32,
   "metadata": {},
   "outputs": [
    {
     "name": "stdout",
     "output_type": "stream",
     "text": [
      "toplma ürün fiyatı:  25000\n"
     ]
    }
   ],
   "source": [
    "urunler = [ \n",
    "  {'name':'samsung S6', 'price': '3000' },\n",
    "  {'name':'samsung S7', 'price': '4000' },\n",
    "  {'name':'samsung S8', 'price': '5000' },\n",
    "  {'name':'samsung S9', 'price': '6000' },\n",
    "  {'name':'samsung S10', 'price': '7000' }\n",
    "]          # Ürünlerin fiyatları toplamı nedir ?\n",
    "\n",
    "toplam = 0\n",
    "for urun in urunler:\n",
    "   fiyat = int(urun['price'])\n",
    "   toplam += fiyat\n",
    "print('toplma ürün fiyatı: ', toplam)\n"
   ]
  },
  {
   "cell_type": "code",
   "execution_count": 37,
   "metadata": {},
   "outputs": [
    {
     "name": "stdout",
     "output_type": "stream",
     "text": [
      "samsung S6\n",
      "samsung S7\n",
      "samsung S8\n"
     ]
    }
   ],
   "source": [
    "# Ürünlerden fiyatı en fazla 5000 olan ürünleri gösteriniz?\n",
    "\n",
    "for urun in urunler:\n",
    "    if (int(urun['price']) <= 5000):\n",
    "        print(urun['name'])"
   ]
  },
  {
   "cell_type": "code",
   "execution_count": 39,
   "metadata": {},
   "outputs": [
    {
     "name": "stdout",
     "output_type": "stream",
     "text": [
      "parola 8 karakterden uzun 3 karakterden kısa olmamalı\n",
      "parola 8 karakterden uzun 3 karakterden kısa olmamalı\n",
      "parolayı 3 kez yanlış girdiniz. Lütfen 30 dakika sonra tekrar deneyin!\n"
     ]
    }
   ],
   "source": [
    "for i in range(3):\n",
    "    parola = input(\"parola belirleyin: \")\n",
    "    if not parola:\n",
    "        print(\"parola bölümü boş geçilemez!\")\n",
    "\n",
    "    elif len(parola) in range(3, 8):\n",
    "        print(\"Yeni parolanız\", parola)\n",
    "        break\n",
    "\n",
    "    elif i == 2:\n",
    "        print(\"parolayı 3 kez yanlış girdiniz.\",\n",
    "        \"Lütfen 30 dakika sonra tekrar deneyin!\")\n",
    "\n",
    "    else:\n",
    "        print(\"parola 8 karakterden uzun 3 karakterden kısa olmamalı\")\n",
    "\n",
    "#Burada if i == 2 kodu sayesinde for döngüsü içinde belirttiğimiz i adlı değişkenin değeri 2 olduğu \n",
    "# anda ‘parolayı 3 kez yanlış girdiniz…’ uyarısı gösterilecektir"
   ]
  },
  {
   "cell_type": "code",
   "execution_count": 40,
   "metadata": {},
   "outputs": [
    {
     "name": "stdout",
     "output_type": "stream",
     "text": [
      "58\n"
     ]
    }
   ],
   "source": [
    "metin = \"\"\"Bu programlama dili Guido Van Rossum adlı Hollandalı bir programcı\n",
    "tarafından 90’lı yılların başında geliştirilmeye başlanmıştır. Çoğu insan,\n",
    "isminin Python olmasına aldanarak, bu programlama dilinin, adını piton\n",
    "yılanından aldığını düşünür. Ancak zannedildiğinin aksine bu programlama dilinin\n",
    "adı piton yılanından gelmez. Guido Van Rossum bu programlama dilini, The Monty\n",
    "Python adlı bir İngiliz komedi grubunun, Monty Python’s Flying Circus adlı\n",
    "gösterisinden esinlenerek adlandırmıştır. Ancak her ne kadar gerçek böyle olsa\n",
    "da, Python programlama dilinin pek çok yerde bir yılan figürü ile temsil\n",
    "edilmesi neredeyse bir gelenek halini almıştır.\"\"\"\n",
    "\n",
    "harf = input(\"Sorgulamak istediğiniz harf: \")\n",
    "\n",
    "sayı = ''\n",
    "\n",
    "for s in metin:\n",
    "    if harf == s:\n",
    "        sayı += harf\n",
    "\n",
    "print(len(sayı))\n",
    "# Burada öncelikle metnimizi bir değişken olarak tanımladık. \n",
    "# Ardından da kullanıcıya hangi harfi sorgulamak istediğini sorduk."
   ]
  },
  {
   "cell_type": "code",
   "execution_count": 42,
   "metadata": {},
   "outputs": [],
   "source": [
    "# max fonksiyonunu kullanmadan listenin en buyuk elemanini dondurun. \n",
    "liste = [12, 17, 25, 48, 23, 14, 16]\n",
    "\n",
    "\n"
   ]
  },
  {
   "cell_type": "code",
   "execution_count": null,
   "metadata": {},
   "outputs": [],
   "source": []
  }
 ],
 "metadata": {
  "kernelspec": {
   "display_name": "Python 3.10.7 64-bit",
   "language": "python",
   "name": "python3"
  },
  "language_info": {
   "codemirror_mode": {
    "name": "ipython",
    "version": 3
   },
   "file_extension": ".py",
   "mimetype": "text/x-python",
   "name": "python",
   "nbconvert_exporter": "python",
   "pygments_lexer": "ipython3",
   "version": "3.10.7"
  },
  "orig_nbformat": 4,
  "vscode": {
   "interpreter": {
    "hash": "7d32b02fdc04bbf9b6c98ac9da1c791696b14f2596c133b22519c78c68994f46"
   }
  }
 },
 "nbformat": 4,
 "nbformat_minor": 2
}
