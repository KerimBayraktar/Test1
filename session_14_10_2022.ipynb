{
 "cells": [
  {
   "cell_type": "code",
   "execution_count": 1,
   "metadata": {},
   "outputs": [],
   "source": [
    "liste = [1, 2, 3, 4, 5]"
   ]
  },
  {
   "cell_type": "code",
   "execution_count": 2,
   "metadata": {},
   "outputs": [],
   "source": [
    "num = [48, 10, 11, 21, 36, 5, 6, 52, 28, 29,\n",
    "       53, 54, 45, 19, 20, 47, 55, 39, 41, 7,\n",
    "       9, 17, 26, 27, 42, 22, 37, 51, 46, 18,\n",
    "       44, 30, 34, 13, 15, 35, 33, 16, 50, 24]"
   ]
  },
  {
   "cell_type": "code",
   "execution_count": 4,
   "metadata": {},
   "outputs": [
    {
     "name": "stdout",
     "output_type": "stream",
     "text": [
      "[8, 12, 14, 23, 25, 31, 32, 38, 40, 43, 49]\n"
     ]
    }
   ],
   "source": [
    "empyt_list = []\n",
    "for i in range(min(num), max(num) + 1):\n",
    "    if i not in num:\n",
    "        empyt_list.append(i)\n",
    "print(empyt_list)\n"
   ]
  },
  {
   "cell_type": "code",
   "execution_count": 5,
   "metadata": {},
   "outputs": [
    {
     "data": {
      "text/plain": [
       "{8, 12, 14, 23, 25, 31, 32, 38, 40, 43, 49}"
      ]
     },
     "execution_count": 5,
     "metadata": {},
     "output_type": "execute_result"
    }
   ],
   "source": [
    "set(range(min(num), max(num) + 1)) - set(num)"
   ]
  },
  {
   "cell_type": "code",
   "execution_count": 6,
   "metadata": {},
   "outputs": [
    {
     "name": "stdout",
     "output_type": "stream",
     "text": [
      "1 5\n",
      "1 6\n",
      "1 7\n",
      "1 8\n",
      "2 5\n",
      "2 6\n",
      "2 7\n",
      "2 8\n",
      "3 5\n",
      "3 6\n",
      "3 7\n",
      "3 8\n",
      "4 5\n",
      "4 6\n",
      "4 7\n",
      "4 8\n"
     ]
    }
   ],
   "source": [
    "for i in [1, 2, 3, 4]:\n",
    "    for j in [5,6,7,8]:\n",
    "        print(i,j)\n"
   ]
  },
  {
   "cell_type": "code",
   "execution_count": 9,
   "metadata": {},
   "outputs": [
    {
     "name": "stdout",
     "output_type": "stream",
     "text": [
      "5\n",
      "6\n",
      "7\n",
      "8\n",
      "5\n",
      "6\n",
      "7\n",
      "8\n",
      "5\n",
      "6\n",
      "7\n",
      "8\n",
      "5\n",
      "6\n",
      "7\n",
      "8\n"
     ]
    }
   ],
   "source": [
    "for i in [1, 2, 3, 4]:\n",
    "    for j in [5,6,7,8]:\n",
    "        print(j)"
   ]
  },
  {
   "cell_type": "code",
   "execution_count": 10,
   "metadata": {},
   "outputs": [
    {
     "name": "stdout",
     "output_type": "stream",
     "text": [
      "1 5 9\n",
      "1 6 9\n",
      "1 7 9\n",
      "1 8 9\n",
      "2 5 9\n",
      "2 6 9\n",
      "2 7 9\n",
      "2 8 9\n",
      "3 5 9\n",
      "3 6 9\n",
      "3 7 9\n",
      "3 8 9\n",
      "4 5 9\n",
      "4 6 9\n",
      "4 7 9\n",
      "4 8 9\n"
     ]
    }
   ],
   "source": [
    "for i in [1, 2, 3, 4]:\n",
    "    for j in [5,6,7,8]:\n",
    "        for z in [9]:\n",
    "\n",
    "            print(i,j,z)"
   ]
  },
  {
   "cell_type": "code",
   "execution_count": 11,
   "metadata": {},
   "outputs": [
    {
     "name": "stdout",
     "output_type": "stream",
     "text": [
      "ts\n",
      "te\n",
      "es\n",
      "ee\n",
      "cs\n",
      "ce\n",
      "hs\n",
      "he\n",
      "ps\n",
      "pe\n",
      "rs\n",
      "re\n",
      "os\n",
      "oe\n"
     ]
    }
   ],
   "source": [
    "for i in \"techpro\":\n",
    "    for j in \"sedat\":\n",
    "        if j == \"d\":\n",
    "            break\n",
    "        print(i+j)"
   ]
  },
  {
   "cell_type": "code",
   "execution_count": 12,
   "metadata": {},
   "outputs": [
    {
     "name": "stdout",
     "output_type": "stream",
     "text": [
      "ts\n",
      "te\n",
      "ta\n",
      "tt\n",
      "es\n",
      "ee\n",
      "ea\n",
      "et\n",
      "cs\n",
      "ce\n",
      "ca\n",
      "ct\n",
      "hs\n",
      "he\n",
      "ha\n",
      "ht\n"
     ]
    }
   ],
   "source": [
    "for i in \"tech\":\n",
    "    for j in \"sedat\":\n",
    "        if j == \"d\":\n",
    "            continue\n",
    "        print(i+j)"
   ]
  },
  {
   "cell_type": "code",
   "execution_count": 13,
   "metadata": {},
   "outputs": [
    {
     "name": "stdout",
     "output_type": "stream",
     "text": [
      "ts\n",
      "te\n",
      "ta\n",
      "tt\n",
      "es\n",
      "ee\n",
      "ea\n",
      "et\n"
     ]
    }
   ],
   "source": [
    "for i in \"tech\":\n",
    "    if i == \"c\":\n",
    "        break\n",
    "    for j in \"sedat\":\n",
    "        if j == \"d\":\n",
    "            continue\n",
    "        print(i+j)"
   ]
  },
  {
   "cell_type": "markdown",
   "metadata": {},
   "source": [
    "## for comprehension"
   ]
  },
  {
   "cell_type": "code",
   "execution_count": 14,
   "metadata": {},
   "outputs": [
    {
     "data": {
      "text/plain": [
       "['t', 'e', 'c', 'h', 'p', 'r', 'o']"
      ]
     },
     "execution_count": 14,
     "metadata": {},
     "output_type": "execute_result"
    }
   ],
   "source": [
    "empty_list2 = []\n",
    "for i in \"techpro\":\n",
    "    empty_list2.append(i)\n",
    "empty_list2"
   ]
  },
  {
   "cell_type": "code",
   "execution_count": 15,
   "metadata": {},
   "outputs": [
    {
     "data": {
      "text/plain": [
       "['t', 'e', 'c', 'h', 'p', 'r', 'o']"
      ]
     },
     "execution_count": 15,
     "metadata": {},
     "output_type": "execute_result"
    }
   ],
   "source": [
    "[  i for i in \"techpro\"]"
   ]
  },
  {
   "cell_type": "code",
   "execution_count": 17,
   "metadata": {},
   "outputs": [
    {
     "data": {
      "text/plain": [
       "[1, 4, 9, 16, 25]"
      ]
     },
     "execution_count": 17,
     "metadata": {},
     "output_type": "execute_result"
    }
   ],
   "source": [
    "liste = [1, 2, 3, 4, 5]\n",
    "[ i ** 2 for i in liste]"
   ]
  },
  {
   "cell_type": "code",
   "execution_count": 18,
   "metadata": {},
   "outputs": [
    {
     "data": {
      "text/plain": [
       "[1, 3, 5, 7, 9]"
      ]
     },
     "execution_count": 18,
     "metadata": {},
     "output_type": "execute_result"
    }
   ],
   "source": [
    "[ i for i in range(11) if i % 2]"
   ]
  },
  {
   "cell_type": "code",
   "execution_count": 20,
   "metadata": {},
   "outputs": [
    {
     "data": {
      "text/plain": [
       "[1, 3, 5, 7, 9]"
      ]
     },
     "execution_count": 20,
     "metadata": {},
     "output_type": "execute_result"
    }
   ],
   "source": [
    "[ i for i in range(11) if i % 2 == 1]"
   ]
  },
  {
   "cell_type": "code",
   "execution_count": 21,
   "metadata": {},
   "outputs": [
    {
     "data": {
      "text/plain": [
       "[0, 2, 4, 6, 8, 10]"
      ]
     },
     "execution_count": 21,
     "metadata": {},
     "output_type": "execute_result"
    }
   ],
   "source": [
    "[ i for i in range(11) if i % 2 == 0]"
   ]
  },
  {
   "cell_type": "code",
   "execution_count": 22,
   "metadata": {},
   "outputs": [
    {
     "data": {
      "text/plain": [
       "[0, 2, 4, 6, 8, 10]"
      ]
     },
     "execution_count": 22,
     "metadata": {},
     "output_type": "execute_result"
    }
   ],
   "source": [
    "[ i for i in range(11) if not i % 2]"
   ]
  },
  {
   "cell_type": "code",
   "execution_count": 23,
   "metadata": {},
   "outputs": [
    {
     "data": {
      "text/plain": [
       "[0, 1, 2, 9, 4, 25, 6, 49, 8, 81, 10]"
      ]
     },
     "execution_count": 23,
     "metadata": {},
     "output_type": "execute_result"
    }
   ],
   "source": [
    "[ i if not i % 2  else i ** 2 for i in range(11)]"
   ]
  },
  {
   "cell_type": "code",
   "execution_count": 26,
   "metadata": {},
   "outputs": [
    {
     "name": "stdout",
     "output_type": "stream",
     "text": [
      "[0, 1, 2, 9, 4, 25, 6, 49, 8, 81, 10]\n"
     ]
    }
   ],
   "source": [
    "print([ i if not i % 2  else i ** 2 for i in range(11)])"
   ]
  },
  {
   "cell_type": "code",
   "execution_count": 27,
   "metadata": {},
   "outputs": [
    {
     "data": {
      "text/plain": [
       "[5, 6, 7, 6, 7, 8, 7, 8, 9]"
      ]
     },
     "execution_count": 27,
     "metadata": {},
     "output_type": "execute_result"
    }
   ],
   "source": [
    "[ x + y  for x in (1,2,3) for y in [4,5,6] ]"
   ]
  },
  {
   "cell_type": "code",
   "execution_count": 29,
   "metadata": {},
   "outputs": [
    {
     "data": {
      "text/plain": [
       "[5, 7, 7, 7, 9]"
      ]
     },
     "execution_count": 29,
     "metadata": {},
     "output_type": "execute_result"
    }
   ],
   "source": [
    "[ x + y  for x in (1,2,3) for y in [4,5,6] if (x + y) % 2 ]"
   ]
  },
  {
   "cell_type": "code",
   "execution_count": 30,
   "metadata": {},
   "outputs": [
    {
     "data": {
      "text/plain": [
       "[5, 36, 7, 36, 7, 64, 7, 64, 9]"
      ]
     },
     "execution_count": 30,
     "metadata": {},
     "output_type": "execute_result"
    }
   ],
   "source": [
    "[ x + y if (x + y) % 2 else (x + y)**2  for x in (1,2,3) for y in [4,5,6]]"
   ]
  },
  {
   "cell_type": "code",
   "execution_count": 44,
   "metadata": {},
   "outputs": [
    {
     "name": "stdout",
     "output_type": "stream",
     "text": [
      "kerim\n",
      "Kalın ünlü sayısı = 0\n",
      "İnce ünlü sayısı = 2\n",
      "kerim: büyük ünlü uyumuna uyar\n"
     ]
    }
   ],
   "source": [
    "isim = input(\"Lütfen isminizi girin\") #\"sedat\"\n",
    "kalın_ünlü = 0\n",
    "ince_ünlü = 0\n",
    "\n",
    "for i in isim.lower():\n",
    "    if i in \"aıou\":\n",
    "        kalın_ünlü += 1\n",
    "    elif i in \"eiöü\":\n",
    "        ince_ünlü += 1\n",
    "\n",
    "print(isim)\n",
    "print(f\"Kalın ünlü sayısı = {kalın_ünlü}\")\n",
    "print(f\"İnce ünlü sayısı = {ince_ünlü}\")\n",
    "\n",
    "\n",
    "if kalın_ünlü > 0 or ince_ünlü > 0:\n",
    "    if kalın_ünlü + ince_ünlü == 1:\n",
    "        print(f\"{isim}: büyük ünlü uyumu aranmaz\")\n",
    "    elif kalın_ünlü * ince_ünlü == 0:\n",
    "        print(f\"{isim}: büyük ünlü uyumuna uyar\")\n",
    "    else:\n",
    "        print(f\"{isim}: büyük ünlü uyumuna uymaz\")\n",
    "else:\n",
    "    print(f\"{isim}: Hiç sesli harf yok\")\n"
   ]
  },
  {
   "cell_type": "code",
   "execution_count": null,
   "metadata": {},
   "outputs": [],
   "source": []
  }
 ],
 "metadata": {
  "kernelspec": {
   "display_name": "Python 3.10.7 64-bit",
   "language": "python",
   "name": "python3"
  },
  "language_info": {
   "codemirror_mode": {
    "name": "ipython",
    "version": 3
   },
   "file_extension": ".py",
   "mimetype": "text/x-python",
   "name": "python",
   "nbconvert_exporter": "python",
   "pygments_lexer": "ipython3",
   "version": "3.10.7"
  },
  "orig_nbformat": 4,
  "vscode": {
   "interpreter": {
    "hash": "7d32b02fdc04bbf9b6c98ac9da1c791696b14f2596c133b22519c78c68994f46"
   }
  }
 },
 "nbformat": 4,
 "nbformat_minor": 2
}
