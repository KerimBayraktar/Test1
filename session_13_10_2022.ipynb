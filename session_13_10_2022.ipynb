{
 "cells": [
  {
   "cell_type": "markdown",
   "metadata": {},
   "source": [
    "# for dongusu for loops"
   ]
  },
  {
   "cell_type": "code",
   "execution_count": null,
   "metadata": {},
   "outputs": [],
   "source": [
    "for variable in iterable:\n",
    "    islem satiri"
   ]
  },
  {
   "cell_type": "code",
   "execution_count": 3,
   "metadata": {},
   "outputs": [
    {
     "name": "stdout",
     "output_type": "stream",
     "text": [
      "t-e-c-h-p-r-o-"
     ]
    }
   ],
   "source": [
    "for i in \"techpro\":\n",
    "    print(i, end=(\"-\"))"
   ]
  },
  {
   "cell_type": "code",
   "execution_count": 4,
   "metadata": {},
   "outputs": [],
   "source": [
    "x = [1, 2, 3, 4, 5]"
   ]
  },
  {
   "cell_type": "code",
   "execution_count": 5,
   "metadata": {},
   "outputs": [
    {
     "name": "stdout",
     "output_type": "stream",
     "text": [
      "1\n",
      "2\n",
      "3\n",
      "4\n",
      "5\n"
     ]
    }
   ],
   "source": [
    "for index in x:\n",
    "    print(index)"
   ]
  },
  {
   "cell_type": "code",
   "execution_count": 6,
   "metadata": {},
   "outputs": [
    {
     "name": "stdout",
     "output_type": "stream",
     "text": [
      "1\n",
      "4\n",
      "9\n",
      "16\n",
      "25\n"
     ]
    }
   ],
   "source": [
    "for index in x:\n",
    "    print(index**2)"
   ]
  },
  {
   "cell_type": "code",
   "execution_count": 7,
   "metadata": {},
   "outputs": [],
   "source": [
    "names = [\"burcak\", \"seyma\", \"yusuf\", \"hacer\", \"furkan\"]"
   ]
  },
  {
   "cell_type": "code",
   "execution_count": 12,
   "metadata": {},
   "outputs": [
    {
     "name": "stdout",
     "output_type": "stream",
     "text": [
      "Merhaba  Burcak\n",
      "Merhaba  Seyma\n",
      "Merhaba  Yusuf\n",
      "Merhaba  Hacer\n",
      "Merhaba  Furkan\n"
     ]
    }
   ],
   "source": [
    "for i in names:\n",
    "    print(f\"Merhaba  {i.capitalize()}\")"
   ]
  },
  {
   "cell_type": "code",
   "execution_count": 14,
   "metadata": {},
   "outputs": [
    {
     "name": "stdout",
     "output_type": "stream",
     "text": [
      "Merhaba  Burcak\n",
      "Merhaba  Seyma\n",
      "Merhaba  Yusuf\n",
      "Merhaba  Hacer\n",
      "Merhaba  Furkan\n"
     ]
    }
   ],
   "source": [
    "for i in names:\n",
    "    print(f\"Merhaba  {i}\".title())"
   ]
  },
  {
   "cell_type": "code",
   "execution_count": 30,
   "metadata": {},
   "outputs": [
    {
     "name": "stdout",
     "output_type": "stream",
     "text": [
      "t-e-c-h-p-r-o"
     ]
    }
   ],
   "source": [
    "count = 0\n",
    "for i in \"techpro\":\n",
    "    count += 1\n",
    "    if count < len(\"techpro\"):\n",
    "        i = i + \"-\"\n",
    "    print(i, end=(\"\"))"
   ]
  },
  {
   "cell_type": "code",
   "execution_count": 33,
   "metadata": {},
   "outputs": [
    {
     "name": "stdout",
     "output_type": "stream",
     "text": [
      "t-e-c-h-p-r-o\n"
     ]
    }
   ],
   "source": [
    "empty_str = \"\"\n",
    "for i in \"techpro\":\n",
    "    empty_str += (i + \"-\")\n",
    "result = empty_str.rstrip(\"-\")\n",
    "print(result)"
   ]
  },
  {
   "cell_type": "code",
   "execution_count": 35,
   "metadata": {},
   "outputs": [
    {
     "data": {
      "text/plain": [
       "('t', 'e', 'c', 'h', 'p', 'r', 'o')"
      ]
     },
     "execution_count": 35,
     "metadata": {},
     "output_type": "execute_result"
    }
   ],
   "source": [
    "a = tuple(\"techpro\")\n",
    "a"
   ]
  },
  {
   "cell_type": "code",
   "execution_count": 37,
   "metadata": {},
   "outputs": [
    {
     "name": "stdout",
     "output_type": "stream",
     "text": [
      "t\n",
      "e\n",
      "c\n",
      "h\n",
      "p\n",
      "r\n",
      "o\n"
     ]
    }
   ],
   "source": [
    "for i in a:\n",
    "    print(i)"
   ]
  },
  {
   "cell_type": "code",
   "execution_count": 39,
   "metadata": {},
   "outputs": [
    {
     "data": {
      "text/plain": [
       "{'a', 'b', 'h', 'i', 'm', 'r'}"
      ]
     },
     "execution_count": 39,
     "metadata": {},
     "output_type": "execute_result"
    }
   ],
   "source": [
    "b = set(\"ibrahim\")\n",
    "b"
   ]
  },
  {
   "cell_type": "code",
   "execution_count": 41,
   "metadata": {},
   "outputs": [
    {
     "name": "stdout",
     "output_type": "stream",
     "text": [
      "r\n",
      "i\n",
      "a\n",
      "m\n",
      "h\n",
      "b\n"
     ]
    }
   ],
   "source": [
    "for i in b:\n",
    "    print(i)"
   ]
  },
  {
   "cell_type": "code",
   "execution_count": 42,
   "metadata": {},
   "outputs": [],
   "source": [
    "dict_1= {\"name\" : \"omer\", \"surname\" : \"gokdemir\", \"age\" : 24}"
   ]
  },
  {
   "cell_type": "code",
   "execution_count": 43,
   "metadata": {},
   "outputs": [
    {
     "name": "stdout",
     "output_type": "stream",
     "text": [
      "name\n",
      "surname\n",
      "age\n"
     ]
    }
   ],
   "source": [
    "for i in dict_1:\n",
    "    print(i)"
   ]
  },
  {
   "cell_type": "code",
   "execution_count": 44,
   "metadata": {},
   "outputs": [
    {
     "name": "stdout",
     "output_type": "stream",
     "text": [
      "omer\n",
      "gokdemir\n",
      "24\n"
     ]
    }
   ],
   "source": [
    "for i in dict_1.values():\n",
    "    print(i)"
   ]
  },
  {
   "cell_type": "code",
   "execution_count": 45,
   "metadata": {},
   "outputs": [
    {
     "name": "stdout",
     "output_type": "stream",
     "text": [
      "('name', 'omer')\n",
      "('surname', 'gokdemir')\n",
      "('age', 24)\n"
     ]
    }
   ],
   "source": [
    "for i in dict_1.items():\n",
    "    print(i)"
   ]
  },
  {
   "cell_type": "code",
   "execution_count": 46,
   "metadata": {},
   "outputs": [
    {
     "name": "stdout",
     "output_type": "stream",
     "text": [
      "key: name, value: omer\n",
      "key: surname, value: gokdemir\n",
      "key: age, value: 24\n"
     ]
    }
   ],
   "source": [
    "for key, value in dict_1.items():\n",
    "    print(f\"key: {key}, value: {value}\")"
   ]
  },
  {
   "cell_type": "code",
   "execution_count": 47,
   "metadata": {},
   "outputs": [
    {
     "data": {
      "text/plain": [
       "<zip at 0x1b3e47de380>"
      ]
     },
     "execution_count": 47,
     "metadata": {},
     "output_type": "execute_result"
    }
   ],
   "source": [
    "zip(\"techpro\", [1,2,3,4], (5,6,7,8))"
   ]
  },
  {
   "cell_type": "code",
   "execution_count": 50,
   "metadata": {},
   "outputs": [
    {
     "data": {
      "text/plain": [
       "[('t', 1, 5), ('e', 2, 6), ('c', 3, 7), ('h', 4, 8)]"
      ]
     },
     "execution_count": 50,
     "metadata": {},
     "output_type": "execute_result"
    }
   ],
   "source": [
    "zip_1 = list(zip(\"techpro\", [1,2,3,4], (5,6,7,8)))\n",
    "zip_1"
   ]
  },
  {
   "cell_type": "code",
   "execution_count": 51,
   "metadata": {},
   "outputs": [
    {
     "name": "stdout",
     "output_type": "stream",
     "text": [
      "t 1 5\n",
      "e 2 6\n",
      "c 3 7\n",
      "h 4 8\n"
     ]
    }
   ],
   "source": [
    "for i,j,k in zip_1:\n",
    "    print(i,j,k)\n"
   ]
  },
  {
   "cell_type": "code",
   "execution_count": 61,
   "metadata": {},
   "outputs": [
    {
     "name": "stdout",
     "output_type": "stream",
     "text": [
      "012345678910111213141516171819202122232425262728293031323334353637383940414243444546474849"
     ]
    }
   ],
   "source": [
    "for i in range(50):\n",
    "    print(i,end=(\"\"))"
   ]
  },
  {
   "cell_type": "code",
   "execution_count": 62,
   "metadata": {},
   "outputs": [
    {
     "name": "stdout",
     "output_type": "stream",
     "text": [
      "cezami odedim.cezami odedim.cezami odedim.cezami odedim.cezami odedim.cezami odedim.cezami odedim.cezami odedim.cezami odedim.cezami odedim.cezami odedim.cezami odedim.cezami odedim.cezami odedim.cezami odedim.cezami odedim.cezami odedim.cezami odedim.cezami odedim.cezami odedim.cezami odedim.cezami odedim.cezami odedim.cezami odedim.cezami odedim.cezami odedim.cezami odedim.cezami odedim.cezami odedim.cezami odedim.cezami odedim.cezami odedim.cezami odedim.cezami odedim.cezami odedim.cezami odedim.cezami odedim.cezami odedim.cezami odedim.cezami odedim.cezami odedim.cezami odedim.cezami odedim.cezami odedim.cezami odedim.cezami odedim.cezami odedim.cezami odedim.cezami odedim.cezami odedim."
     ]
    }
   ],
   "source": [
    "ceza = input(\"cezani 50 kere yaz\")\n",
    "for i in range(50):\n",
    "    print(ceza,end=(\"\"))"
   ]
  },
  {
   "cell_type": "code",
   "execution_count": 67,
   "metadata": {},
   "outputs": [
    {
     "name": "stdout",
     "output_type": "stream",
     "text": [
      "ceza aldik iyi mi?\n",
      "ceza aldik iyi mi?\n",
      "ceza aldik iyi mi?\n",
      "ceza aldik iyi mi?\n",
      "ceza aldik iyi mi?\n"
     ]
    }
   ],
   "source": [
    "ceza = int(input(\"cezami yaz\"))\n",
    "for i in range(ceza):\n",
    "    print(\"ceza aldik iyi mi?\")"
   ]
  },
  {
   "cell_type": "code",
   "execution_count": 71,
   "metadata": {},
   "outputs": [
    {
     "name": "stdout",
     "output_type": "stream",
     "text": [
      "5* 0 = 0\n",
      "5* 1 = 5\n",
      "5* 2 = 10\n",
      "5* 3 = 15\n",
      "5* 4 = 20\n",
      "5* 5 = 25\n",
      "5* 6 = 30\n",
      "5* 7 = 35\n",
      "5* 8 = 40\n",
      "5* 9 = 45\n",
      "5* 10 = 50\n"
     ]
    }
   ],
   "source": [
    "number = int(input(\"1 den 10 kadare bir sayi giriniz\"))\n",
    "\n",
    "if number in [1,2,3,4,5,6,7,8,9,10]:\n",
    "\n",
    "    for i in range(0,11):\n",
    "        print(f\"{number}* {i} = {number * i}\")\n",
    "else:\n",
    "    print(\"1 ile 10 arasinda bir sayi girmeni istemistik\")"
   ]
  },
  {
   "cell_type": "code",
   "execution_count": 72,
   "metadata": {},
   "outputs": [
    {
     "name": "stdout",
     "output_type": "stream",
     "text": [
      "1 ile 10 arasinda bir sayi girmeni istemistik\n",
      "1 ile 10 arasinda bir sayi girmeni istemistik\n",
      "9* 0 = 0\n",
      "9* 1 = 9\n",
      "9* 2 = 18\n",
      "9* 3 = 27\n",
      "9* 4 = 36\n",
      "9* 5 = 45\n",
      "9* 6 = 54\n",
      "9* 7 = 63\n",
      "9* 8 = 72\n",
      "9* 9 = 81\n",
      "9* 10 = 90\n"
     ]
    }
   ],
   "source": [
    "while True:    \n",
    "    number = int(input(\"1 den 10 kadare bir sayi giriniz\"))\n",
    "\n",
    "    if number in [1,2,3,4,5,6,7,8,9,10]:\n",
    "\n",
    "        for i in range(0,11):\n",
    "            print(f\"{number}* {i} = {number * i}\")\n",
    "        break\n",
    "    else:\n",
    "        print(\"1 ile 10 arasinda bir sayi girmeni istemistik. Lutfem dogru sayi gir.\")\n",
    "        number = int(input(\"1 den 10 kadare bir sayi giriniz\"))"
   ]
  },
  {
   "cell_type": "code",
   "execution_count": 75,
   "metadata": {},
   "outputs": [
    {
     "name": "stdout",
     "output_type": "stream",
     "text": [
      "ciftler: 0\n",
      "tekler: 1\n",
      "ciftler: 2\n",
      "tekler: 3\n",
      "ciftler: 4\n",
      "tekler: 5\n",
      "ciftler: 6\n",
      "tekler: 7\n",
      "ciftler: 8\n",
      "tekler: 9\n",
      "ciftler: 10\n"
     ]
    }
   ],
   "source": [
    "for i in range(11):\n",
    "    if i %2 == 0:\n",
    "        print(f\"ciftler: {i}\")\n",
    "    else:\n",
    "        print(f\"tekler: {i}\")\n"
   ]
  },
  {
   "cell_type": "code",
   "execution_count": 79,
   "metadata": {},
   "outputs": [
    {
     "name": "stdout",
     "output_type": "stream",
     "text": [
      "[1, 3, 5, 7, 9]\n",
      "[0, 2, 4, 6, 8, 10]\n"
     ]
    }
   ],
   "source": [
    "# 1 den 10 kadar olan sayilari tek ve cift olarak ayirin.\n",
    "tekler =[]\n",
    "ciftler = []\n",
    "for i in range(11):\n",
    "    if i %2 == 0:\n",
    "        ciftler.append(i)\n",
    "    else:\n",
    "        tekler.append(i)\n",
    "print(tekler)\n",
    "print(ciftler)\n"
   ]
  },
  {
   "cell_type": "code",
   "execution_count": 86,
   "metadata": {},
   "outputs": [
    {
     "name": "stdout",
     "output_type": "stream",
     "text": [
      "1275\n"
     ]
    }
   ],
   "source": [
    "toplam = 0\n",
    "for i in range(51):\n",
    "    toplam += i\n",
    "print(toplam)"
   ]
  },
  {
   "cell_type": "code",
   "execution_count": 87,
   "metadata": {},
   "outputs": [
    {
     "data": {
      "text/plain": [
       "1275"
      ]
     },
     "execution_count": 87,
     "metadata": {},
     "output_type": "execute_result"
    }
   ],
   "source": [
    "sum(list(range(51)))"
   ]
  },
  {
   "cell_type": "code",
   "execution_count": null,
   "metadata": {},
   "outputs": [],
   "source": [
    "# armstrong numbers"
   ]
  },
  {
   "cell_type": "code",
   "execution_count": 45,
   "metadata": {},
   "outputs": [
    {
     "name": "stdout",
     "output_type": "stream",
     "text": [
      "153 sayisi armstrong bir sayidir.\n"
     ]
    }
   ],
   "source": [
    "number = (input(\"bir sayi giriniz\"))\n",
    "\n",
    "x = len(number)\n",
    "toplam = 0 \n",
    "for i in number:\n",
    "    toplam += int(i)** x\n",
    "\n",
    "if int(number) == toplam:\n",
    "    print(f\"{number} sayisi armstrong bir sayidir.\")\n",
    "else:\n",
    "    print(f\"{number} sayisi armstrong bir sayi degildir.\")\n"
   ]
  },
  {
   "cell_type": "code",
   "execution_count": 104,
   "metadata": {},
   "outputs": [
    {
     "name": "stdout",
     "output_type": "stream",
     "text": [
      "[5000]\n"
     ]
    }
   ],
   "source": [
    "\n",
    "x = []\n",
    "for i in range(10,5001):\n",
    "    toplam += int(i)** x\n",
    "    \n",
    "\n"
   ]
  },
  {
   "cell_type": "code",
   "execution_count": 4,
   "metadata": {},
   "outputs": [
    {
     "data": {
      "text/plain": [
       "int"
      ]
     },
     "execution_count": 4,
     "metadata": {},
     "output_type": "execute_result"
    }
   ],
   "source": [
    "liste_1 = list(range(10,5000))\n",
    "type(liste_1[0])"
   ]
  },
  {
   "cell_type": "code",
   "execution_count": 5,
   "metadata": {},
   "outputs": [
    {
     "data": {
      "text/plain": [
       "'10'"
      ]
     },
     "execution_count": 5,
     "metadata": {},
     "output_type": "execute_result"
    }
   ],
   "source": [
    "str(liste_1[0])"
   ]
  },
  {
   "cell_type": "code",
   "execution_count": 99,
   "metadata": {},
   "outputs": [
    {
     "name": "stdout",
     "output_type": "stream",
     "text": [
      "[]\n"
     ]
    }
   ],
   "source": [
    "liste_1 = list(range(10,5000))\n",
    "\n",
    "toplam = 0 \n",
    "armstrong = []\n",
    "\n",
    "for i in str(liste_1[index]):\n",
    "    index = 0\n",
    "    x = len(str(liste_1[index]))\n",
    "    toplam += int(i)** x\n",
    "    index += 1  \n",
    "    if liste_1[index] == toplam:\n",
    "        armstrong.append(liste_1[index])\n",
    "    index += 1\n",
    "index += 1\n",
    "print(armstrong)"
   ]
  },
  {
   "cell_type": "code",
   "execution_count": 107,
   "metadata": {},
   "outputs": [
    {
     "name": "stdout",
     "output_type": "stream",
     "text": [
      "[153, 370, 371, 407, 1634]\n"
     ]
    }
   ],
   "source": [
    "armstrong = []\n",
    "for i in range(10,5000):\n",
    "    x = len(str(i))\n",
    "    y = str(i)\n",
    "    toplam = 0 \n",
    "    for z in y:\n",
    "        toplam += int(z)** x\n",
    "    if int(y) == toplam:\n",
    "        armstrong.append(i)\n",
    "print(armstrong)"
   ]
  },
  {
   "cell_type": "code",
   "execution_count": null,
   "metadata": {},
   "outputs": [],
   "source": []
  }
 ],
 "metadata": {
  "kernelspec": {
   "display_name": "Python 3.10.7 64-bit",
   "language": "python",
   "name": "python3"
  },
  "language_info": {
   "codemirror_mode": {
    "name": "ipython",
    "version": 3
   },
   "file_extension": ".py",
   "mimetype": "text/x-python",
   "name": "python",
   "nbconvert_exporter": "python",
   "pygments_lexer": "ipython3",
   "version": "3.10.7"
  },
  "orig_nbformat": 4,
  "vscode": {
   "interpreter": {
    "hash": "7d32b02fdc04bbf9b6c98ac9da1c791696b14f2596c133b22519c78c68994f46"
   }
  }
 },
 "nbformat": 4,
 "nbformat_minor": 2
}
