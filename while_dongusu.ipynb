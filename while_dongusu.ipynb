{
 "cells": [
  {
   "cell_type": "markdown",
   "metadata": {},
   "source": [
    "# While"
   ]
  },
  {
   "cell_type": "code",
   "execution_count": null,
   "metadata": {},
   "outputs": [],
   "source": [
    "# While döngülerinde belirttiğimiz bir koşul doğru olduğu sürece \n",
    "# while bloğu içerisinde tanımladığımız kod satırlarını tekrarlatabiliriz."
   ]
  },
  {
   "cell_type": "code",
   "execution_count": 1,
   "metadata": {},
   "outputs": [
    {
     "name": "stdout",
     "output_type": "stream",
     "text": [
      "1\n",
      "2\n",
      "3\n",
      "4\n"
     ]
    }
   ],
   "source": [
    "i = 1              # 1 den 4 kadar True deger aldigindan dolayi True dondurdu ve yazdirdi. False oldugu zaman donguyu durdurdu.\n",
    "while i < 5:\n",
    "  print(i)\n",
    "  i += 1\n",
    "  # Belirttiğimiz koşul i' nin 5 den küçük olması ve bu koşul devam ettiği sürece (True) ekrana i değeri yazdırılmaya devam eder. \n",
    "  # Ancak burada dikkat etmemiz gereken her adımda i değerini değiştirmemiz gerektiği aksi halde sonsuz bir döngüye gireriz.\n",
    "  # Dolayısıyla i değeri ekrana yazdırıldıktan sonra i' nin değerini 1 arttırmamız gerekiyor. \n",
    "  # i' nin değeri 5' e eşit olduğunda while koşulu bize False değer döndürür ve döngüden çıkılır."
   ]
  },
  {
   "cell_type": "code",
   "execution_count": 3,
   "metadata": {},
   "outputs": [
    {
     "name": "stdout",
     "output_type": "stream",
     "text": [
      "sayi tek: 1\n",
      "sayi cift: 2\n",
      "sayi tek: 3\n",
      "sayi cift: 4\n",
      "sayi tek: 5\n",
      "sayi cift: 6\n",
      "sayi tek: 7\n",
      "sayi cift: 8\n",
      "sayi tek: 9\n",
      "sayi cift: 10\n",
      "sayi tek: 11\n",
      "sayi cift: 12\n",
      "sayi tek: 13\n",
      "sayi cift: 14\n",
      "sayi tek: 15\n",
      "sayi cift: 16\n",
      "sayi tek: 17\n",
      "sayi cift: 18\n",
      "sayi tek: 19\n",
      "sayi cift: 20\n",
      "sayi tek: 21\n",
      "sayi cift: 22\n",
      "sayi tek: 23\n",
      "sayi cift: 24\n",
      "sayi tek: 25\n",
      "sayi cift: 26\n",
      "sayi tek: 27\n",
      "sayi cift: 28\n",
      "sayi tek: 29\n",
      "sayi cift: 30\n",
      "sayi tek: 31\n",
      "sayi cift: 32\n",
      "sayi tek: 33\n",
      "sayi cift: 34\n",
      "sayi tek: 35\n",
      "sayi cift: 36\n",
      "sayi tek: 37\n",
      "sayi cift: 38\n",
      "sayi tek: 39\n",
      "sayi cift: 40\n",
      "sayi tek: 41\n",
      "sayi cift: 42\n",
      "sayi tek: 43\n",
      "sayi cift: 44\n",
      "sayi tek: 45\n",
      "sayi cift: 46\n",
      "sayi tek: 47\n",
      "sayi cift: 48\n",
      "sayi tek: 49\n",
      "sayi cift: 50\n",
      "sayi tek: 51\n",
      "sayi cift: 52\n",
      "sayi tek: 53\n",
      "sayi cift: 54\n",
      "sayi tek: 55\n",
      "sayi cift: 56\n",
      "sayi tek: 57\n",
      "sayi cift: 58\n",
      "sayi tek: 59\n",
      "sayi cift: 60\n",
      "sayi tek: 61\n",
      "sayi cift: 62\n",
      "sayi tek: 63\n",
      "sayi cift: 64\n",
      "sayi tek: 65\n",
      "sayi cift: 66\n",
      "sayi tek: 67\n",
      "sayi cift: 68\n",
      "sayi tek: 69\n",
      "sayi cift: 70\n",
      "sayi tek: 71\n",
      "sayi cift: 72\n",
      "sayi tek: 73\n",
      "sayi cift: 74\n",
      "sayi tek: 75\n",
      "sayi cift: 76\n",
      "sayi tek: 77\n",
      "sayi cift: 78\n",
      "sayi tek: 79\n",
      "sayi cift: 80\n",
      "sayi tek: 81\n",
      "sayi cift: 82\n",
      "sayi tek: 83\n",
      "sayi cift: 84\n",
      "sayi tek: 85\n",
      "sayi cift: 86\n",
      "sayi tek: 87\n",
      "sayi cift: 88\n",
      "sayi tek: 89\n",
      "sayi cift: 90\n",
      "sayi tek: 91\n",
      "sayi cift: 92\n",
      "sayi tek: 93\n",
      "sayi cift: 94\n",
      "sayi tek: 95\n",
      "sayi cift: 96\n",
      "sayi tek: 97\n",
      "sayi cift: 98\n",
      "sayi tek: 99\n",
      "sayi cift: 100\n",
      "bitt...\n"
     ]
    }
   ],
   "source": [
    "x = 1\n",
    "while x <= 100:\n",
    "    if x % 2 == 1:\n",
    "        print(f\"sayi tek: {x}\")\n",
    "    else:\n",
    "        print(f\"sayi cift: {x}\")\n",
    "    x += 1\n",
    "print('bitt...')\n",
    "\n",
    "# x değerini 1 den başlatırız ve 100' den küçük mü kontrol ederiz. x, 100' den küçük olduğu sürece while bloğundaki kodlar işletilir \n",
    "# ve her adımda x' i 1 arttırırız ki sonsuz döngüye girmeyelim. \n",
    "# Her adımda x%2==1 mi diye kontrol ediyoruz eğer bu ifade bize True bilgisi getirirse \n",
    "# demek ki sayı tek olduğundan sayı tek aksi halde sayı çift mesajını yazdırıyoruz."
   ]
  },
  {
   "cell_type": "code",
   "execution_count": 2,
   "metadata": {},
   "outputs": [
    {
     "name": "stdout",
     "output_type": "stream",
     "text": [
      "\n",
      "(1) topla\n",
      "(2) çıkar\n",
      "(3) çarp\n",
      "(4) böl\n",
      "(5) karesini hesapla\n",
      "(6) karekök hesapla\n",
      "\n",
      "50 sayısının karesi = 2500\n",
      "çıkılıyor...\n"
     ]
    }
   ],
   "source": [
    "giriş = \"\"\"\n",
    "(1) topla\n",
    "(2) çıkar\n",
    "(3) çarp\n",
    "(4) böl\n",
    "(5) karesini hesapla\n",
    "(6) karekök hesapla\n",
    "\"\"\"\n",
    "\n",
    "print(giriş)\n",
    "\n",
    "anahtar = 1\n",
    "\n",
    "while anahtar == 1:\n",
    "    soru = input(\"Yapmak istediğiniz işlemin numarasını girin (Çıkmak için q): \")\n",
    "\n",
    "    if soru == \"q\":\n",
    "        print(\"çıkılıyor...\")\n",
    "        anahtar = 0\n",
    "\n",
    "    elif soru == \"1\":\n",
    "        sayı1 = int(input(\"Toplama işlemi için ilk sayıyı girin: \"))\n",
    "        sayı2 = int(input(\"Toplama işlemi için ikinci sayıyı girin: \"))\n",
    "        print(sayı1, \"+\", sayı2, \"=\", sayı1 + sayı2)\n",
    "\n",
    "    elif soru == \"2\":\n",
    "        sayı3 = int(input(\"Çıkarma işlemi için ilk sayıyı girin: \"))\n",
    "        sayı4 = int(input(\"Çıkarma işlemi için ikinci sayıyı girin: \"))\n",
    "        print(sayı3, \"-\", sayı4, \"=\", sayı3 - sayı4)\n",
    "\n",
    "    elif soru == \"3\":\n",
    "        sayı5 = int(input(\"Çarpma işlemi için ilk sayıyı girin: \"))\n",
    "        sayı6 = int(input(\"Çarpma işlemi için ikinci sayıyı girin: \"))\n",
    "        print(sayı5, \"x\", sayı6, \"=\", sayı5 * sayı6)\n",
    "\n",
    "    elif soru == \"4\":\n",
    "        sayı7 = int(input(\"Bölme işlemi için ilk sayıyı girin: \"))\n",
    "        sayı8 = int(input(\"Bölme işlemi için ikinci sayıyı girin: \"))\n",
    "        print(sayı7, \"/\", sayı8, \"=\", sayı7 / sayı8)\n",
    "\n",
    "    elif soru == \"5\":\n",
    "        sayı9 = int(input(\"Karesini hesaplamak istediğiniz sayıyı girin: \"))\n",
    "        print(sayı9, \"sayısının karesi =\", sayı9 ** 2)\n",
    "\n",
    "    elif soru == \"6\":\n",
    "        sayı10 = int(input(\"Karekökünü hesaplamak istediğiniz sayıyı girin: \"))\n",
    "        print(sayı10, \"sayısının karekökü = \", sayı10 ** 0.5)\n",
    "\n",
    "    else:\n",
    "        print(\"Yanlış giriş.\")\n",
    "        print(\"Aşağıdaki seçeneklerden birini giriniz:\", giriş)\n",
    "\n",
    "\n",
    "# Öncelikle değeri 1 olan anahtar adlı bir değişken tanımladık. \n",
    "# Bir alt satırda ise, programımızın sürekli olarak çalışmasını sağlayacak olan while döngümüzü yazıyoruz. \n",
    "# Programımız, anahtar değişkeninin değeri 1 olduğu müddetçe çalışmaya devam edecek. \n",
    "# Daha önce de dediğimiz gibi, eğer bu anahtar değişkeninin değerini programın bir noktasında değiştirmezsek programımız sonsuza kadar \n",
    "# çalışmaya devam edecektir. Çünkü biz programımızı anahtar değişkeninin değeri 1 olduğu sürece çalışmaya ayarladık. \n",
    "# İşte programımızın bu tür bir sonsuz döngüye girmesini önlemek için bir if bloğu oluşturuyoruz. \n",
    "# Buna göre, eğer kullanıcı klavyede q tuşuna basarsa programımız önce çıkılıyor… çıktısı verecek, ardından da anahtar değişkeninin 1 olan değerini 0 yapacaktır. \n",
    "# Böylece artık anahtar’ın değeri 1 olmayacağı için programımız çalışmaya son verecektir.        "
   ]
  },
  {
   "cell_type": "code",
   "execution_count": null,
   "metadata": {},
   "outputs": [],
   "source": [
    "giriş = \"\"\"\n",
    "(1) topla\n",
    "(2) çıkar\n",
    "(3) çarp\n",
    "(4) böl\n",
    "(5) karesini hesapla\n",
    "(6) karekök hesapla\n",
    "\"\"\"\n",
    "\n",
    "print(giriş)\n",
    "\n",
    "while True:\n",
    "    soru = input(\"Yapmak istediğiniz işlemin numarasını girin (Çıkmak için q): \")\n",
    "\n",
    "    if soru == \"q\":\n",
    "        print(\"çıkılıyor...\")\n",
    "        break\n",
    "\n",
    "    elif soru == \"1\":\n",
    "        sayı1 = int(input(\"Toplama işlemi için ilk sayıyı girin: \"))\n",
    "        sayı2 = int(input(\"Toplama işlemi için ikinci sayıyı girin: \"))\n",
    "        print(sayı1, \"+\", sayı2, \"=\", sayı1 + sayı2)\n",
    "\n",
    "    elif soru == \"2\":\n",
    "        sayı3 = int(input(\"Çıkarma işlemi için ilk sayıyı girin: \"))\n",
    "        sayı4 = int(input(\"Çıkarma işlemi için ikinci sayıyı girin: \"))\n",
    "        print(sayı3, \"-\", sayı4, \"=\", sayı3 - sayı4)\n",
    "\n",
    "    elif soru == \"3\":\n",
    "        sayı5 = int(input(\"Çarpma işlemi için ilk sayıyı girin: \"))\n",
    "        sayı6 = int(input(\"Çarpma işlemi için ikinci sayıyı girin: \"))\n",
    "        print(sayı5, \"x\", sayı6, \"=\", sayı5 * sayı6)\n",
    "\n",
    "    elif soru == \"4\":\n",
    "        sayı7 = int(input(\"Bölme işlemi için ilk sayıyı girin: \"))\n",
    "        sayı8 = int(input(\"Bölme işlemi için ikinci sayıyı girin: \"))\n",
    "        print(sayı7, \"/\", sayı8, \"=\", sayı7 / sayı8)\n",
    "\n",
    "    elif soru == \"5\":\n",
    "        sayı9 = int(input(\"Karesini hesaplamak istediğiniz sayıyı girin: \"))\n",
    "        print(sayı9, \"sayısının karesi =\", sayı9 ** 2)\n",
    "\n",
    "    elif soru == \"6\":\n",
    "        sayı10 = int(input(\"Karekökünü hesaplamak istediğiniz sayıyı girin: \"))\n",
    "        print(sayı10, \"sayısının karekökü = \", sayı10 ** 0.5)\n",
    "\n",
    "    else:\n",
    "        print(\"Yanlış giriş.\")\n",
    "        print(\"Aşağıdaki seçeneklerden birini giriniz:\", giriş)\n",
    "    \n",
    "# "
   ]
  },
  {
   "cell_type": "code",
   "execution_count": 4,
   "metadata": {},
   "outputs": [
    {
     "name": "stdout",
     "output_type": "stream",
     "text": [
      "tekrar:  1\n",
      "bool değeri:  True\n",
      "tekrar:  2\n",
      "bool değeri:  True\n",
      "tekrar:  3\n",
      "bool değeri:  False\n"
     ]
    }
   ],
   "source": [
    "tekrar = 1\n",
    "\n",
    "while tekrar <= 3:\n",
    "    print(\"tekrar: \", tekrar)\n",
    "    tekrar += 1\n",
    "    input(\"Nasılsınız, iyi misiniz?\")\n",
    "    print(\"bool değeri: \", bool(tekrar <= 3))\n",
    "\n",
    "# Gördüğünüz gibi, tekrar değişkeninin değeri her döngüde 1 artıyor. tekrar <= 3 ifadesinin bool değeri, \n",
    "# tekrar adlı değişkenin değeri 3’ü aşana kadar hep True olacaktır. \n",
    "# Bu değişkenin değeri 3’ü aştığı anda tekrar <= 3 ifadesinin bool değeri False’a dönüyor ve böylece while döngüsü sona eriyor."
   ]
  },
  {
   "cell_type": "code",
   "execution_count": 7,
   "metadata": {},
   "outputs": [
    {
     "name": "stdout",
     "output_type": "stream",
     "text": [
      "2 4 6 8 10 12 14 16 18 20 22 24 26 28 30 32 34 36 38 40 42 44 46 48 50 52 54 56 58 60 62 64 66 68 70 72 74 76 78 80 82 84 86 88 90 92 94 96 98 100 "
     ]
    }
   ],
   "source": [
    "# while döngüsünü kullanarak 1’den 100’e kadar olan aralıktaki çift sayıları nasıl bulursunuz?\n",
    "\n",
    "a = 0\n",
    "while a <= 100:\n",
    "    a += 1\n",
    "    if a %2 == 0:\n",
    "        print(a, end=' ')\n",
    "# a değişkeninin değeri 100’den küçük olduğu müddetçe a değişkeninin değerini 1 artır. \n",
    "# Bu değişkenin değerini her artırışında yeni değerin 2’ye tam bölünüp bölünmediğini kontrol et. \n",
    "# Eğer a modülüs 2 değeri 0 ise (if a % 2 == 0), yani a’nın değeri bir çift sayı ise, bu değeri ekrana yazdır."
   ]
  },
  {
   "cell_type": "code",
   "execution_count": 8,
   "metadata": {},
   "outputs": [
    {
     "name": "stdout",
     "output_type": "stream",
     "text": [
      "0 2 4 6 8 10 12 14 16 18 20 22 24 26 28 30 32 34 36 38 40 42 44 46 48 50 52 54 56 58 60 62 64 66 68 70 72 74 76 78 80 82 84 86 88 90 92 94 96 98 100 "
     ]
    }
   ],
   "source": [
    "a = 0\n",
    "while a <= 100:\n",
    "    \n",
    "    if a %2 == 0:\n",
    "        print(a, end=' ')\n",
    "    a += 1"
   ]
  },
  {
   "cell_type": "code",
   "execution_count": 11,
   "metadata": {},
   "outputs": [
    {
     "name": "stdout",
     "output_type": "stream",
     "text": [
      "1\n",
      "2\n",
      "3\n",
      "4\n",
      "5\n",
      "i is no longer less than 6\n"
     ]
    }
   ],
   "source": [
    "i = 1\n",
    "while i < 6:\n",
    "  print(i)\n",
    "  i += 1\n",
    "else:\n",
    "\n",
    "  print(\"i is no longer less than 6\")"
   ]
  },
  {
   "cell_type": "markdown",
   "metadata": {},
   "source": [
    "# Break ve Continue "
   ]
  },
  {
   "cell_type": "markdown",
   "metadata": {},
   "source": [
    "# break komutu döngüyü sonlandırır, continue ise döngünün o turunu sonlandırır ve bir sonraki turdan devam eder."
   ]
  },
  {
   "cell_type": "code",
   "execution_count": 57,
   "metadata": {},
   "outputs": [
    {
     "name": "stdout",
     "output_type": "stream",
     "text": [
      "1\n",
      "3\n",
      "4\n",
      "5\n"
     ]
    }
   ],
   "source": [
    "x = 0\n",
    "while x < 5:    \n",
    "   x+=1\n",
    "   if x == 2:\n",
    "     continue\n",
    "   print(x)\n",
    "\n",
    "# x, 5' den küçük olduğu sürece ekrana yazdırılır \n",
    "# ancak x' in 2 olduğu turda continue komutu çalışınca x ekrana yazdırılmaz ancak döngü sonraki turdan devam eder.\n"
   ]
  },
  {
   "cell_type": "code",
   "execution_count": 24,
   "metadata": {},
   "outputs": [
    {
     "name": "stdout",
     "output_type": "stream",
     "text": [
      "1\n"
     ]
    }
   ],
   "source": [
    "x = 0\n",
    "while x < 5:    \n",
    "   x+=1\n",
    "   if x == 2:\n",
    "       break\n",
    "   print(x)\n",
    "\n",
    "# Peki aynı örnekte continue yerine break yazarsak ne olur ?\n",
    "# x, 5' den küçük olduğu sürece ekrana yazdırılır ancak x' in 2 olduğu turda break komutu çalışınca döngü biter ve ekrana sadece 1 yazdırılır."
   ]
  },
  {
   "cell_type": "code",
   "execution_count": 50,
   "metadata": {},
   "outputs": [
    {
     "name": "stdout",
     "output_type": "stream",
     "text": [
      "2500 "
     ]
    }
   ],
   "source": [
    "# 1-100 kadar olan sayilarin toplamini yazdiralim.\n",
    "x = 0\n",
    "result = 0\n",
    "while x < 100:\n",
    "    x += 1\n",
    "    if x %2 == 0:\n",
    "       continue\n",
    "    result +=  x\n",
    "print(result,end=(' '))\n",
    "\n",
    "# x%2==0, True değer döndürdüğünde sayının çift olduğunu anlarız ve continue ile x değerini result içerisine eklemeyiz \n",
    "# ancak sonraki turdan devam ederiz."
   ]
  },
  {
   "cell_type": "code",
   "execution_count": 38,
   "metadata": {},
   "outputs": [
    {
     "name": "stdout",
     "output_type": "stream",
     "text": [
      "1 3 5 7 9 12 19 21 "
     ]
    }
   ],
   "source": [
    "# Sayilar listesini while ile ekrana yazdırınız.  \n",
    "sayilar = [1,3,5,7,9,12,19,21]\n",
    "\n",
    "i = 0\n",
    "while i < len(sayilar):\n",
    "    print(sayilar[i], end=(' '))\n",
    "    i += 1"
   ]
  },
  {
   "cell_type": "code",
   "execution_count": 49,
   "metadata": {},
   "outputs": [
    {
     "name": "stdout",
     "output_type": "stream",
     "text": [
      "11 13 15 17 19 21 23 25 27 29 31 "
     ]
    }
   ],
   "source": [
    "# Başlangıç ve bitiş değerlerini kullanıcıdan alıp aradaki tüm tek sayıları ekrana yazdırınız.\n",
    "baslangic = int(input('başlangıç: '))\n",
    "bitis = int(input('bitiş: '))\n",
    "\n",
    "i = baslangic\n",
    "while i < bitis:\n",
    "    i += 1\n",
    "    if (i % 2 == 1): \n",
    "        print(i, end=(' '))\n"
   ]
  },
  {
   "cell_type": "code",
   "execution_count": null,
   "metadata": {},
   "outputs": [],
   "source": [
    "while True:    \n",
    "    number = int(input(\"1 den 10 kadare bir sayi giriniz\"))\n",
    "\n",
    "    if number in [1,2,3,4,5,6,7,8,9,10]:\n",
    "\n",
    "        for i in range(0,11):\n",
    "            print(f\"{number}* {i} = {number * i}\")\n",
    "        break\n",
    "    else:\n",
    "        print(\"1 ile 10 arasinda bir sayi girmeni istemistik\")\n",
    "        number = int(input(\"1 den 10 kadare bir sayi giriniz\"))"
   ]
  },
  {
   "cell_type": "code",
   "execution_count": 1,
   "metadata": {},
   "outputs": [
    {
     "name": "stdout",
     "output_type": "stream",
     "text": [
      "0\n",
      "1\n",
      "2\n",
      "3\n",
      "4\n"
     ]
    }
   ],
   "source": [
    "sayi = 0\n",
    "\n",
    "while sayi < 5:\n",
    "    print(sayi)\n",
    "    sayi = sayi + 1\n"
   ]
  },
  {
   "cell_type": "code",
   "execution_count": 2,
   "metadata": {},
   "outputs": [
    {
     "name": "stdout",
     "output_type": "stream",
     "text": [
      "0\n",
      "1\n",
      "2\n",
      "3\n",
      "4\n"
     ]
    }
   ],
   "source": [
    "sayi = 0\n",
    "\n",
    "while sayi < 5:\n",
    "    print(sayi)\n",
    "    sayi += 1"
   ]
  },
  {
   "cell_type": "code",
   "execution_count": 5,
   "metadata": {},
   "outputs": [
    {
     "name": "stdout",
     "output_type": "stream",
     "text": [
      "0\n",
      "dongunun sonu\n",
      "1\n",
      "dongunun sonu\n",
      "2\n",
      "dongunun sonu\n",
      "3\n",
      "dongunun sonu\n",
      "4\n",
      "dongunun sonu\n"
     ]
    }
   ],
   "source": [
    "sayi = 0\n",
    "\n",
    "while sayi < 5:\n",
    "    print(sayi)\n",
    "    sayi += 1\n",
    "    print(\"dongunun sonu\")"
   ]
  },
  {
   "cell_type": "code",
   "execution_count": 6,
   "metadata": {},
   "outputs": [
    {
     "name": "stdout",
     "output_type": "stream",
     "text": [
      "0\n",
      "1\n",
      "2\n",
      "3\n",
      "4\n",
      "dongunun sonu\n"
     ]
    }
   ],
   "source": [
    "sayi = 0\n",
    "\n",
    "while sayi < 5:\n",
    "    print(sayi)\n",
    "    sayi += 1\n",
    "\n",
    "print(\"dongunun sonu\")"
   ]
  },
  {
   "cell_type": "code",
   "execution_count": 11,
   "metadata": {},
   "outputs": [
    {
     "name": "stdout",
     "output_type": "stream",
     "text": [
      "1\n",
      "4\n",
      "9\n",
      "16\n",
      "25\n"
     ]
    }
   ],
   "source": [
    "sayi_listesi = [1, 2, 3, 4, 5]\n",
    "x = 0\n",
    "while x < len(sayi_listesi):\n",
    "    print(sayi_listesi[x]**2)\n",
    "    x += 1"
   ]
  },
  {
   "cell_type": "code",
   "execution_count": 19,
   "metadata": {},
   "outputs": [
    {
     "name": "stdout",
     "output_type": "stream",
     "text": [
      "Girdiginiz sayi 80. tahminini azalt\n",
      "Girdiginiz sayi 40.tahminini arttir\n",
      "Bravo!. Dogru Tahmin\n",
      "3 denemede tahmin ettin\n"
     ]
    }
   ],
   "source": [
    "sayi = 55\n",
    "sayac = 0\n",
    "while True:\n",
    "    tahmin = int(input(\"sayiyi tahmin edin\"))\n",
    "    \n",
    "    if sayi < tahmin:\n",
    "        print(f\"Girdiginiz sayi {tahmin}. tahminini azalt\")\n",
    "        sayac += 1\n",
    "    elif sayi > tahmin:\n",
    "        print(f\"Girdiginiz sayi {tahmin}.tahminini arttir\")\n",
    "        sayac += 1\n",
    "\n",
    "    else:\n",
    "        print(\"Bravo!. Dogru Tahmin\")\n",
    "        sayac += 1\n",
    "        break\n",
    "print(f\"{sayac} denemede tahmin ettin\")"
   ]
  },
  {
   "cell_type": "code",
   "execution_count": 38,
   "metadata": {},
   "outputs": [
    {
     "name": "stdout",
     "output_type": "stream",
     "text": [
      "Girdiginiz sayi 34.tahminini arttir\n",
      "Girdiginiz sayi 61. tahminini azalt\n",
      "Girdiginiz sayi 48.tahminini arttir\n",
      "Girdiginiz sayi 53. tahminini azalt\n",
      "Girdiginiz sayi 50. tahminini azalt\n",
      "Bravo!. Dogru Tahmin\n",
      "6 denemede tahmin ettin\n"
     ]
    }
   ],
   "source": [
    "import random\n",
    "\n",
    "sayi = random.randint(0,100)\n",
    "sayac = 0\n",
    "while True:\n",
    "    tahmin = int(input(\"sayiyi tahmin edin\"))\n",
    "    \n",
    "    if sayi < tahmin:\n",
    "        print(f\"Girdiginiz sayi {tahmin}. tahminini azalt\")\n",
    "        sayac += 1\n",
    "    elif sayi > tahmin:\n",
    "        print(f\"Girdiginiz sayi {tahmin}.tahminini arttir\")\n",
    "        sayac += 1\n",
    "\n",
    "    else:\n",
    "        print(\"Bravo!. Dogru Tahmin\")\n",
    "        sayac += 1\n",
    "        break\n",
    "print(f\"{sayac} denemede tahmin ettin\")"
   ]
  },
  {
   "cell_type": "code",
   "execution_count": 40,
   "metadata": {},
   "outputs": [
    {
     "name": "stdout",
     "output_type": "stream",
     "text": [
      "Girdiginiz sayi 78. tahminini azalt\n",
      "Girdiginiz sayi 38.tahminini arttir\n",
      "Girdiginiz sayi 52. tahminini azalt\n",
      "3 denemede bulamadin\n"
     ]
    }
   ],
   "source": [
    "import random\n",
    "\n",
    "sayi = random.randint(0,100)\n",
    "\n",
    "dongu_sayisi = 0\n",
    "while dongu_sayisi < 3:\n",
    "    tahmin = int(input(\"sayiyi tahmin edin\"))\n",
    "    \n",
    "    if sayi < tahmin:\n",
    "        print(f\"Girdiginiz sayi {tahmin}. tahminini azalt\")\n",
    "        dongu_sayisi += 1\n",
    "    elif sayi > tahmin:\n",
    "        print(f\"Girdiginiz sayi {tahmin}.tahminini arttir\")\n",
    "        dongu_sayisi += 1\n",
    "    else:\n",
    "        print(\"Bravo!. Dogru Tahmin\")\n",
    "        break\n",
    "print(\"3 denemede bulamadin\")"
   ]
  },
  {
   "cell_type": "code",
   "execution_count": 44,
   "metadata": {},
   "outputs": [
    {
     "data": {
      "text/plain": [
       "48"
      ]
     },
     "execution_count": 44,
     "metadata": {},
     "output_type": "execute_result"
    }
   ],
   "source": [
    "# max fonksiyonu kullanmadan listenin en buyuk elamanini dondurun\n",
    "liste = [12, 17, 25, 48, 23, 14, 16]\n",
    "min(liste)\n",
    "max(liste)"
   ]
  },
  {
   "cell_type": "code",
   "execution_count": 45,
   "metadata": {},
   "outputs": [
    {
     "data": {
      "text/plain": [
       "12"
      ]
     },
     "execution_count": 45,
     "metadata": {},
     "output_type": "execute_result"
    }
   ],
   "source": [
    "liste = [12, 17, 25, 48, 23, 14, 16]\n",
    "min(liste)"
   ]
  },
  {
   "cell_type": "code",
   "execution_count": 49,
   "metadata": {},
   "outputs": [
    {
     "name": "stdout",
     "output_type": "stream",
     "text": [
      "48\n"
     ]
    }
   ],
   "source": [
    "liste = [12, 17, 25, 48, 23, 14, 16]\n",
    "index = 0\n",
    "max_eleman = 0\n",
    "while  index < len(liste):\n",
    "    if liste[index] > max_eleman:\n",
    "        max_eleman = liste[index]\n",
    "    index += 1\n",
    "print(max_eleman)\n"
   ]
  },
  {
   "cell_type": "code",
   "execution_count": 2,
   "metadata": {},
   "outputs": [
    {
     "name": "stdout",
     "output_type": "stream",
     "text": [
      "48\n"
     ]
    }
   ],
   "source": [
    "liste = [12, 17, 25, 48, 23, 14, 16]\n",
    "index = 0\n",
    "max_eleman = liste[0]\n",
    "while  index < len(liste):\n",
    "    if liste[index] > max_eleman:\n",
    "        max_eleman = liste[index]\n",
    "    index += 1\n",
    "print(max_eleman)"
   ]
  },
  {
   "cell_type": "code",
   "execution_count": 53,
   "metadata": {},
   "outputs": [
    {
     "data": {
      "text/plain": [
       "[0, 1, 2, 3, 4, 5, 6, 7, 8, 9, 10]"
      ]
     },
     "execution_count": 53,
     "metadata": {},
     "output_type": "execute_result"
    }
   ],
   "source": [
    "liste_1 = list(range(11))\n",
    "liste_1"
   ]
  },
  {
   "cell_type": "code",
   "execution_count": 58,
   "metadata": {},
   "outputs": [
    {
     "name": "stdout",
     "output_type": "stream",
     "text": [
      "[0, 2, 4, 6, 8, 10]\n",
      "[1, 3, 5, 7, 9]\n"
     ]
    }
   ],
   "source": [
    "liste_1 = list(range(11))\n",
    "\n",
    "evens = []\n",
    "odds = []\n",
    "index = 0\n",
    "while index < len(liste_1):\n",
    "    if liste_1[index] %2 ==0:\n",
    "        evens.append(liste_1[index])\n",
    "        index += 1\n",
    "    else:\n",
    "        odds.append(liste_1[index])\n",
    "        index += 1\n",
    "print(evens)\n",
    "print(odds)\n"
   ]
  },
  {
   "cell_type": "code",
   "execution_count": 3,
   "metadata": {},
   "outputs": [
    {
     "name": "stdout",
     "output_type": "stream",
     "text": [
      "[0, 2, 4, 6, 8, 10]\n",
      "[1, 3, 5, 7, 9]\n"
     ]
    }
   ],
   "source": [
    "liste_1 = list(range(11))\n",
    "\n",
    "evens = []\n",
    "odds = []\n",
    "index = 0\n",
    "while index < len(liste_1):\n",
    "    if liste_1[index] %2 ==0:\n",
    "        evens.append(liste_1[index])\n",
    "       \n",
    "    else:\n",
    "        odds.append(liste_1[index])\n",
    "    index += 1\n",
    "print(evens)\n",
    "print(odds)"
   ]
  },
  {
   "cell_type": "code",
   "execution_count": 62,
   "metadata": {},
   "outputs": [
    {
     "name": "stdout",
     "output_type": "stream",
     "text": [
      "5 adet cift sayi vardir.\n",
      "3 adet tek sayi vardir.\n"
     ]
    }
   ],
   "source": [
    "liste_2 = [14, 75, 35, 20, 17, 98, 66, 74]\n",
    "tek_sayilar = 0\n",
    "cift_sayilar = 0\n",
    "index = 0\n",
    "while index < len(liste_2):\n",
    "    if liste_2[index] %2 == 0:\n",
    "        cift_sayilar += 1\n",
    "        index += 1\n",
    "    else:\n",
    "        tek_sayilar += 1\n",
    "        index += 1\n",
    "print(f\"{cift_sayilar} adet cift sayi vardir.\")\n",
    "print(f\"{tek_sayilar} adet tek sayi vardir.\")      \n"
   ]
  },
  {
   "cell_type": "code",
   "execution_count": 7,
   "metadata": {},
   "outputs": [
    {
     "name": "stdout",
     "output_type": "stream",
     "text": [
      "[896, 542, 152, 112, 87, 85, 55, 44, 11, 10]\n"
     ]
    }
   ],
   "source": [
    "numbers = []\n",
    "\n",
    "i = 0\n",
    "while i < 10:\n",
    "    sayi = int(input(\"Dongu durana kadar sayi giriniz.\"))\n",
    "    numbers.append(sayi)\n",
    "    i += 1\n",
    "numbers.sort(reverse=True)\n",
    "print(numbers)\n"
   ]
  },
  {
   "cell_type": "code",
   "execution_count": 9,
   "metadata": {},
   "outputs": [
    {
     "name": "stdout",
     "output_type": "stream",
     "text": [
      "i: 0\n",
      "i: 1\n",
      "i: 2\n",
      "i: 3\n",
      "i: 4\n",
      "i: 5\n",
      "i: 6\n",
      "i: 7\n",
      "i: 8\n",
      "i: 9\n"
     ]
    }
   ],
   "source": [
    "i = 0\n",
    "while i < 10:\n",
    "    print(\"i:\", i)\n",
    "    i += 1"
   ]
  },
  {
   "cell_type": "code",
   "execution_count": 10,
   "metadata": {},
   "outputs": [
    {
     "name": "stdout",
     "output_type": "stream",
     "text": [
      "i: 0\n",
      "i: 1\n",
      "i: 2\n",
      "i: 3\n",
      "i: 4\n"
     ]
    }
   ],
   "source": [
    "i = 0\n",
    "while i < 10:\n",
    "    if i == 5:\n",
    "        break\n",
    "    print(\"i:\", i)\n",
    "    i += 1"
   ]
  },
  {
   "cell_type": "code",
   "execution_count": 22,
   "metadata": {},
   "outputs": [
    {
     "name": "stdout",
     "output_type": "stream",
     "text": [
      "i: 0\n",
      "i: 1\n",
      "i: 2\n",
      "i: 3\n",
      "i: 4\n",
      "i: 6\n",
      "i: 7\n",
      "i: 8\n",
      "i: 9\n"
     ]
    }
   ],
   "source": [
    "i = 0\n",
    "while i < 10:\n",
    "    if i == 5:\n",
    "        i += 1\n",
    "        continue\n",
    "    print(\"i:\", i)\n",
    "    i += 1\n",
    " "
   ]
  },
  {
   "cell_type": "code",
   "execution_count": null,
   "metadata": {},
   "outputs": [],
   "source": [
    "i = 0\n",
    "while i < 10:\n",
    "    if i == 5 or i == 7:\n",
    "        i += 1\n",
    "        continue\n",
    "    print(\"i:\", i)\n",
    "    i += 1"
   ]
  },
  {
   "cell_type": "code",
   "execution_count": 23,
   "metadata": {},
   "outputs": [
    {
     "name": "stdout",
     "output_type": "stream",
     "text": [
      "i: 1\n",
      "i: 2\n",
      "i: 3\n",
      "i: 4\n",
      "i: 6\n",
      "i: 7\n",
      "i: 8\n",
      "i: 9\n",
      "i: 11\n"
     ]
    }
   ],
   "source": [
    "i = 0\n",
    "while i < 12:\n",
    "    if i %5 == 0:\n",
    "        i += 1\n",
    "        continue\n",
    "    print(\"i:\", i)\n",
    "    i += 1\n",
    " "
   ]
  },
  {
   "cell_type": "code",
   "execution_count": 33,
   "metadata": {},
   "outputs": [
    {
     "name": "stdout",
     "output_type": "stream",
     "text": [
      " 0 in faktoriyel degeri: 120\n"
     ]
    }
   ],
   "source": [
    "x = int(input(\"pozitif bir sayi giriniz.\"))\n",
    "\n",
    "if x < 0:\n",
    "    print(\"yanlis girdiniz.\")\n",
    "else:\n",
    "\n",
    "    faktoriyel = 1\n",
    "    while x > 0:\n",
    "       faktoriyel *= x\n",
    "       x -= 1\n",
    "    \n",
    "print(f\" {x} in faktoriyel degeri: {faktoriyel}\") \n"
   ]
  },
  {
   "cell_type": "code",
   "execution_count": null,
   "metadata": {},
   "outputs": [],
   "source": []
  },
  {
   "cell_type": "code",
   "execution_count": null,
   "metadata": {},
   "outputs": [],
   "source": []
  },
  {
   "cell_type": "code",
   "execution_count": null,
   "metadata": {},
   "outputs": [],
   "source": []
  },
  {
   "cell_type": "code",
   "execution_count": null,
   "metadata": {},
   "outputs": [],
   "source": []
  }
 ],
 "metadata": {
  "kernelspec": {
   "display_name": "Python 3.10.7 64-bit",
   "language": "python",
   "name": "python3"
  },
  "language_info": {
   "codemirror_mode": {
    "name": "ipython",
    "version": 3
   },
   "file_extension": ".py",
   "mimetype": "text/x-python",
   "name": "python",
   "nbconvert_exporter": "python",
   "pygments_lexer": "ipython3",
   "version": "3.10.7"
  },
  "orig_nbformat": 4,
  "vscode": {
   "interpreter": {
    "hash": "7d32b02fdc04bbf9b6c98ac9da1c791696b14f2596c133b22519c78c68994f46"
   }
  }
 },
 "nbformat": 4,
 "nbformat_minor": 2
}
