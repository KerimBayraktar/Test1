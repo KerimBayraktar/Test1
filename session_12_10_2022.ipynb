{
 "cells": [
  {
   "cell_type": "code",
   "execution_count": 1,
   "metadata": {},
   "outputs": [],
   "source": [
    "liste = [12, 17, 25, 48, 23, 14, 16]"
   ]
  },
  {
   "cell_type": "code",
   "execution_count": 2,
   "metadata": {},
   "outputs": [
    {
     "data": {
      "text/plain": [
       "48"
      ]
     },
     "execution_count": 2,
     "metadata": {},
     "output_type": "execute_result"
    }
   ],
   "source": [
    "max(liste)"
   ]
  },
  {
   "cell_type": "code",
   "execution_count": 4,
   "metadata": {},
   "outputs": [
    {
     "name": "stdout",
     "output_type": "stream",
     "text": [
      "48\n"
     ]
    }
   ],
   "source": [
    "liste = [12, 17, 25, 48, 23, 14, 16]\n",
    "index = 0\n",
    "max_eleman = 0\n",
    "while index < len(liste):\n",
    "    if liste[index] > max_eleman:\n",
    "        max_eleman = liste[index]\n",
    "    index += 1\n",
    "\n",
    "print(max_eleman)\n"
   ]
  },
  {
   "cell_type": "code",
   "execution_count": 5,
   "metadata": {},
   "outputs": [
    {
     "name": "stdout",
     "output_type": "stream",
     "text": [
      "99\n"
     ]
    }
   ],
   "source": [
    "liste = [12, 17, 25, 48, 23, 14, 16]\n",
    "index = 0\n",
    "max_eleman = 0\n",
    "while index < len(liste):\n",
    "    if liste[index] > max_eleman:\n",
    "        max_eleman = liste[index]\n",
    "    index += 1\n",
    "\n",
    "print(max_eleman)"
   ]
  },
  {
   "cell_type": "code",
   "execution_count": 6,
   "metadata": {},
   "outputs": [],
   "source": [
    "liste_1 = list(range(11))"
   ]
  },
  {
   "cell_type": "code",
   "execution_count": 7,
   "metadata": {},
   "outputs": [
    {
     "data": {
      "text/plain": [
       "[0, 1, 2, 3, 4, 5, 6, 7, 8, 9, 10]"
      ]
     },
     "execution_count": 7,
     "metadata": {},
     "output_type": "execute_result"
    }
   ],
   "source": [
    "liste_1"
   ]
  },
  {
   "cell_type": "code",
   "execution_count": 17,
   "metadata": {},
   "outputs": [
    {
     "name": "stdout",
     "output_type": "stream",
     "text": [
      "[1, 3, 5, 7, 9]\n",
      "[0, 2, 4, 6, 8, 10]\n"
     ]
    }
   ],
   "source": [
    "liste_1 = list(range(11))\n",
    "tek = []\n",
    "cift = []\n",
    "x = 0\n",
    "while x < len(liste_1):\n",
    "    if liste_1[x] %2 == 0:\n",
    "        cift.append(x)\n",
    "        \n",
    "    else:\n",
    "        tek.append(x)\n",
    "    x += 1\n",
    "print(tek)\n",
    "print(cift)      \n"
   ]
  },
  {
   "cell_type": "code",
   "execution_count": 18,
   "metadata": {},
   "outputs": [],
   "source": [
    "liste = [14, 75, 35, 20, 17, 98, 66, 74]"
   ]
  },
  {
   "cell_type": "code",
   "execution_count": 20,
   "metadata": {},
   "outputs": [
    {
     "name": "stdout",
     "output_type": "stream",
     "text": [
      "5\n",
      "3\n"
     ]
    }
   ],
   "source": [
    "liste = [14, 75, 35, 20, 17, 98, 66, 74]\n",
    "x = 0\n",
    "tek_sayilar = 0\n",
    "cift_sayilar = 0\n",
    "while x < len(liste):\n",
    "    if liste[x] %2 == 0:\n",
    "        cift_sayilar += 1\n",
    "    else:\n",
    "        tek_sayilar  += 1\n",
    "    x += 1\n",
    "\n",
    "print(cift_sayilar)\n",
    "print(tek_sayilar)      \n"
   ]
  },
  {
   "cell_type": "code",
   "execution_count": 22,
   "metadata": {},
   "outputs": [
    {
     "name": "stdout",
     "output_type": "stream",
     "text": [
      "[888, 105, 99, 54, 50, 48, 7, 5, 3, 1]\n"
     ]
    }
   ],
   "source": [
    "numbers = []\n",
    "\n",
    "i = 0\n",
    "\n",
    "while i < 10:\n",
    "    sayi = int(input(\"dongu durana kadar bir sayi giriniz\"))\n",
    "    numbers.append(sayi)\n",
    "    i += 1\n",
    "numbers.sort(reverse=True)\n",
    "print(numbers)\n"
   ]
  },
  {
   "cell_type": "code",
   "execution_count": 23,
   "metadata": {},
   "outputs": [
    {
     "name": "stdout",
     "output_type": "stream",
     "text": [
      "i: 0\n",
      "i: 1\n",
      "i: 2\n",
      "i: 3\n",
      "i: 4\n",
      "i: 5\n",
      "i: 6\n",
      "i: 7\n",
      "i: 8\n",
      "i: 9\n"
     ]
    }
   ],
   "source": [
    "i = 0\n",
    "while i < 10:\n",
    "    print(\"i:\", i)\n",
    "    i += 1"
   ]
  },
  {
   "cell_type": "code",
   "execution_count": 24,
   "metadata": {},
   "outputs": [
    {
     "name": "stdout",
     "output_type": "stream",
     "text": [
      "i: 0\n",
      "i: 1\n",
      "i: 2\n",
      "i: 3\n",
      "i: 4\n"
     ]
    }
   ],
   "source": [
    "i = 0\n",
    "while i < 10:\n",
    "    if i == 5:\n",
    "        break\n",
    "    print(\"i:\", i)\n",
    "    i += 1"
   ]
  },
  {
   "cell_type": "code",
   "execution_count": 34,
   "metadata": {},
   "outputs": [
    {
     "name": "stdout",
     "output_type": "stream",
     "text": [
      "i: 0\n",
      "i: 1\n",
      "i: 2\n",
      "i: 3\n",
      "i: 4\n",
      "i: 6\n",
      "i: 7\n",
      "i: 8\n",
      "i: 9\n"
     ]
    }
   ],
   "source": [
    "i = 0\n",
    "while i < 10:\n",
    "    if i == 5:\n",
    "        i += 1\n",
    "        continue\n",
    "    print(\"i:\", i)\n",
    "    i += 1"
   ]
  },
  {
   "cell_type": "code",
   "execution_count": 39,
   "metadata": {},
   "outputs": [
    {
     "name": "stdout",
     "output_type": "stream",
     "text": [
      "i: 1\n",
      "i: 3\n",
      "i: 5\n",
      "i: 7\n",
      "i: 9\n"
     ]
    }
   ],
   "source": [
    "i = 0\n",
    "while i < 10:\n",
    "    if i == 5:\n",
    "       continue\n",
    "    i += 1\n",
    "    print(\"i:\", i)\n",
    "    i += 1"
   ]
  },
  {
   "cell_type": "code",
   "execution_count": 42,
   "metadata": {},
   "outputs": [
    {
     "name": "stdout",
     "output_type": "stream",
     "text": [
      "i: 1\n",
      "i: 2\n",
      "i: 3\n",
      "i: 4\n",
      "i: 6\n",
      "i: 7\n",
      "i: 8\n",
      "i: 9\n",
      "i: 11\n",
      "i: 12\n"
     ]
    }
   ],
   "source": [
    "i = 0  #besin katlarini gormek istemiyoruz\n",
    "while i < 12:\n",
    "    i += 1\n",
    "    if i %5 == 0:\n",
    "       continue\n",
    "    print(\"i:\", i)\n",
    "    "
   ]
  },
  {
   "cell_type": "code",
   "execution_count": 47,
   "metadata": {},
   "outputs": [
    {
     "name": "stdout",
     "output_type": "stream",
     "text": [
      " 0 in faktoriyel degeri: 1\n"
     ]
    }
   ],
   "source": [
    "x = int(input(\"bir sayi giriniz\"))\n",
    "y = x\n",
    "if x < 0:\n",
    "    print(\"Pozitif Sayi Giriniz\")\n",
    "else:\n",
    "    faktoriyel = 1\n",
    "\n",
    "    while x > 0:\n",
    "        faktoriyel *= x\n",
    "        x -= 1 \n",
    "print(f\" {y} in faktoriyel degeri: {faktoriyel}\")\n"
   ]
  },
  {
   "cell_type": "markdown",
   "metadata": {},
   "source": [
    "# zip()"
   ]
  },
  {
   "cell_type": "code",
   "execution_count": 48,
   "metadata": {},
   "outputs": [],
   "source": [
    "a = [ \"apple\", \"orange\", \"banana\"]\n",
    "b = [1, 2, 3]"
   ]
  },
  {
   "cell_type": "code",
   "execution_count": 50,
   "metadata": {},
   "outputs": [
    {
     "data": {
      "text/plain": [
       "[('apple', 1), ('orange', 2), ('banana', 3)]"
      ]
     },
     "execution_count": 50,
     "metadata": {},
     "output_type": "execute_result"
    }
   ],
   "source": [
    "list(zip(a,b))"
   ]
  },
  {
   "cell_type": "code",
   "execution_count": 51,
   "metadata": {},
   "outputs": [],
   "source": [
    "a = [ \"apple\", \"orange\", \"banana\"]\n",
    "b = [1, 2, 3, 4]"
   ]
  },
  {
   "cell_type": "code",
   "execution_count": 52,
   "metadata": {},
   "outputs": [
    {
     "data": {
      "text/plain": [
       "[('apple', 1), ('orange', 2), ('banana', 3)]"
      ]
     },
     "execution_count": 52,
     "metadata": {},
     "output_type": "execute_result"
    }
   ],
   "source": [
    "list(zip(a,b))"
   ]
  },
  {
   "cell_type": "code",
   "execution_count": 55,
   "metadata": {},
   "outputs": [
    {
     "data": {
      "text/plain": [
       "[('apple', 1)]"
      ]
     },
     "execution_count": 55,
     "metadata": {},
     "output_type": "execute_result"
    }
   ],
   "source": [
    "a = [ \"apple\", \"orange\", \"banana\"]\n",
    "b = [1]\n",
    "list(zip(a,b))"
   ]
  },
  {
   "cell_type": "code",
   "execution_count": 54,
   "metadata": {},
   "outputs": [
    {
     "data": {
      "text/plain": [
       "[('apple', 1)]"
      ]
     },
     "execution_count": 54,
     "metadata": {},
     "output_type": "execute_result"
    }
   ],
   "source": [
    "list(zip(a,b))"
   ]
  },
  {
   "cell_type": "code",
   "execution_count": 61,
   "metadata": {},
   "outputs": [
    {
     "data": {
      "text/plain": [
       "[14, 75, 35, 20, 17, 98, 66, 74]"
      ]
     },
     "execution_count": 61,
     "metadata": {},
     "output_type": "execute_result"
    }
   ],
   "source": [
    "liste"
   ]
  },
  {
   "cell_type": "code",
   "execution_count": 64,
   "metadata": {},
   "outputs": [
    {
     "data": {
      "text/plain": [
       "[(1, 14), (2, 75), (3, 35), (4, 20), (5, 17), (6, 98), (7, 66), (8, 74)]"
      ]
     },
     "execution_count": 64,
     "metadata": {},
     "output_type": "execute_result"
    }
   ],
   "source": [
    "list(zip(range(1,len(liste)+1), liste))"
   ]
  },
  {
   "cell_type": "markdown",
   "metadata": {},
   "source": [
    "enumerate"
   ]
  },
  {
   "cell_type": "code",
   "execution_count": 65,
   "metadata": {},
   "outputs": [
    {
     "data": {
      "text/plain": [
       "<enumerate at 0x2b2e98ac900>"
      ]
     },
     "execution_count": 65,
     "metadata": {},
     "output_type": "execute_result"
    }
   ],
   "source": [
    "enumerate(liste)"
   ]
  },
  {
   "cell_type": "code",
   "execution_count": 67,
   "metadata": {},
   "outputs": [
    {
     "data": {
      "text/plain": [
       "[(0, 14), (1, 75), (2, 35), (3, 20), (4, 17), (5, 98), (6, 66), (7, 74)]"
      ]
     },
     "execution_count": 67,
     "metadata": {},
     "output_type": "execute_result"
    }
   ],
   "source": [
    "list(enumerate(liste))"
   ]
  },
  {
   "cell_type": "code",
   "execution_count": 71,
   "metadata": {},
   "outputs": [
    {
     "data": {
      "text/plain": [
       "'abcçdefgğhiıjklmnoöprsştuüvyz'"
      ]
     },
     "execution_count": 71,
     "metadata": {},
     "output_type": "execute_result"
    }
   ],
   "source": [
    "liste_1 = \"a b c ç d e f g ğ h i ı j k l m n o ö p r s ş t u ü v y z\"\n",
    "liste_2 = liste_1.replace(\" \", \"\")\n",
    "liste_2"
   ]
  },
  {
   "cell_type": "code",
   "execution_count": null,
   "metadata": {},
   "outputs": [],
   "source": [
    "kullanici_adi = \"techpro_sedat\"\n",
    "sifre = \"12345\"\n",
    "giris_hakki = 3\n",
    "\n",
    "\n",
    "\n",
    "while True:\n",
    "    kull_adi = input(\"kullanici adinizi giriniz\")\n",
    "    parola = input(\"sifrenizi giriniz\")\n",
    "\n",
    "    \n",
    "\n",
    "\n",
    "\n",
    "\n",
    "\n",
    "\n",
    "\n",
    "\n",
    "\n",
    "\n",
    "\n",
    "\n"
   ]
  },
  {
   "cell_type": "code",
   "execution_count": 76,
   "metadata": {},
   "outputs": [
    {
     "name": "stdout",
     "output_type": "stream",
     "text": [
      "Kullanıcı adı ve Şifrenizi yanlış girdiniz\n",
      "Kullanıcı adı ve Şifrenizi yanlış girdiniz\n",
      "Kullanıcı adı ve Şifrenizi yanlış girdiniz\n",
      "Hesabiniz bloke oldu\n"
     ]
    }
   ],
   "source": [
    "kullanıcı_adı = \"yusuf123\"\n",
    "şifre=\"1234\"\n",
    "giriş_hakkı = 3\n",
    "while True:\n",
    "    name = input(\"Kullanıcı adınızı girin\")\n",
    "    parola= input(\"Şifrenizi girin\")\n",
    "    if (kullanıcı_adı != name) and (şifre == parola):\n",
    "        print(\"Böyle bir Kullanıcı adı bulunamadı\")\n",
    "        giriş_hakkı -= 1\n",
    "    elif (kullanıcı_adı == name) and (şifre != parola):\n",
    "        print(\"Şifrenizle Kullanıcı adınız uyuşmuyor\")\n",
    "        giriş_hakkı -= 1\n",
    "    elif (kullanıcı_adı != name) and (şifre != parola):\n",
    "        print(\"Kullanıcı adı ve Şifrenizi yanlış girdiniz\")\n",
    "        giriş_hakkı-= 1\n",
    "    else:\n",
    "        print(\"Sisteme başarıyla giriş yaptınız\")\n",
    "        break\n",
    "    if giriş_hakkı == 0:\n",
    "        print(\"Hesabiniz bloke oldu\")\n",
    "        break"
   ]
  },
  {
   "cell_type": "code",
   "execution_count": null,
   "metadata": {},
   "outputs": [],
   "source": []
  },
  {
   "cell_type": "code",
   "execution_count": null,
   "metadata": {},
   "outputs": [],
   "source": []
  },
  {
   "cell_type": "code",
   "execution_count": null,
   "metadata": {},
   "outputs": [],
   "source": []
  },
  {
   "cell_type": "code",
   "execution_count": null,
   "metadata": {},
   "outputs": [],
   "source": []
  },
  {
   "cell_type": "markdown",
   "metadata": {},
   "source": []
  }
 ],
 "metadata": {
  "kernelspec": {
   "display_name": "Python 3.10.7 64-bit",
   "language": "python",
   "name": "python3"
  },
  "language_info": {
   "codemirror_mode": {
    "name": "ipython",
    "version": 3
   },
   "file_extension": ".py",
   "mimetype": "text/x-python",
   "name": "python",
   "nbconvert_exporter": "python",
   "pygments_lexer": "ipython3",
   "version": "3.10.7"
  },
  "orig_nbformat": 4,
  "vscode": {
   "interpreter": {
    "hash": "7d32b02fdc04bbf9b6c98ac9da1c791696b14f2596c133b22519c78c68994f46"
   }
  }
 },
 "nbformat": 4,
 "nbformat_minor": 2
}
