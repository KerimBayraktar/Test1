{
 "cells": [
  {
   "cell_type": "markdown",
   "metadata": {},
   "source": [
    "# control flow statements"
   ]
  },
  {
   "cell_type": "markdown",
   "metadata": {},
   "source": [
    "if-elis-else"
   ]
  },
  {
   "cell_type": "code",
   "execution_count": 34,
   "metadata": {},
   "outputs": [
    {
     "name": "stdout",
     "output_type": "stream",
     "text": [
      "sonuç\n"
     ]
    }
   ],
   "source": [
    "kosul = 5 > 2 and 2 <= 2\n",
    "if kosul:\n",
    "    print(\"sonuç\")"
   ]
  },
  {
   "cell_type": "code",
   "execution_count": 2,
   "metadata": {},
   "outputs": [
    {
     "name": "stdout",
     "output_type": "stream",
     "text": [
      "burayi goruruz\n"
     ]
    }
   ],
   "source": [
    "if \"0\":\n",
    "    print(\"burayi goruruz\")"
   ]
  },
  {
   "cell_type": "code",
   "execution_count": 5,
   "metadata": {},
   "outputs": [
    {
     "name": "stdout",
     "output_type": "stream",
     "text": [
      "on sayisi besten buyuktur\n"
     ]
    }
   ],
   "source": [
    "if 10 > 5:\n",
    "    print(\"on sayisi besten buyuktur\")"
   ]
  },
  {
   "cell_type": "code",
   "execution_count": 13,
   "metadata": {},
   "outputs": [
    {
     "name": "stdout",
     "output_type": "stream",
     "text": [
      "False\n"
     ]
    }
   ],
   "source": [
    "sayi = int(input(\"brir sayi giriniz\"))\n",
    "print(sayi >= 10)\n"
   ]
  },
  {
   "cell_type": "code",
   "execution_count": 15,
   "metadata": {},
   "outputs": [
    {
     "name": "stdout",
     "output_type": "stream",
     "text": [
      "False\n"
     ]
    }
   ],
   "source": [
    "sayi = int(input(\"brir sayi giriniz\")) >=10\n",
    "print(sayi)"
   ]
  },
  {
   "cell_type": "code",
   "execution_count": 18,
   "metadata": {},
   "outputs": [
    {
     "name": "stdout",
     "output_type": "stream",
     "text": [
      "Girilen sayi = 8 ve bu sayi cifttir\n"
     ]
    }
   ],
   "source": [
    "x = int(input(\"brir sayi giriniz\"))\n",
    "if x %2 ==0:\n",
    "    print(f\"Girilen sayi = {x} ve bu sayi cifttir\")\n",
    "else:\n",
    "    print(f\"Girilen sayi = {x} ve bu sayi tektir\")"
   ]
  },
  {
   "cell_type": "code",
   "execution_count": 21,
   "metadata": {},
   "outputs": [
    {
     "name": "stdout",
     "output_type": "stream",
     "text": [
      "Girilen sayi = 7 ve bu sayi cifttir\n"
     ]
    }
   ],
   "source": [
    "x = int(input(\"brir sayi giriniz\"))\n",
    "if x %2:\n",
    "    print(f\"Girilen sayi = {x} ve bu sayi cifttir\")\n",
    "else:\n",
    "    print(f\"Girilen sayi = {x} ve bu sayi tektir\")"
   ]
  },
  {
   "cell_type": "code",
   "execution_count": 24,
   "metadata": {},
   "outputs": [
    {
     "name": "stdout",
     "output_type": "stream",
     "text": [
      "15\n"
     ]
    }
   ],
   "source": [
    "x = int(input(\"birbirinden farkli bir sayi giriniz\"))\n",
    "y = int(input(\"birbirinden farkli ikinci bir sayi giriniz\"))\n",
    "if x > y:\n",
    "    print(x)\n",
    "else:\n",
    "    print(y)"
   ]
  },
  {
   "cell_type": "code",
   "execution_count": 25,
   "metadata": {},
   "outputs": [
    {
     "name": "stdout",
     "output_type": "stream",
     "text": [
      "max number is 15\n"
     ]
    }
   ],
   "source": [
    "number_one = int(input(\"Bir sayı giriniz\"))\n",
    "number_two = int(input(\"Farklı bir sayı giriniz\"))\n",
    "number_three = int(input(\"Daha da farklı bir sayı giriniz\"))\n",
    "\n",
    "if number_one > number_two and number_one > number_three:\n",
    "    max_number = number_one\n",
    "elif number_two > number_one and number_two > number_three:\n",
    "    max_number = number_two\n",
    "else:\n",
    "    max_number = number_three\n",
    "\n",
    "print(f\"max number is {max_number}\")"
   ]
  },
  {
   "cell_type": "code",
   "execution_count": 33,
   "metadata": {},
   "outputs": [
    {
     "name": "stdout",
     "output_type": "stream",
     "text": [
      "aldiginiz puana denk gelen harf notunuz : C\n"
     ]
    }
   ],
   "source": [
    "note = int(input(\"Notunuzu giriniz\"))\n",
    "if 0 <= note <= 100:\n",
    "    if note >= 80:\n",
    "        harf_not = \"A\"\n",
    "    elif note >= 65:\n",
    "        harf_not = \"B\"\n",
    "    elif note >= 55:\n",
    "        harf_not = \"C\"\n",
    "    elif note >= 50:\n",
    "        harf_not = \"D\"\n",
    "    else:\n",
    "        harf_not = \"F\"\n",
    "    print(f\"aldiginiz puana denk gelen harf notunuz : {harf_not}\")\n",
    "else:\n",
    "    print(\"hatali not girdiniz\")"
   ]
  },
  {
   "cell_type": "code",
   "execution_count": 40,
   "metadata": {},
   "outputs": [
    {
     "data": {
      "text/plain": [
       "49"
      ]
     },
     "execution_count": 40,
     "metadata": {},
     "output_type": "execute_result"
    }
   ],
   "source": [
    "ord(\"1\")"
   ]
  },
  {
   "cell_type": "markdown",
   "metadata": {},
   "source": [
    "# Loops"
   ]
  },
  {
   "cell_type": "markdown",
   "metadata": {},
   "source": [
    "## While"
   ]
  },
  {
   "cell_type": "code",
   "execution_count": null,
   "metadata": {},
   "outputs": [],
   "source": [
    "while kosul:\n",
    "    \"cikti\""
   ]
  },
  {
   "cell_type": "code",
   "execution_count": 41,
   "metadata": {},
   "outputs": [
    {
     "name": "stdout",
     "output_type": "stream",
     "text": [
      "0\n",
      "1\n",
      "2\n",
      "3\n",
      "4\n"
     ]
    }
   ],
   "source": [
    "sayi = 0\n",
    "while sayi <5:\n",
    "    print(sayi)\n",
    "    sayi = sayi + 1"
   ]
  },
  {
   "cell_type": "code",
   "execution_count": 43,
   "metadata": {},
   "outputs": [
    {
     "name": "stdout",
     "output_type": "stream",
     "text": [
      "1\n",
      "4\n",
      "9\n",
      "16\n",
      "25\n"
     ]
    }
   ],
   "source": [
    "sayi_listesi = [1, 2, 3, 4, 5]\n",
    "x = 0\n",
    "while x < len(sayi_listesi):\n",
    "    print(sayi_listesi[x]**2)\n",
    "    x += 1"
   ]
  },
  {
   "cell_type": "code",
   "execution_count": 48,
   "metadata": {},
   "outputs": [
    {
     "name": "stdout",
     "output_type": "stream",
     "text": [
      "Girdiginiz sayi 25. tahminini arttir\n",
      "Girdiginiz sayi 40. tahminini arttir\n",
      "Girdiginiz sayi 60. tahminini azalt\n",
      "Bravo. Dogru tahmin\n",
      "4 denemede tahmin ettin\n"
     ]
    }
   ],
   "source": [
    "sayi = 55\n",
    "tahmin_sayisi = 0\n",
    "while True:\n",
    "\n",
    "    tahmin = int(input(\"sayiyi tahmin edin\"))\n",
    "    if sayi < tahmin:\n",
    "        print(f\"Girdiginiz sayi {tahmin}. tahminini azalt\")\n",
    "        tahmin_sayisi += 1\n",
    "    elif sayi > tahmin:\n",
    "        print(f\"Girdiginiz sayi {tahmin}. tahminini arttir\")\n",
    "        tahmin_sayisi += 1\n",
    "    else:\n",
    "        print(\"Bravo. Dogru tahmin\")\n",
    "        tahmin_sayisi += 1\n",
    "        break\n",
    "print(f\"{tahmin_sayisi} denemede tahmin ettin\")"
   ]
  },
  {
   "cell_type": "markdown",
   "metadata": {},
   "source": [
    "### random()"
   ]
  },
  {
   "cell_type": "code",
   "execution_count": 50,
   "metadata": {},
   "outputs": [],
   "source": [
    "import random"
   ]
  },
  {
   "cell_type": "code",
   "execution_count": 51,
   "metadata": {},
   "outputs": [
    {
     "data": {
      "text/plain": [
       "0.23692680253435805"
      ]
     },
     "execution_count": 51,
     "metadata": {},
     "output_type": "execute_result"
    }
   ],
   "source": [
    "random.random()"
   ]
  },
  {
   "cell_type": "code",
   "execution_count": 53,
   "metadata": {},
   "outputs": [
    {
     "data": {
      "text/plain": [
       "0.5811521325045647"
      ]
     },
     "execution_count": 53,
     "metadata": {},
     "output_type": "execute_result"
    }
   ],
   "source": [
    "random.seed(101)\n",
    "random.random()"
   ]
  },
  {
   "cell_type": "code",
   "execution_count": 69,
   "metadata": {},
   "outputs": [
    {
     "data": {
      "text/plain": [
       "66"
      ]
     },
     "execution_count": 69,
     "metadata": {},
     "output_type": "execute_result"
    }
   ],
   "source": [
    "random.randint(10,99)"
   ]
  },
  {
   "cell_type": "code",
   "execution_count": 71,
   "metadata": {},
   "outputs": [
    {
     "name": "stdout",
     "output_type": "stream",
     "text": [
      "Girdiginiz sayi 50. tahminini azalt\n",
      "Girdiginiz sayi 50. tahminini azalt\n",
      "Girdiginiz sayi 25. tahminini arttir\n",
      "Girdiginiz sayi 40. tahminini azalt\n",
      "Bravo. Dogru tahmin\n",
      "5 denemede tahmin ettin\n"
     ]
    }
   ],
   "source": [
    "import random\n",
    "\n",
    "sayi = random.randint(0,100)\n",
    "tahmin_sayisi = 0\n",
    "while True:\n",
    "\n",
    "    tahmin = int(input(\"sayiyi tahmin edin\"))\n",
    "    if sayi < tahmin:\n",
    "        print(f\"Girdiginiz sayi {tahmin}. tahminini azalt\")\n",
    "        tahmin_sayisi += 1\n",
    "    elif sayi > tahmin:\n",
    "        print(f\"Girdiginiz sayi {tahmin}. tahminini arttir\")\n",
    "        tahmin_sayisi += 1\n",
    "    else:\n",
    "        print(\"Bravo. Dogru tahmin\")\n",
    "        tahmin_sayisi += 1\n",
    "        break\n",
    "print(f\"{tahmin_sayisi} denemede tahmin ettin\")"
   ]
  },
  {
   "cell_type": "code",
   "execution_count": 72,
   "metadata": {},
   "outputs": [
    {
     "name": "stdout",
     "output_type": "stream",
     "text": [
      "Girdiginiz sayi 30. tahminini azalt\n",
      "Girdiginiz sayi 12. tahminini arttir\n",
      "Girdiginiz sayi 26. tahminini azalt\n",
      "3 denemede bulamadin\n"
     ]
    }
   ],
   "source": [
    "import random\n",
    "\n",
    "sayi = random.randint(0,100)\n",
    "dongu_sayisi = 0\n",
    "while dongu_sayisi < 3 :\n",
    "\n",
    "    tahmin = int(input(\"sayiyi tahmin edin\"))\n",
    "    if sayi < tahmin:\n",
    "        print(f\"Girdiginiz sayi {tahmin}. tahminini azalt\")\n",
    "        dongu_sayisi += 1\n",
    "    elif sayi > tahmin:\n",
    "        print(f\"Girdiginiz sayi {tahmin}. tahminini arttir\")\n",
    "        dongu_sayisi += 1\n",
    "    else:\n",
    "        print(\"Bravo. Dogru tahmin\")\n",
    "        break\n",
    "print(\"3 denemede bulamadin\")"
   ]
  },
  {
   "cell_type": "code",
   "execution_count": null,
   "metadata": {},
   "outputs": [],
   "source": []
  },
  {
   "cell_type": "code",
   "execution_count": 73,
   "metadata": {},
   "outputs": [
    {
     "name": "stdout",
     "output_type": "stream",
     "text": [
      "\n",
      "    _______\n",
      "---'   ____)\n",
      "      (_____)\n",
      "      (_____)\n",
      "      (____)\n",
      "---._(__)\n",
      "\n",
      "Computer chose:\n",
      "\n",
      "    _______\n",
      "---'   ____)\n",
      "      (_____)\n",
      "      (_____)\n",
      "      (____)\n",
      "---._(__)\n",
      "\n",
      "It's a draw\n"
     ]
    }
   ],
   "source": [
    "import random\n",
    "rock = '''\n",
    "    _______\n",
    "---'   ____)\n",
    "      (_____)\n",
    "      (_____)\n",
    "---._(__)\n",
    "'''\n",
    "paper = '''\n",
    "    _______\n",
    "---'   ___)___\n",
    "          ______)\n",
    "          _______)\n",
    "         _______)\n",
    "---.__________)\n",
    "'''\n",
    "scissors = '''\n",
    "    _______\n",
    "---'   ___)___\n",
    "          ______)\n",
    "       __________)\n",
    "      (____)\n",
    "---._(__)\n",
    "'''\n",
    "game_images = [rock, paper, scissors]\n",
    "user_choice = int(input(\"What do you choose? Type 0 for Rock, 1 for Paper or 2 for Scissors.\\n\"))\n",
    "if user_choice >= 3 or user_choice < 0: \n",
    "    print(\"You typed an invalid number, you lose!\") \n",
    "else:\n",
    "    print(game_images[user_choice])\n",
    "    computer_choice = random.randint(0, 2)\n",
    "    print(\"Computer chose:\")\n",
    "    print(game_images[computer_choice])\n",
    "    if user_choice == 0 and computer_choice == 2:\n",
    "        print(\"You win!\")\n",
    "    elif computer_choice == 0 and user_choice == 2:\n",
    "        print(\"You lose\")\n",
    "    elif computer_choice > user_choice:\n",
    "        print(\"You lose\")\n",
    "    elif user_choice > computer_choice:\n",
    "        print(\"You win!\")\n",
    "    elif computer_choice == user_choice:\n",
    "        print(\"It's a draw\")\n",
    "##Debugging challenge:\n",
    "#Try running this code and type 5.\n",
    "#It will give you an IndexError and point to line 32 as the issue.\n",
    "#But on line 38 we are trying to prevent a crash by detecting\n",
    "#any numbers great than or equal to 3 or less than 0.\n",
    "#So what's going on?\n",
    "#Can you debug the code and fix it?\n",
    "#Solution:"
   ]
  },
  {
   "cell_type": "code",
   "execution_count": 121,
   "metadata": {},
   "outputs": [
    {
     "name": "stdout",
     "output_type": "stream",
     "text": [
      "1\n",
      "4\n",
      "9\n",
      "16\n",
      "25\n"
     ]
    }
   ],
   "source": [
    "sayi_listesi = [1, 2, 3, 4, 5]\n",
    "x = 0\n",
    "while x < len(sayi_listesi):\n",
    "    print(sayi_listesi[x]**2)\n",
    "    x += 1"
   ]
  },
  {
   "cell_type": "code",
   "execution_count": 82,
   "metadata": {},
   "outputs": [
    {
     "name": "stdout",
     "output_type": "stream",
     "text": [
      "2\n",
      "-4\n",
      "5\n",
      "8\n",
      "23\n",
      "-25\n",
      "-9\n",
      "2\n"
     ]
    }
   ],
   "source": [
    "\n",
    "liste = [12, 17, 25, 48, 23, 14, 16]\n",
    "x = -1\n",
    "while x < len(liste):\n",
    "    print(liste[x] - liste[x-1])\n",
    "    x += 1\n",
    "\n"
   ]
  },
  {
   "cell_type": "code",
   "execution_count": 108,
   "metadata": {},
   "outputs": [
    {
     "name": "stdout",
     "output_type": "stream",
     "text": [
      "Liste İçindeki En Buyuk Sayı : 48\n"
     ]
    }
   ],
   "source": [
    "liste = [12, 17, 25, 48, 23, 14, 16]\n",
    "\n",
    "buyuk_sayi = liste[0]\n",
    "for n in liste:\n",
    "    if buyuk_sayi < n:\n",
    "       buyuk_sayi = n\n",
    "\n",
    "print(\"Liste İçindeki En Buyuk Sayı :\", buyuk_sayi)"
   ]
  },
  {
   "cell_type": "code",
   "execution_count": 96,
   "metadata": {},
   "outputs": [
    {
     "name": "stdout",
     "output_type": "stream",
     "text": [
      "Liste İçindeki En Büyük Sayı : 4 \n",
      "Liste İçindeki En Kucuk Sayı : 1\n"
     ]
    }
   ],
   "source": [
    "liste = []\n",
    "adet = int(input('Kaç Sayı Girilecek: '))\n",
    "for n in range(adet):\n",
    "    sayi = int(input('Sayıyı Gir: '))\n",
    "    liste.append(sayi)\n",
    " \n",
    "en_kucuk = liste[0]\n",
    "en_buyuk = liste[0]\n",
    "for n in liste:\n",
    "  \n",
    "  if en_kucuk > n:\n",
    "    en_kucuk = n\n",
    "  if en_buyuk < n:\n",
    "    en_buyuk = n\n",
    "print(\"Liste İçindeki En Büyük Sayı :\", en_buyuk, \"\\nListe İçindeki En Kucuk Sayı :\",en_kucuk)\n"
   ]
  },
  {
   "cell_type": "code",
   "execution_count": null,
   "metadata": {},
   "outputs": [],
   "source": []
  }
 ],
 "metadata": {
  "kernelspec": {
   "display_name": "Python 3.10.7 64-bit",
   "language": "python",
   "name": "python3"
  },
  "language_info": {
   "codemirror_mode": {
    "name": "ipython",
    "version": 3
   },
   "file_extension": ".py",
   "mimetype": "text/x-python",
   "name": "python",
   "nbconvert_exporter": "python",
   "pygments_lexer": "ipython3",
   "version": "3.10.7"
  },
  "orig_nbformat": 4,
  "vscode": {
   "interpreter": {
    "hash": "7d32b02fdc04bbf9b6c98ac9da1c791696b14f2596c133b22519c78c68994f46"
   }
  }
 },
 "nbformat": 4,
 "nbformat_minor": 2
}
