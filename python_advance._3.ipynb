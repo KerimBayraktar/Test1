{
 "cells": [
  {
   "cell_type": "code",
   "execution_count": 3,
   "metadata": {},
   "outputs": [
    {
     "name": "stdout",
     "output_type": "stream",
     "text": [
      "[0, 2, 4, 6, 8, 10, 12, 14, 16, 18]\n"
     ]
    }
   ],
   "source": [
    "list = []\n",
    "for cift in range(0,20):\n",
    "    if cift %2 == 0:\n",
    "        list.append(cift)\n",
    "print(list)"
   ]
  },
  {
   "cell_type": "code",
   "execution_count": 4,
   "metadata": {},
   "outputs": [
    {
     "data": {
      "text/plain": [
       "[0, 2, 4, 6, 8, 10, 12, 14, 16, 18]"
      ]
     },
     "execution_count": 4,
     "metadata": {},
     "output_type": "execute_result"
    }
   ],
   "source": [
    "[cift for cift in range(0,20) if cift %2 == 0 ]"
   ]
  },
  {
   "cell_type": "code",
   "execution_count": 9,
   "metadata": {},
   "outputs": [
    {
     "name": "stdout",
     "output_type": "stream",
     "text": [
      "[0, None, 2, None, 4, None, 6, None, 8, None, 10, None, 12, None, 14, None, 16, None, 18, None]\n"
     ]
    }
   ],
   "source": [
    "sayilar = range(0,20)\n",
    "cift_sayi = [*map(lambda x: x if x %2 == 0 else None, sayilar)]\n",
    "print(cift_sayi)"
   ]
  },
  {
   "cell_type": "code",
   "execution_count": 10,
   "metadata": {},
   "outputs": [
    {
     "name": "stdout",
     "output_type": "stream",
     "text": [
      "[2, 4, 6, 8, 10, 12, 14, 16, 18]\n"
     ]
    }
   ],
   "source": [
    "sayilar = range(0,20)\n",
    "cift_sayi = [*filter(lambda x: x if x %2 == 0 else None, sayilar)]\n",
    "print(cift_sayi)"
   ]
  },
  {
   "cell_type": "code",
   "execution_count": 11,
   "metadata": {},
   "outputs": [
    {
     "name": "stdout",
     "output_type": "stream",
     "text": [
      "Help on class filter in module builtins:\n",
      "\n",
      "class filter(object)\n",
      " |  filter(function or None, iterable) --> filter object\n",
      " |  \n",
      " |  Return an iterator yielding those items of iterable for which function(item)\n",
      " |  is true. If function is None, return the items that are true.\n",
      " |  \n",
      " |  Methods defined here:\n",
      " |  \n",
      " |  __getattribute__(self, name, /)\n",
      " |      Return getattr(self, name).\n",
      " |  \n",
      " |  __iter__(self, /)\n",
      " |      Implement iter(self).\n",
      " |  \n",
      " |  __next__(self, /)\n",
      " |      Implement next(self).\n",
      " |  \n",
      " |  __reduce__(...)\n",
      " |      Return state information for pickling.\n",
      " |  \n",
      " |  ----------------------------------------------------------------------\n",
      " |  Static methods defined here:\n",
      " |  \n",
      " |  __new__(*args, **kwargs) from builtins.type\n",
      " |      Create and return a new object.  See help(type) for accurate signature.\n",
      "\n"
     ]
    }
   ],
   "source": [
    "help(filter)"
   ]
  },
  {
   "cell_type": "code",
   "execution_count": 16,
   "metadata": {},
   "outputs": [
    {
     "name": "stdout",
     "output_type": "stream",
     "text": [
      "ahmet\n",
      "can\n",
      "cigdem\n",
      "çiğdem\n",
      "ışık\n",
      "iskender\n",
      "ismail\n",
      "ismet\n",
      "ismıt\n",
      "ismit\n",
      "şule\n"
     ]
    }
   ],
   "source": [
    "harfler = 'abcçdefgğhıijklmnoöprsştuüvyz'\n",
    "çevrim = {i: harfler.index(i) for i in harfler}\n",
    "def sırala(kelime):\n",
    "    return ([çevrim.get(kelime[i]) for i in range(len(kelime))])\n",
    "isimler = ['ahmet', 'can', 'iskender', 'cigdem',\n",
    "           'ismet', 'ismail', 'ismit', 'çiğdem',\n",
    "           'ismıt', 'ışık', 'şule']\n",
    "print(*sorted(isimler, key=sırala), sep='\\n')"
   ]
  },
  {
   "cell_type": "code",
   "execution_count": 23,
   "metadata": {},
   "outputs": [
    {
     "name": "stdout",
     "output_type": "stream",
     "text": [
      "ahmet\n",
      "can\n",
      "cigdem\n",
      "çiğdem\n",
      "ışık\n",
      "iskender\n",
      "ismet\n",
      "ismail\n",
      "ismit\n",
      "ismıt\n",
      "şule\n"
     ]
    }
   ],
   "source": [
    "harfler = \"abcçdefgğhıijklmnoöprsştuüvyz\"\n",
    "çevrim = {i: harfler.index(i) for i in harfler}\n",
    "isimler = ['ahmet', 'can', 'iskender', 'cigdem',\n",
    "           'ismet', 'ismail', 'ismit', 'çiğdem',\n",
    "           'ismıt', 'ışık', 'şule']\n",
    "print(*sorted(isimler, key=lambda x: çevrim.get(x[0])),sep='\\n')"
   ]
  },
  {
   "cell_type": "code",
   "execution_count": 15,
   "metadata": {},
   "outputs": [
    {
     "name": "stdout",
     "output_type": "stream",
     "text": [
      "{'a': 0, 'b': 1, 'c': 2, 'ç': 3, 'd': 4, 'e': 5, 'f': 6, 'g': 7, 'ğ': 8, 'h': 9, 'ı': 10, 'i': 11, 'j': 12, 'k': 13, 'l': 14, 'm': 15, 'n': 16, 'o': 17, 'ö': 18, 'p': 19, 'r': 20, 's': 21, 'ş': 22, 't': 23, 'u': 24, 'ü': 25, 'v': 26, 'y': 27, 'z': 28}\n"
     ]
    }
   ],
   "source": [
    "harfler = 'abcçdefgğhıijklmnoöprsştuüvyz'\n",
    "çevrim = {i: harfler.index(i) for i in harfler}\n",
    "print(çevrim)"
   ]
  },
  {
   "cell_type": "code",
   "execution_count": 25,
   "metadata": {},
   "outputs": [
    {
     "data": {
      "text/plain": [
       "[13, 5, 20, 11, 15]"
      ]
     },
     "execution_count": 25,
     "metadata": {},
     "output_type": "execute_result"
    }
   ],
   "source": [
    "sırala(\"kerim\")"
   ]
  },
  {
   "cell_type": "markdown",
   "metadata": {},
   "source": [
    "### ozyinelemeli (recursive) fonksiyonlar"
   ]
  },
  {
   "cell_type": "code",
   "execution_count": 26,
   "metadata": {},
   "outputs": [
    {
     "name": "stdout",
     "output_type": "stream",
     "text": [
      "Kerim Bayraktar\n",
      "Kerim Bayrakta\n",
      "Kerim Bayrakt\n",
      "Kerim Bayrak\n",
      "Kerim Bayra\n",
      "Kerim Bayr\n",
      "Kerim Bay\n",
      "Kerim Ba\n",
      "Kerim B\n",
      "Kerim \n",
      "Kerim\n",
      "Keri\n",
      "Ker\n",
      "Ke\n",
      "K\n"
     ]
    }
   ],
   "source": [
    "def fazalt(s):\n",
    "    print(s)\n",
    "    for i in range(1,len(s)):\n",
    "        print(s[:-i])\n",
    "fazalt(\"Kerim Bayraktar\")"
   ]
  },
  {
   "cell_type": "code",
   "execution_count": 31,
   "metadata": {},
   "outputs": [
    {
     "name": "stdout",
     "output_type": "stream",
     "text": [
      "Kerim Bayraktar\n",
      "erim Bayraktar\n",
      "rim Bayraktar\n",
      "im Bayraktar\n",
      "m Bayraktar\n",
      " Bayraktar\n",
      "Bayraktar\n",
      "ayraktar\n",
      "yraktar\n",
      "raktar\n",
      "aktar\n",
      "ktar\n",
      "tar\n",
      "ar\n",
      "r\n"
     ]
    }
   ],
   "source": [
    "def fazalt(s):\n",
    "    print(s)\n",
    "    for i in range(1,len(s)):\n",
    "        print(s[i:])\n",
    "fazalt(\"Kerim Bayraktar\")"
   ]
  },
  {
   "cell_type": "code",
   "execution_count": 30,
   "metadata": {},
   "outputs": [
    {
     "name": "stdout",
     "output_type": "stream",
     "text": [
      "Kerim Bayraktar\n",
      "Kerim Bayrakta\n",
      "Kerim Bayrakt\n",
      "Kerim Bayrak\n",
      "Kerim Bayra\n",
      "Kerim Bayr\n",
      "Kerim Bay\n",
      "Kerim Ba\n",
      "Kerim B\n",
      "Kerim \n",
      "Kerim\n",
      "Keri\n",
      "Ker\n",
      "Ke\n",
      "K\n"
     ]
    }
   ],
   "source": [
    "def azalt(s):\n",
    "    if len(s) < 1:\n",
    "        return s\n",
    "    else:\n",
    "        print(s)\n",
    "        #return azalt(s[:-1])\n",
    "        azalt(s[:-1])\n",
    "azalt(\"Kerim Bayraktar\")\n"
   ]
  },
  {
   "cell_type": "code",
   "execution_count": 32,
   "metadata": {},
   "outputs": [
    {
     "name": "stdout",
     "output_type": "stream",
     "text": [
      "recursive giris Kerim Bayraktar\n",
      "recursive giris erim Bayraktar\n",
      "recursive giris rim Bayraktar\n",
      "recursive giris im Bayraktar\n",
      "recursive giris m Bayraktar\n",
      "recursive giris  Bayraktar\n",
      "recursive giris Bayraktar\n",
      "recursive giris ayraktar\n",
      "recursive giris yraktar\n",
      "recursive giris raktar\n",
      "recursive giris aktar\n",
      "recursive giris ktar\n",
      "recursive giris tar\n",
      "recursive giris ar\n",
      "recursive giris r\n",
      "recursive çikis r\n",
      "recursive çikis ar\n",
      "recursive çikis tar\n",
      "recursive çikis ktar\n",
      "recursive çikis aktar\n",
      "recursive çikis raktar\n",
      "recursive çikis yraktar\n",
      "recursive çikis ayraktar\n",
      "recursive çikis Bayraktar\n",
      "recursive çikis  Bayraktar\n",
      "recursive çikis m Bayraktar\n",
      "recursive çikis im Bayraktar\n",
      "recursive çikis rim Bayraktar\n",
      "recursive çikis erim Bayraktar\n",
      "recursive çikis Kerim Bayraktar\n"
     ]
    }
   ],
   "source": [
    "def azalt(s):\n",
    "    if len(s) < 1:\n",
    "        return s\n",
    "    else:\n",
    "        print(\"recursive giris\", s)\n",
    "        #return azalt(s[:-1])\n",
    "        azalt(s[1:])\n",
    "        print(\"recursive çikis\", s)\n",
    "azalt(\"Kerim Bayraktar\")"
   ]
  },
  {
   "cell_type": "code",
   "execution_count": 34,
   "metadata": {},
   "outputs": [
    {
     "name": "stdout",
     "output_type": "stream",
     "text": [
      "K\te\tr\ti\tm\t \tB\ta\ty\tr\ta\tk\tt\ta\tr\t"
     ]
    }
   ],
   "source": [
    "def ters_cevir(s):\n",
    "    if len(s) < 1:\n",
    "        return s\n",
    "    else:\n",
    "        print(s[0], end='\\t')\n",
    "        ters_cevir(s[1:])\n",
    "    \n",
    "ters_cevir(\"Kerim Bayraktar\")\n"
   ]
  },
  {
   "cell_type": "code",
   "execution_count": 35,
   "metadata": {},
   "outputs": [
    {
     "name": "stdout",
     "output_type": "stream",
     "text": [
      "r\ta\tt\tk\ta\tr\ty\ta\tB\t \tm\ti\tr\te\tK\t"
     ]
    }
   ],
   "source": [
    "def ters_cevir(s):\n",
    "    if len(s) < 1:\n",
    "        return s\n",
    "    else:\n",
    "        ters_cevir(s[1:])\n",
    "        print(s[0], end='\\t')\n",
    "            \n",
    "ters_cevir(\"Kerim Bayraktar\")"
   ]
  },
  {
   "cell_type": "code",
   "execution_count": 5,
   "metadata": {},
   "outputs": [],
   "source": [
    "def factor(x):\n",
    "    if x == 1 or x == 0:\n",
    "        return 1\n",
    "    else:\n",
    "        return (x * factor(x - 1))"
   ]
  },
  {
   "cell_type": "code",
   "execution_count": 6,
   "metadata": {},
   "outputs": [
    {
     "data": {
      "text/plain": [
       "120"
      ]
     },
     "execution_count": 6,
     "metadata": {},
     "output_type": "execute_result"
    }
   ],
   "source": [
    "factor(5)"
   ]
  },
  {
   "cell_type": "code",
   "execution_count": 3,
   "metadata": {},
   "outputs": [],
   "source": [
    "def factor1(x):\n",
    "    f = 1 \n",
    "    for i in range(2, x+1):\n",
    "        f = f * i\n",
    "    return f\n"
   ]
  },
  {
   "cell_type": "code",
   "execution_count": 4,
   "metadata": {},
   "outputs": [
    {
     "data": {
      "text/plain": [
       "120"
      ]
     },
     "execution_count": 4,
     "metadata": {},
     "output_type": "execute_result"
    }
   ],
   "source": [
    "factor1(5)"
   ]
  },
  {
   "cell_type": "code",
   "execution_count": 15,
   "metadata": {},
   "outputs": [],
   "source": [
    "import time"
   ]
  },
  {
   "cell_type": "code",
   "execution_count": 22,
   "metadata": {},
   "outputs": [
    {
     "name": "stdout",
     "output_type": "stream",
     "text": [
      "baslangic zamani : 1666448767.0109427\n",
      "bitis zamani : 1666448767.0465016\n",
      "0.03555893898010254\n"
     ]
    }
   ],
   "source": [
    "baslangic = time.time()\n",
    "print(\"baslangic zamani : {}\".format(baslangic))\n",
    "factor1(10000)\n",
    "bitis = time.time()\n",
    "print(\"bitis zamani : {}\".format(bitis))\n",
    "print(bitis - baslangic)"
   ]
  },
  {
   "cell_type": "code",
   "execution_count": 16,
   "metadata": {},
   "outputs": [],
   "source": [
    "import math"
   ]
  },
  {
   "cell_type": "code",
   "execution_count": 18,
   "metadata": {},
   "outputs": [
    {
     "name": "stdout",
     "output_type": "stream",
     "text": [
      "baslangic zamani : 1666448632.2262237\n",
      "bitis zamani : 1666448642.9749014\n",
      "10.748677730560303\n"
     ]
    }
   ],
   "source": [
    "baslangic = time.time()\n",
    "print(\"baslangic zamani : {}\".format(baslangic))\n",
    "math.factorial(1000000)\n",
    "bitis = time.time()\n",
    "print(\"bitis zamani : {}\".format(bitis))\n",
    "print(bitis - baslangic)"
   ]
  },
  {
   "cell_type": "code",
   "execution_count": 26,
   "metadata": {},
   "outputs": [
    {
     "name": "stdout",
     "output_type": "stream",
     "text": [
      "List time test :  27.103764200001024\n",
      "List time test :  15.505039700074121\n"
     ]
    }
   ],
   "source": [
    "import timeit\n",
    "print(\"List time test : \",timeit.timeit(stmt=\"numbers=[1,2,3,4,5,6,7,8,9,10,11,12,13,14,15]\",number=100000000))\n",
    "print(\"List time test : \",timeit.timeit(stmt=\"numbers=(1,2,3,4,5,6,7,8,9,10,11,12,13,14,15)\",number=100000000))\n",
    "#10000000 kez çalıştırıyor. Default değeri 1 milyyondr. Tuple ile list hız farkı"
   ]
  },
  {
   "cell_type": "code",
   "execution_count": 27,
   "metadata": {},
   "outputs": [
    {
     "data": {
      "text/plain": [
       "3000"
      ]
     },
     "execution_count": 27,
     "metadata": {},
     "output_type": "execute_result"
    }
   ],
   "source": [
    "import sys\n",
    "sys.getrecursionlimit()"
   ]
  },
  {
   "cell_type": "code",
   "execution_count": 31,
   "metadata": {},
   "outputs": [
    {
     "data": {
      "text/plain": [
       "3000"
      ]
     },
     "execution_count": 31,
     "metadata": {},
     "output_type": "execute_result"
    }
   ],
   "source": [
    "import sys\n",
    "sys.getrecursionlimit()"
   ]
  },
  {
   "cell_type": "markdown",
   "metadata": {},
   "source": [
    "## iç içe (nested) fonksiyonlar"
   ]
  },
  {
   "cell_type": "code",
   "execution_count": null,
   "metadata": {},
   "outputs": [],
   "source": [
    "def fonk1():       # kapsayici veya dis fonk. (enclosing)\n",
    "    def fonk2():   # iç (nested)\n",
    "        pass"
   ]
  },
  {
   "cell_type": "code",
   "execution_count": 35,
   "metadata": {},
   "outputs": [],
   "source": [
    "def dis():\n",
    "    b = 25\n",
    "    def iç():\n",
    "        c = 50\n",
    "        print(c)\n",
    "        print(\"aaa\")\n",
    "    print(b)\n",
    "    iç()\n"
   ]
  },
  {
   "cell_type": "code",
   "execution_count": 36,
   "metadata": {},
   "outputs": [
    {
     "name": "stdout",
     "output_type": "stream",
     "text": [
      "25\n",
      "50\n",
      "aaa\n"
     ]
    }
   ],
   "source": [
    "dis()"
   ]
  },
  {
   "cell_type": "code",
   "execution_count": 37,
   "metadata": {},
   "outputs": [],
   "source": [
    "def dis_fonk():\n",
    "    a = 20\n",
    "    def ic_fonk():\n",
    "        a = 30\n",
    "        print(\"a :\", a)\n",
    "    ic_fonk()\n",
    "    print(\"a :\", a)"
   ]
  },
  {
   "cell_type": "code",
   "execution_count": 41,
   "metadata": {},
   "outputs": [
    {
     "name": "stdout",
     "output_type": "stream",
     "text": [
      "a : 30\n",
      "a : 20\n",
      "a : 10\n"
     ]
    }
   ],
   "source": [
    "a = 10\n",
    "dis_fonk()\n",
    "print(\"a :\",a)"
   ]
  },
  {
   "cell_type": "code",
   "execution_count": 57,
   "metadata": {},
   "outputs": [],
   "source": [
    "def dis_fonk():\n",
    "    a = 20\n",
    "    def ic_fonk():\n",
    "        a = 30\n",
    "        print(\"a :\", a)\n",
    "    ic_fonk()\n",
    "    print(\"a :\", a)"
   ]
  },
  {
   "cell_type": "code",
   "execution_count": 58,
   "metadata": {},
   "outputs": [
    {
     "name": "stdout",
     "output_type": "stream",
     "text": [
      "a : 30\n",
      "a : 20\n"
     ]
    }
   ],
   "source": [
    "dis_fonk()"
   ]
  },
  {
   "cell_type": "code",
   "execution_count": 59,
   "metadata": {},
   "outputs": [],
   "source": [
    "def yazici():\n",
    "    def yaz(mesaj):\n",
    "        print(\"iç\")\n",
    "        print(mesaj)\n",
    "    return yaz"
   ]
  },
  {
   "cell_type": "code",
   "execution_count": 62,
   "metadata": {},
   "outputs": [
    {
     "data": {
      "text/plain": [
       "<function __main__.yazici.<locals>.yaz(mesaj)>"
      ]
     },
     "execution_count": 62,
     "metadata": {},
     "output_type": "execute_result"
    }
   ],
   "source": [
    "y = yazici()\n",
    "y"
   ]
  },
  {
   "cell_type": "code",
   "execution_count": 63,
   "metadata": {},
   "outputs": [
    {
     "name": "stdout",
     "output_type": "stream",
     "text": [
      "iç\n",
      "Ali\n"
     ]
    }
   ],
   "source": [
    "y(\"Ali\")"
   ]
  },
  {
   "cell_type": "code",
   "execution_count": 67,
   "metadata": {},
   "outputs": [],
   "source": [
    "def file_chr_n(dosya,karakter):\n",
    "    sonuc = 0\n",
    "    if type(dosya) == str:\n",
    "        with open(dosya,\"r\") as f:\n",
    "            veri = f.read()\n",
    "            for i in veri:\n",
    "                if i == karakter:\n",
    "                    sonuc += 1\n",
    "    else:\n",
    "        veri = dosya.read()\n",
    "        for i in veri:\n",
    "                if i == karakter:\n",
    "                    sonuc += 1\n",
    "    return sonuc"
   ]
  },
  {
   "cell_type": "code",
   "execution_count": 76,
   "metadata": {},
   "outputs": [
    {
     "data": {
      "text/plain": [
       "3"
      ]
     },
     "execution_count": 76,
     "metadata": {},
     "output_type": "execute_result"
    }
   ],
   "source": [
    "file_chr_n(\"deneme1.txt\",\"r\")"
   ]
  },
  {
   "cell_type": "code",
   "execution_count": 81,
   "metadata": {},
   "outputs": [],
   "source": [
    "# İç içe fonksyion (nested) şeklinde yazdık\n",
    "def chr_n(karakter_dizisi,karakter):\n",
    "    sayac = 0\n",
    "    for i in karakter_dizisi:\n",
    "        if i == karakter:\n",
    "            sayac += 1\n",
    "    return sayac\n",
    "\n",
    "def file_chr_n(dosya,karakter):\n",
    "    if type(dosya) == str:\n",
    "        with open(dosya,'r') as f:\n",
    "            return chr_n(f.read(),karakter)\n",
    "    else:\n",
    "        return chr_n(f.read(), karakter)\n",
    "    "
   ]
  },
  {
   "cell_type": "code",
   "execution_count": 84,
   "metadata": {},
   "outputs": [
    {
     "data": {
      "text/plain": [
       "1"
      ]
     },
     "execution_count": 84,
     "metadata": {},
     "output_type": "execute_result"
    }
   ],
   "source": [
    "file_chr_n(\"deneme1.txt\",\".\")"
   ]
  },
  {
   "cell_type": "markdown",
   "metadata": {},
   "source": [
    "## ureteçler  (Generators)"
   ]
  },
  {
   "cell_type": "code",
   "execution_count": 86,
   "metadata": {},
   "outputs": [
    {
     "data": {
      "text/plain": [
       "[0, 1, 2, 3, 4, 5, 6, 7, 8, 9]"
      ]
     },
     "execution_count": 86,
     "metadata": {},
     "output_type": "execute_result"
    }
   ],
   "source": [
    "listem = [i for i in range(10)]\n",
    "listem"
   ]
  },
  {
   "cell_type": "code",
   "execution_count": 87,
   "metadata": {},
   "outputs": [],
   "source": [
    "def generator():\n",
    "    yield \"Python\"\n",
    "    yield \"Fortran\"\n",
    "    "
   ]
  },
  {
   "cell_type": "code",
   "execution_count": 88,
   "metadata": {},
   "outputs": [
    {
     "data": {
      "text/plain": [
       "<generator object generator at 0x000002378370D1C0>"
      ]
     },
     "execution_count": 88,
     "metadata": {},
     "output_type": "execute_result"
    }
   ],
   "source": [
    "generator()"
   ]
  },
  {
   "cell_type": "code",
   "execution_count": 91,
   "metadata": {},
   "outputs": [
    {
     "data": {
      "text/plain": [
       "'Python'"
      ]
     },
     "execution_count": 91,
     "metadata": {},
     "output_type": "execute_result"
    }
   ],
   "source": [
    "a = generator()\n",
    "next(a)"
   ]
  },
  {
   "cell_type": "code",
   "execution_count": 92,
   "metadata": {},
   "outputs": [
    {
     "data": {
      "text/plain": [
       "'Fortran'"
      ]
     },
     "execution_count": 92,
     "metadata": {},
     "output_type": "execute_result"
    }
   ],
   "source": [
    "next(a)"
   ]
  },
  {
   "cell_type": "code",
   "execution_count": 93,
   "metadata": {},
   "outputs": [
    {
     "ename": "StopIteration",
     "evalue": "",
     "output_type": "error",
     "traceback": [
      "\u001b[1;31m---------------------------------------------------------------------------\u001b[0m",
      "\u001b[1;31mStopIteration\u001b[0m                             Traceback (most recent call last)",
      "Cell \u001b[1;32mIn [93], line 1\u001b[0m\n\u001b[1;32m----> 1\u001b[0m \u001b[39mnext\u001b[39;49m(a)\n",
      "\u001b[1;31mStopIteration\u001b[0m: "
     ]
    }
   ],
   "source": [
    "next(a)"
   ]
  },
  {
   "cell_type": "code",
   "execution_count": 94,
   "metadata": {},
   "outputs": [
    {
     "name": "stdout",
     "output_type": "stream",
     "text": [
      "Help on built-in function next in module builtins:\n",
      "\n",
      "next(...)\n",
      "    next(iterator[, default])\n",
      "    \n",
      "    Return the next item from the iterator. If default is given and the iterator\n",
      "    is exhausted, it is returned instead of raising StopIteration.\n",
      "\n"
     ]
    }
   ],
   "source": [
    "help(next)"
   ]
  },
  {
   "cell_type": "code",
   "execution_count": 95,
   "metadata": {},
   "outputs": [],
   "source": [
    "def gener():\n",
    "    print(\"ilk next kullanildi\")\n",
    "    yield \"1. yield\"\n",
    "    print(\"ikinci defa next kullanildi\")\n",
    "    yield \"2. yield\"\n",
    "    print(\"ucuncu bitti\")\n"
   ]
  },
  {
   "cell_type": "code",
   "execution_count": 96,
   "metadata": {},
   "outputs": [],
   "source": [
    "f = gener()"
   ]
  },
  {
   "cell_type": "code",
   "execution_count": 97,
   "metadata": {},
   "outputs": [
    {
     "name": "stdout",
     "output_type": "stream",
     "text": [
      "ilk next kullanildi\n"
     ]
    },
    {
     "data": {
      "text/plain": [
       "'1. yield'"
      ]
     },
     "execution_count": 97,
     "metadata": {},
     "output_type": "execute_result"
    }
   ],
   "source": [
    "next(f)"
   ]
  },
  {
   "cell_type": "code",
   "execution_count": 98,
   "metadata": {},
   "outputs": [
    {
     "name": "stdout",
     "output_type": "stream",
     "text": [
      "ikinci defa next kullanildi\n"
     ]
    },
    {
     "data": {
      "text/plain": [
       "'2. yield'"
      ]
     },
     "execution_count": 98,
     "metadata": {},
     "output_type": "execute_result"
    }
   ],
   "source": [
    "next(f)"
   ]
  },
  {
   "cell_type": "code",
   "execution_count": 99,
   "metadata": {},
   "outputs": [
    {
     "name": "stdout",
     "output_type": "stream",
     "text": [
      "ucuncu bitti\n"
     ]
    },
    {
     "ename": "StopIteration",
     "evalue": "",
     "output_type": "error",
     "traceback": [
      "\u001b[1;31m---------------------------------------------------------------------------\u001b[0m",
      "\u001b[1;31mStopIteration\u001b[0m                             Traceback (most recent call last)",
      "Cell \u001b[1;32mIn [99], line 1\u001b[0m\n\u001b[1;32m----> 1\u001b[0m \u001b[39mnext\u001b[39;49m(f)\n",
      "\u001b[1;31mStopIteration\u001b[0m: "
     ]
    }
   ],
   "source": [
    "next(f)"
   ]
  },
  {
   "cell_type": "code",
   "execution_count": 100,
   "metadata": {},
   "outputs": [],
   "source": [
    "def hata():\n",
    "    raise stopiteration"
   ]
  },
  {
   "cell_type": "code",
   "execution_count": 102,
   "metadata": {},
   "outputs": [
    {
     "data": {
      "text/plain": [
       "[0, 1, 1, 2, 3, 5, 8, 13, 21, 34, 55]"
      ]
     },
     "execution_count": 102,
     "metadata": {},
     "output_type": "execute_result"
    }
   ],
   "source": [
    "liste1 = [0,1]\n",
    "n1 = 0\n",
    "n2 = 1\n",
    "for i in range(1,10):\n",
    "    nf = n1 + n2\n",
    "    liste1.append(nf)\n",
    "    n1, n2 = n2, nf\n",
    "liste1\n"
   ]
  },
  {
   "cell_type": "code",
   "execution_count": 107,
   "metadata": {},
   "outputs": [
    {
     "name": "stdout",
     "output_type": "stream",
     "text": [
      "1\n",
      "2\n",
      "3\n",
      "5\n",
      "8\n",
      "13\n",
      "21\n",
      "34\n",
      "55\n",
      "89\n",
      "144\n"
     ]
    }
   ],
   "source": [
    "def fibonac():\n",
    "    x = 1\n",
    "    y = 0\n",
    "    z = 0\n",
    "    while True:\n",
    "        z = y\n",
    "        y = x\n",
    "        x = y + z\n",
    "        yield x \n",
    "        if x > 100:\n",
    "            return\n",
    "for i in fibonac():\n",
    "    print(i)"
   ]
  },
  {
   "cell_type": "code",
   "execution_count": 108,
   "metadata": {},
   "outputs": [],
   "source": [
    "x = fibonac()"
   ]
  },
  {
   "cell_type": "code",
   "execution_count": 112,
   "metadata": {},
   "outputs": [
    {
     "data": {
      "text/plain": [
       "1"
      ]
     },
     "execution_count": 112,
     "metadata": {},
     "output_type": "execute_result"
    }
   ],
   "source": [
    "next(x)"
   ]
  },
  {
   "cell_type": "code",
   "execution_count": 113,
   "metadata": {},
   "outputs": [
    {
     "data": {
      "text/plain": [
       "2"
      ]
     },
     "execution_count": 113,
     "metadata": {},
     "output_type": "execute_result"
    }
   ],
   "source": [
    "next(x)"
   ]
  },
  {
   "cell_type": "code",
   "execution_count": null,
   "metadata": {},
   "outputs": [],
   "source": []
  }
 ],
 "metadata": {
  "kernelspec": {
   "display_name": "Python 3.10.7 64-bit",
   "language": "python",
   "name": "python3"
  },
  "language_info": {
   "codemirror_mode": {
    "name": "ipython",
    "version": 3
   },
   "file_extension": ".py",
   "mimetype": "text/x-python",
   "name": "python",
   "nbconvert_exporter": "python",
   "pygments_lexer": "ipython3",
   "version": "3.10.7"
  },
  "orig_nbformat": 4,
  "vscode": {
   "interpreter": {
    "hash": "7d32b02fdc04bbf9b6c98ac9da1c791696b14f2596c133b22519c78c68994f46"
   }
  }
 },
 "nbformat": 4,
 "nbformat_minor": 2
}
