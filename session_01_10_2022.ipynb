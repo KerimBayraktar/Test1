{
 "cells": [
  {
   "cell_type": "code",
   "execution_count": 1,
   "metadata": {},
   "outputs": [],
   "source": [
    "name = \"Techpro\""
   ]
  },
  {
   "cell_type": "code",
   "execution_count": 2,
   "metadata": {},
   "outputs": [
    {
     "data": {
      "text/plain": [
       "7"
      ]
     },
     "execution_count": 2,
     "metadata": {},
     "output_type": "execute_result"
    }
   ],
   "source": [
    "len(name)"
   ]
  },
  {
   "cell_type": "code",
   "execution_count": 3,
   "metadata": {},
   "outputs": [
    {
     "data": {
      "text/plain": [
       "6"
      ]
     },
     "execution_count": 3,
     "metadata": {},
     "output_type": "execute_result"
    }
   ],
   "source": [
    "len(\"ben\" + \"sen\")"
   ]
  },
  {
   "cell_type": "code",
   "execution_count": 6,
   "metadata": {},
   "outputs": [
    {
     "data": {
      "text/plain": [
       "4"
      ]
     },
     "execution_count": 6,
     "metadata": {},
     "output_type": "execute_result"
    }
   ],
   "source": [
    "len(\"TechPro\"[2:6])"
   ]
  },
  {
   "cell_type": "code",
   "execution_count": 9,
   "metadata": {},
   "outputs": [
    {
     "data": {
      "text/plain": [
       "1"
      ]
     },
     "execution_count": 9,
     "metadata": {},
     "output_type": "execute_result"
    }
   ],
   "source": [
    "len(\" \")"
   ]
  },
  {
   "cell_type": "code",
   "execution_count": 12,
   "metadata": {},
   "outputs": [
    {
     "name": "stdout",
     "output_type": "stream",
     "text": [
      "27\n"
     ]
    }
   ],
   "source": [
    "if 5 > 2:\n",
    "    print(3*9)"
   ]
  },
  {
   "cell_type": "code",
   "execution_count": 14,
   "metadata": {},
   "outputs": [
    {
     "name": "stdout",
     "output_type": "stream",
     "text": [
      "daha cok gencsin.\n"
     ]
    }
   ],
   "source": [
    "yas = int(input(\"Yasinizi giriniz\"))\n",
    "if yas <= 30:\n",
    "    print(\"daha cok gencsin.\")\n",
    "if 30 < yas <= 50:\n",
    "    print(\"cocuklar nasil\")\n",
    "if yas > 50:\n",
    "    print(\"ellerinden operim\")"
   ]
  },
  {
   "cell_type": "code",
   "execution_count": 22,
   "metadata": {},
   "outputs": [
    {
     "name": "stdout",
     "output_type": "stream",
     "text": [
      "daha cok gencsin.\n"
     ]
    }
   ],
   "source": [
    "yas = int(input(\"Yasinizi giriniz\"))\n",
    "if yas <= 30:\n",
    "    print(\"daha cok gencsin.\")\n",
    "elif 30 < yas <= 50:\n",
    "    print(\"cocuklar nasil\")\n",
    "else:\n",
    "    print(\"ellerinden operim\")"
   ]
  },
  {
   "cell_type": "code",
   "execution_count": 26,
   "metadata": {},
   "outputs": [
    {
     "name": "stdout",
     "output_type": "stream",
     "text": [
      "Toplam 70\n"
     ]
    }
   ],
   "source": [
    "a = int(input(\"Birinci sayi giriniz\"))\n",
    "b = int(input(\"Ikinci sayi giriniz\"))\n",
    "print(f\"Toplam {a + b}\")"
   ]
  },
  {
   "cell_type": "code",
   "execution_count": 28,
   "metadata": {},
   "outputs": [
    {
     "name": "stdout",
     "output_type": "stream",
     "text": [
      "Toplam : 10\n"
     ]
    }
   ],
   "source": [
    "a = int(input(\"Birinci sayi giriniz\"))\n",
    "b = int(input(\"Ikinci sayi giriniz\"))\n",
    "print(\"Toplam : {}\".format(a+b))"
   ]
  },
  {
   "cell_type": "code",
   "execution_count": 31,
   "metadata": {},
   "outputs": [
    {
     "name": "stdout",
     "output_type": "stream",
     "text": [
      "Sonuç: 16\n"
     ]
    }
   ],
   "source": [
    "a = int(input(\"Birinci sayi giriniz\"))\n",
    "b = int(input(\"Ikinci sayi giriniz\"))\n",
    "print(\"Sonuç: {}\".format((a - b)*(a +b)))"
   ]
  },
  {
   "cell_type": "code",
   "execution_count": 34,
   "metadata": {},
   "outputs": [
    {
     "name": "stdout",
     "output_type": "stream",
     "text": [
      "24.221453287197235\n"
     ]
    }
   ],
   "source": [
    "boy = int(input(\"Lutfen Boyunuzu Cm Olarak Giriniz\"))\n",
    "kilo = int(input(\"Kilonuzu giriniz\"))\n",
    "boy = boy / 100\n",
    "print(kilo / boy**2 )\n"
   ]
  },
  {
   "cell_type": "code",
   "execution_count": 35,
   "metadata": {},
   "outputs": [
    {
     "name": "stdout",
     "output_type": "stream",
     "text": [
      "80\n",
      "5\n"
     ]
    }
   ],
   "source": [
    "a = int(input(\"Birinci sayi giriniz\"))\n",
    "b = int(input(\"Ikinci sayi giriniz\"))\n",
    "a , b = b , a\n",
    "print(a)\n",
    "print(b)\n"
   ]
  },
  {
   "cell_type": "code",
   "execution_count": 36,
   "metadata": {},
   "outputs": [
    {
     "data": {
      "text/plain": [
       "18"
      ]
     },
     "execution_count": 36,
     "metadata": {},
     "output_type": "execute_result"
    }
   ],
   "source": [
    "200 // 11"
   ]
  },
  {
   "cell_type": "code",
   "execution_count": 37,
   "metadata": {},
   "outputs": [
    {
     "data": {
      "text/plain": [
       "2"
      ]
     },
     "execution_count": 37,
     "metadata": {},
     "output_type": "execute_result"
    }
   ],
   "source": [
    "200 % 18"
   ]
  },
  {
   "cell_type": "code",
   "execution_count": 41,
   "metadata": {},
   "outputs": [
    {
     "name": "stdout",
     "output_type": "stream",
     "text": [
      "rimrimrim\n"
     ]
    }
   ],
   "source": [
    "a = input(\"Birinci sayi giriniz\") #Kerim  3\n",
    "b = int(input(\"Ikinci sayi giriniz\"))\n",
    "print(a[-b:]*b)"
   ]
  },
  {
   "cell_type": "code",
   "execution_count": null,
   "metadata": {},
   "outputs": [],
   "source": []
  },
  {
   "cell_type": "code",
   "execution_count": null,
   "metadata": {},
   "outputs": [],
   "source": []
  }
 ],
 "metadata": {
  "kernelspec": {
   "display_name": "Python 3.10.7 64-bit",
   "language": "python",
   "name": "python3"
  },
  "language_info": {
   "codemirror_mode": {
    "name": "ipython",
    "version": 3
   },
   "file_extension": ".py",
   "mimetype": "text/x-python",
   "name": "python",
   "nbconvert_exporter": "python",
   "pygments_lexer": "ipython3",
   "version": "3.10.7"
  },
  "orig_nbformat": 4,
  "vscode": {
   "interpreter": {
    "hash": "7d32b02fdc04bbf9b6c98ac9da1c791696b14f2596c133b22519c78c68994f46"
   }
  }
 },
 "nbformat": 4,
 "nbformat_minor": 2
}
