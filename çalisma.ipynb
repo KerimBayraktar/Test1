{
 "cells": [
  {
   "cell_type": "code",
   "execution_count": 14,
   "metadata": {},
   "outputs": [
    {
     "name": "stdout",
     "output_type": "stream",
     "text": [
      "                                                            \n",
      "                                                            \n",
      "                                                            \n",
      "                chProTech           echProTec               \n",
      "            oTechProTechProTe   roTechProTechProT           \n",
      "          roTechProTechProTechProTechProTechProTech         \n",
      "         roTechProTechProTechProTechProTechProTechPr        \n",
      "        roTechProTechProTechProTechProTechProTechProT       \n",
      "        oTechProTechProTechProTechProTechProTechProTe       \n",
      "        TechProTechProTechProTechProTechProTechProTec       \n",
      "        echProTechProTechProTechProTechProTechProTech       \n",
      "        chProTechProTechProTechProTechProTechProTechP       \n",
      "        hProTechProTechProTechProTechProTechProTechPr       \n",
      "         roTechProTechProTechProTechProTechProTechPr        \n",
      "          TechProTechProTechProTechProTechProTechPr         \n",
      "          echProTechProTechProTechProTechProTechPro         \n",
      "            ProTechProTechProTechProTechProTechPr           \n",
      "             oTechProTechProTechProTechProTechPr            \n",
      "              echProTechProTechProTechProTechPr             \n",
      "                ProTechProTechProTechProTechP               \n",
      "                  TechProTechProTechProTech                 \n",
      "                    hProTechProTechProTec                   \n",
      "                       TechProTechProT                      \n",
      "                          ProTechPr                         \n",
      "                             ech                            \n",
      "                              h                             \n",
      "                                                            \n",
      "                                                            \n",
      "                                                            \n",
      "                                                            \n"
     ]
    }
   ],
   "source": [
    "print('\\n'.join\n",
    " ([''.join\n",
    "  ([('TechPro'[(x-y)%7 ]\n",
    "   if ((x*0.05)**2 +(y*0.1)**2-1)\n",
    "    **3-(x*0.05)**2*(y*0.1)\n",
    "     **3<= 0 else' ')\n",
    "      for x in range (-30,30)])\n",
    "       for y in range(15,-15,-1)]))"
   ]
  },
  {
   "cell_type": "code",
   "execution_count": 17,
   "metadata": {},
   "outputs": [
    {
     "name": "stdout",
     "output_type": "stream",
     "text": [
      "                                                            \n",
      "                                                            \n",
      "                                                            \n",
      "                chProTech           echProTec               \n",
      "            oTechProTechProTe   roTechProTechProT           \n",
      "          roTechProTechProTechProTechProTechProTech         \n",
      "         roTechProTechProTechProTechProTechProTechPr        \n",
      "        roTechProTechProTechProTechProTechProTechProT       \n",
      "        oTechProTechProTechProTechProTechProTechProTe       \n",
      "        TechProTechProTechProTechProTechProTechProTec       \n",
      "        echProTechProTechProTechProTechProTechProTech       \n",
      "        chProTechProTechProTechProTechProTechProTechP       \n",
      "        hProTechProTechProTechProTechProTechProTechPr       \n",
      "         roTechProTechProTechProTechProTechProTechPr        \n",
      "          TechProTechProTechProTechProTechProTechPr         \n",
      "          echProTechProTechProTechProTechProTechPro         \n",
      "            ProTechProTechProTechProTechProTechPr           \n",
      "             oTechProTechProTechProTechProTechPr            \n",
      "              echProTechProTechProTechProTechPr             \n",
      "                ProTechProTechProTechProTechP               \n",
      "                  TechProTechProTechProTech                 \n",
      "                    hProTechProTechProTec                   \n",
      "                       TechProTechProT                      \n",
      "                          ProTechPr                         \n",
      "                             ech                            \n",
      "                              h                             \n",
      "                                                            \n",
      "                                                            \n",
      "                                                            \n",
      "                                                            \n"
     ]
    }
   ],
   "source": [
    "print('\\n'.join\n",
    " ([''.join\n",
    "  ([('TechPro'[(x-y)%7 ]\n",
    "   if ((x*0.05)**2 +(y*0.1)**2-1)\n",
    "    **3-(x*0.05)**2*(y*0.1)\n",
    "     **3<= 0 else' ')\n",
    "      for x in range (-30,30)])\n",
    "       for y in range(15,-15,-1)]))"
   ]
  },
  {
   "cell_type": "code",
   "execution_count": 74,
   "metadata": {},
   "outputs": [
    {
     "name": "stdout",
     "output_type": "stream",
     "text": [
      "------------------------------------------------------------\n",
      "------------------------------------------------------------\n",
      "------------------------------------------------------------\n",
      "----------------mKerimKer-----------mKerimKer---------------\n",
      "------------erimKerimKerimKer---erimKerimKerimKer-----------\n",
      "----------KerimKerimKerimKerimKerimKerimKerimKerimK---------\n",
      "---------KerimKerimKerimKerimKerimKerimKerimKerimKer--------\n",
      "--------KerimKerimKerimKerimKerimKerimKerimKerimKerim-------\n",
      "--------erimKerimKerimKerimKerimKerimKerimKerimKerimK-------\n",
      "--------rimKerimKerimKerimKerimKerimKerimKerimKerimKe-------\n",
      "--------imKerimKerimKerimKerimKerimKerimKerimKerimKer-------\n",
      "--------mKerimKerimKerimKerimKerimKerimKerimKerimKeri-------\n",
      "--------KerimKerimKerimKerimKerimKerimKerimKerimKerim-------\n",
      "---------rimKerimKerimKerimKerimKerimKerimKerimKerim--------\n",
      "----------mKerimKerimKerimKerimKerimKerimKerimKerim---------\n",
      "----------KerimKerimKerimKerimKerimKerimKerimKerimK---------\n",
      "------------imKerimKerimKerimKerimKerimKerimKerim-----------\n",
      "-------------KerimKerimKerimKerimKerimKerimKerim------------\n",
      "--------------rimKerimKerimKerimKerimKerimKerim-------------\n",
      "----------------KerimKerimKerimKerimKerimKeri---------------\n",
      "------------------imKerimKerimKerimKerimKer-----------------\n",
      "--------------------erimKerimKerimKerimKe-------------------\n",
      "-----------------------KerimKerimKerim----------------------\n",
      "--------------------------mKerimKer-------------------------\n",
      "-----------------------------imK----------------------------\n",
      "------------------------------K-----------------------------\n",
      "------------------------------------------------------------\n",
      "------------------------------------------------------------\n",
      "------------------------------------------------------------\n",
      "------------------------------------------------------------\n"
     ]
    }
   ],
   "source": [
    "print('\\n'.join\n",
    " ([''.join\n",
    "  ([('Kerim'[(x-y)%5 ]\n",
    "   if ((x*0.05)**2 +(y*0.1)**2-1)\n",
    "    **3-(x*0.05)**2*(y*0.1)\n",
    "     **3<= 0 else'-')\n",
    "      for x in range (-30,30)])\n",
    "       for y in range(15,-15,-1)]))\n",
    "    "
   ]
  },
  {
   "cell_type": "code",
   "execution_count": 22,
   "metadata": {},
   "outputs": [
    {
     "name": "stdout",
     "output_type": "stream",
     "text": [
      "2417851639229258349412352\n"
     ]
    }
   ],
   "source": [
    "print(2 ** 3 ** 2**2)"
   ]
  },
  {
   "cell_type": "code",
   "execution_count": 21,
   "metadata": {},
   "outputs": [
    {
     "data": {
      "text/plain": [
       "512"
      ]
     },
     "execution_count": 21,
     "metadata": {},
     "output_type": "execute_result"
    }
   ],
   "source": [
    "2**9"
   ]
  },
  {
   "cell_type": "code",
   "execution_count": 23,
   "metadata": {},
   "outputs": [
    {
     "data": {
      "text/plain": [
       "81"
      ]
     },
     "execution_count": 23,
     "metadata": {},
     "output_type": "execute_result"
    }
   ],
   "source": [
    "3**4"
   ]
  },
  {
   "cell_type": "code",
   "execution_count": 30,
   "metadata": {},
   "outputs": [
    {
     "data": {
      "text/plain": [
       "True"
      ]
     },
     "execution_count": 30,
     "metadata": {},
     "output_type": "execute_result"
    }
   ],
   "source": [
    "x = 30\n",
    "y = 30\n",
    "(x*0.05)**2 +(y*0.1)**2-1**3-(x*0.05)**2*(y*0.1)**3<= 0"
   ]
  },
  {
   "cell_type": "code",
   "execution_count": 1,
   "metadata": {},
   "outputs": [
    {
     "name": "stdout",
     "output_type": "stream",
     "text": [
      "                                                            \n",
      "                                                            \n",
      "                                                            \n",
      "                anRedwanR           RedwanRed               \n",
      "            edwanRedwanRedwan   wanRedwanRedwanRe           \n",
      "          RedwanRedwanRedwanRedwanRedwanRedwanRedwa         \n",
      "         RedwanRedwanRedwanRedwanRedwanRedwanRedwanR        \n",
      "        RedwanRedwanRedwanRedwanRedwanRedwanRedwanRed       \n",
      "        edwanRedwanRedwanRedwanRedwanRedwanRedwanRedw       \n",
      "        dwanRedwanRedwanRedwanRedwanRedwanRedwanRedwa       \n",
      "        wanRedwanRedwanRedwanRedwanRedwanRedwanRedwan       \n",
      "        anRedwanRedwanRedwanRedwanRedwanRedwanRedwanR       \n",
      "        nRedwanRedwanRedwanRedwanRedwanRedwanRedwanRe       \n",
      "         edwanRedwanRedwanRedwanRedwanRedwanRedwanRe        \n",
      "          wanRedwanRedwanRedwanRedwanRedwanRedwanRe         \n",
      "          anRedwanRedwanRedwanRedwanRedwanRedwanRed         \n",
      "            edwanRedwanRedwanRedwanRedwanRedwanRe           \n",
      "             wanRedwanRedwanRedwanRedwanRedwanRe            \n",
      "              nRedwanRedwanRedwanRedwanRedwanRe             \n",
      "                dwanRedwanRedwanRedwanRedwanR               \n",
      "                  nRedwanRedwanRedwanRedwan                 \n",
      "                    dwanRedwanRedwanRedwa                   \n",
      "                       RedwanRedwanRed                      \n",
      "                          anRedwanR                         \n",
      "                             dwa                            \n",
      "                              a                             \n",
      "                                                            \n",
      "                                                            \n",
      "                                                            \n",
      "                                                            \n"
     ]
    }
   ],
   "source": [
    "print('\\n'.join\n",
    " (''.join\n",
    "  (('Redwan'[(x-y)%6]\n",
    "   if ((x*0.05)**2 +(y*0.1)**2-1)\n",
    "    **3-(x*0.05)**2*(y*0.1)\n",
    "     **3<= 0 else' ')\n",
    "      for x in range (-30,30))\n",
    "       for y in range(15,-15,-1)))"
   ]
  },
  {
   "cell_type": "code",
   "execution_count": 1,
   "metadata": {},
   "outputs": [
    {
     "name": "stdout",
     "output_type": "stream",
     "text": [
      "                                                            \n",
      "                                                            \n",
      "                                                            \n",
      "                chProTech           echProTec               \n",
      "            oTechProTechProTe   roTechProTechProT           \n",
      "          roTechProTechProTechProTechProTechProTech         \n",
      "         roTechProTechProTechProTechProTechProTechPr        \n",
      "        roTechProTechProTechProTechProTechProTechProT       \n",
      "        oTechProTechProTechProTechProTechProTechProTe       \n",
      "        TechProTechProTechProTechProTechProTechProTec       \n",
      "        echProTechProTechProTechProTechProTechProTech       \n",
      "        chProTechProTechProTechProTechProTechProTechP       \n",
      "        hProTechProTechProTechProTechProTechProTechPr       \n",
      "         roTechProTechProTechProTechProTechProTechPr        \n",
      "          TechProTechProTechProTechProTechProTechPr         \n",
      "          echProTechProTechProTechProTechProTechPro         \n",
      "            ProTechProTechProTechProTechProTechPr           \n",
      "             oTechProTechProTechProTechProTechPr            \n",
      "              echProTechProTechProTechProTechPr             \n",
      "                ProTechProTechProTechProTechP               \n",
      "                  TechProTechProTechProTech                 \n",
      "                    hProTechProTechProTec                   \n",
      "                       TechProTechProT                      \n",
      "                          ProTechPr                         \n",
      "                             ech                            \n",
      "                              h                             \n",
      "                                                            \n",
      "                                                            \n",
      "                                                            \n",
      "                                                            \n"
     ]
    }
   ],
   "source": [
    "print('\\n'.join\n",
    " ([''.join\n",
    "  ([('TechPro'[(x-y)%7 ]\n",
    "   if ((x*0.05)**2 +(y*0.1)**2-1)\n",
    "    **3-(x*0.05)**2*(y*0.1)\n",
    "     **3<= 0 else' ')\n",
    "      for x in range (-30,30)])\n",
    "       for y in range(15,-15,-1)]))"
   ]
  },
  {
   "cell_type": "code",
   "execution_count": 59,
   "metadata": {},
   "outputs": [
    {
     "name": "stdout",
     "output_type": "stream",
     "text": [
      "K\n",
      "e\n",
      "r\n",
      "i\n",
      "m\n"
     ]
    }
   ],
   "source": [
    "print('\\n'.join(''.join(\"Kerim\")))\n",
    "\n"
   ]
  },
  {
   "cell_type": "code",
   "execution_count": 50,
   "metadata": {},
   "outputs": [
    {
     "data": {
      "text/plain": [
       "str"
      ]
     },
     "execution_count": 50,
     "metadata": {},
     "output_type": "execute_result"
    }
   ],
   "source": [
    "type('\\n'.join(['-'.join(\"Kerim\")]))"
   ]
  },
  {
   "cell_type": "code",
   "execution_count": null,
   "metadata": {},
   "outputs": [],
   "source": [
    "     for x in range (-30,30)])\n",
    "       for y in range(15,-15,-1)]))"
   ]
  },
  {
   "cell_type": "code",
   "execution_count": 81,
   "metadata": {},
   "outputs": [
    {
     "data": {
      "text/plain": [
       "[-30,\n",
       " -29,\n",
       " -28,\n",
       " -27,\n",
       " -26,\n",
       " -25,\n",
       " -24,\n",
       " -23,\n",
       " -22,\n",
       " -21,\n",
       " -20,\n",
       " -19,\n",
       " -18,\n",
       " -17,\n",
       " -16,\n",
       " -15,\n",
       " -14,\n",
       " -13,\n",
       " -12,\n",
       " -11,\n",
       " -10,\n",
       " -9,\n",
       " -8,\n",
       " -7,\n",
       " -6,\n",
       " -5,\n",
       " -4,\n",
       " -3,\n",
       " -2,\n",
       " -1,\n",
       " 0,\n",
       " 1,\n",
       " 2,\n",
       " 3,\n",
       " 4,\n",
       " 5,\n",
       " 6,\n",
       " 7,\n",
       " 8,\n",
       " 9,\n",
       " 10,\n",
       " 11,\n",
       " 12,\n",
       " 13,\n",
       " 14,\n",
       " 15,\n",
       " 16,\n",
       " 17,\n",
       " 18,\n",
       " 19,\n",
       " 20,\n",
       " 21,\n",
       " 22,\n",
       " 23,\n",
       " 24,\n",
       " 25,\n",
       " 26,\n",
       " 27,\n",
       " 28,\n",
       " 29]"
      ]
     },
     "execution_count": 81,
     "metadata": {},
     "output_type": "execute_result"
    }
   ],
   "source": [
    "list(range(-30,30))\n"
   ]
  },
  {
   "cell_type": "code",
   "execution_count": 83,
   "metadata": {},
   "outputs": [
    {
     "data": {
      "text/plain": [
       "35.28125"
      ]
     },
     "execution_count": 83,
     "metadata": {},
     "output_type": "execute_result"
    }
   ],
   "source": [
    "x = -30\n",
    "y = 15\n",
    "a = ((x*0.05)**2 +(y*0.1)**2-1)**3 - (x*0.05)**2*(y*0.1)**3\n",
    "a"
   ]
  },
  {
   "cell_type": "code",
   "execution_count": 2,
   "metadata": {},
   "outputs": [
    {
     "data": {
      "text/plain": [
       "0"
      ]
     },
     "execution_count": 2,
     "metadata": {},
     "output_type": "execute_result"
    }
   ],
   "source": [
    "10 % 5 "
   ]
  },
  {
   "cell_type": "code",
   "execution_count": 6,
   "metadata": {},
   "outputs": [
    {
     "data": {
      "text/plain": [
       "2"
      ]
     },
     "execution_count": 6,
     "metadata": {},
     "output_type": "execute_result"
    }
   ],
   "source": [
    "10 // 5 "
   ]
  },
  {
   "cell_type": "code",
   "execution_count": 7,
   "metadata": {},
   "outputs": [
    {
     "data": {
      "text/plain": [
       "2.0"
      ]
     },
     "execution_count": 7,
     "metadata": {},
     "output_type": "execute_result"
    }
   ],
   "source": [
    "10 / 5 "
   ]
  },
  {
   "cell_type": "code",
   "execution_count": 8,
   "metadata": {},
   "outputs": [
    {
     "data": {
      "text/plain": [
       "1"
      ]
     },
     "execution_count": 8,
     "metadata": {},
     "output_type": "execute_result"
    }
   ],
   "source": [
    "10 % 3"
   ]
  },
  {
   "cell_type": "code",
   "execution_count": 9,
   "metadata": {},
   "outputs": [
    {
     "data": {
      "text/plain": [
       "3"
      ]
     },
     "execution_count": 9,
     "metadata": {},
     "output_type": "execute_result"
    }
   ],
   "source": [
    "10 // 3"
   ]
  },
  {
   "cell_type": "code",
   "execution_count": 10,
   "metadata": {},
   "outputs": [
    {
     "data": {
      "text/plain": [
       "3.3333333333333335"
      ]
     },
     "execution_count": 10,
     "metadata": {},
     "output_type": "execute_result"
    }
   ],
   "source": [
    "10 / 3"
   ]
  },
  {
   "cell_type": "code",
   "execution_count": 14,
   "metadata": {},
   "outputs": [
    {
     "data": {
      "text/plain": [
       "['Dear [name],\\n',\n",
       " '\\n',\n",
       " 'You are invited to my birthday this Saturday.\\n',\n",
       " '\\n',\n",
       " 'Hope you can make it!\\n',\n",
       " '\\n',\n",
       " 'Angela\\n']"
      ]
     },
     "execution_count": 14,
     "metadata": {},
     "output_type": "execute_result"
    }
   ],
   "source": [
    "letter = open(\"starting_letter.txt\")\n",
    "letter.readlines()"
   ]
  },
  {
   "cell_type": "code",
   "execution_count": 13,
   "metadata": {},
   "outputs": [
    {
     "data": {
      "text/plain": [
       "['Aang\\n',\n",
       " 'Zuko\\n',\n",
       " 'Appa\\n',\n",
       " 'Katara\\n',\n",
       " 'Sokka\\n',\n",
       " 'Momo\\n',\n",
       " 'Uncle Iroh\\n',\n",
       " 'Toph']"
      ]
     },
     "execution_count": 13,
     "metadata": {},
     "output_type": "execute_result"
    }
   ],
   "source": [
    "names = open(\"invited_names.txt\")\n",
    "names.readlines()"
   ]
  },
  {
   "cell_type": "code",
   "execution_count": 12,
   "metadata": {},
   "outputs": [
    {
     "data": {
      "text/plain": [
       "_io.TextIOWrapper"
      ]
     },
     "execution_count": 12,
     "metadata": {},
     "output_type": "execute_result"
    }
   ],
   "source": [
    "type(names)"
   ]
  },
  {
   "cell_type": "code",
   "execution_count": 46,
   "metadata": {},
   "outputs": [
    {
     "name": "stdout",
     "output_type": "stream",
     "text": [
      "Dear Aang\n",
      "\n",
      "\n",
      "\n",
      "\n",
      "You are invited to my birthday this Saturday.\n",
      "\n",
      "\n",
      "\n",
      "Hope you can make it!\n",
      "\n",
      "\n",
      "\n",
      "Angela\n",
      "\n"
     ]
    }
   ],
   "source": [
    "letter = open(\"starting_letter.txt\", \"r\")\n",
    "dex = letter.readlines()\n",
    "names = open(\"invited_names.txt\", \"r\")\n",
    "dex2 = names.readlines()\n",
    "yaz = open(\"letter13.txt\", \"w\")\n",
    "\n",
    "for i in range(len(dex)):\n",
    "    birlestir=dex[i].replace(\"[name],\", dex2[i])\n",
    "    print(birlestir)\n",
    "    yaz.write(str(birlestir))\n",
    "letter.close()\n",
    "names.close()\n",
    "yaz.close()"
   ]
  },
  {
   "cell_type": "code",
   "execution_count": 55,
   "metadata": {},
   "outputs": [
    {
     "name": "stdout",
     "output_type": "stream",
     "text": [
      "Dear Aang\n",
      "\n",
      "\n",
      "\n",
      "\n",
      "You are invited to my birthday this Saturday.\n",
      "\n",
      "\n",
      "\n",
      "Hope you can make it!\n",
      "\n",
      "\n",
      "\n",
      "Angela\n",
      "\n"
     ]
    }
   ],
   "source": [
    "letter = open(\"starting_letter.txt\", \"r\")\n",
    "dex = letter.readlines()\n",
    "names = open(\"invited_names.txt\", \"r\")\n",
    "dex2 = names.readlines()\n",
    "yaz = open(\"letter13.txt\", \"w\")\n",
    "\n",
    "for i in range(len(dex)):\n",
    "    birlestir=dex[i].replace(\"[name],\", dex2[i])  \n",
    "    print(birlestir)\n",
    "    yaz.write(str(birlestir))\n"
   ]
  },
  {
   "cell_type": "code",
   "execution_count": 61,
   "metadata": {},
   "outputs": [],
   "source": [
    "PLACEHOLDER = \"[name]\"\n",
    "\n",
    "\n",
    "with open(\"invited_names.txt\") as names_file:\n",
    "    names = names_file.readlines()\n",
    "\n",
    "with open(\"starting_letter.txt\") as letter_file:\n",
    "    letter_contents = letter_file.read()\n",
    "    for name in names:\n",
    "        stripped_name = name.strip()\n",
    "        new_letter = letter_contents.replace(PLACEHOLDER, stripped_name)\n",
    "        with open(f\"ReadyToSend/letter_for_{stripped_name}.txt\", mode=\"w\") as completed_letter:\n",
    "            completed_letter.write(new_letter)"
   ]
  },
  {
   "cell_type": "code",
   "execution_count": null,
   "metadata": {},
   "outputs": [],
   "source": []
  },
  {
   "cell_type": "code",
   "execution_count": null,
   "metadata": {},
   "outputs": [],
   "source": []
  },
  {
   "cell_type": "code",
   "execution_count": null,
   "metadata": {},
   "outputs": [],
   "source": []
  },
  {
   "cell_type": "code",
   "execution_count": null,
   "metadata": {},
   "outputs": [],
   "source": []
  },
  {
   "cell_type": "code",
   "execution_count": null,
   "metadata": {},
   "outputs": [],
   "source": [
    "oku=open(\"a.txt\",\"r\", encoding=\"utf-8\")\n",
    "dex=oku.readlines()\n",
    "oku1=open(\"b.txt\",\"r\", encoding=\"utf-8\")\n",
    "dex2=oku1.readlines()\n",
    "yaz=open(\"birles.txt\",\"w\",encoding=\"utf-8\")\n",
    "for i in range(len(dex)):\n",
    "    birlestir=dex[i].replace(\"\\n\",\"\")+\" = \"+dex2[i]\n",
    "    print (birlestir)\n",
    "    yaz.write(str(birlestir))\n",
    "\n",
    "oku.close()\n",
    "oku1.close()\n",
    "yaz.close()"
   ]
  },
  {
   "cell_type": "code",
   "execution_count": null,
   "metadata": {},
   "outputs": [],
   "source": []
  },
  {
   "cell_type": "code",
   "execution_count": null,
   "metadata": {},
   "outputs": [],
   "source": []
  }
 ],
 "metadata": {
  "kernelspec": {
   "display_name": "Python 3.10.7 64-bit",
   "language": "python",
   "name": "python3"
  },
  "language_info": {
   "codemirror_mode": {
    "name": "ipython",
    "version": 3
   },
   "file_extension": ".py",
   "mimetype": "text/x-python",
   "name": "python",
   "nbconvert_exporter": "python",
   "pygments_lexer": "ipython3",
   "version": "3.10.7"
  },
  "orig_nbformat": 4,
  "vscode": {
   "interpreter": {
    "hash": "7d32b02fdc04bbf9b6c98ac9da1c791696b14f2596c133b22519c78c68994f46"
   }
  }
 },
 "nbformat": 4,
 "nbformat_minor": 2
}
